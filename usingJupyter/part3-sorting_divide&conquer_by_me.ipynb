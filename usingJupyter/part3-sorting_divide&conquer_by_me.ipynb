{
 "cells": [
  {
   "cell_type": "markdown",
   "id": "3c158c2f-dec6-46d5-9834-9a4b1e4fc5a6",
   "metadata": {},
   "source": [
    "## Problem"
   ]
  },
  {
   "cell_type": "markdown",
   "id": "02b90dfe-48f0-4892-b741-1491d44ebf15",
   "metadata": {},
   "source": [
    "QUESTION 1: You're working on a new feature on Jovian called \"Top Notebooks of the Week\". Write a function to sort a list of notebooks in decreasing order of likes. Keep in mind that up to millions of notebooks can be created every week, so your function needs to be as efficient as possible.\n",
    "\n"
   ]
  },
  {
   "cell_type": "markdown",
   "id": "fbaa8aee-5c76-4784-aa8c-df411ecd2546",
   "metadata": {},
   "source": [
    "The problem of sorting a list of objects comes up over and over in computer science and software development, and it's important to understand common approaches for sorting, and the trade-offs they offer. Before we solve the above problem, we'll solve a simplified version of the problem:\n",
    "\n",
    "QUESTION 2: Write a program to sort a list of numbers.\n",
    "\n",
    "\"Sorting\" usually refers to \"sorting in ascending order\", unless specified otherwise."
   ]
  },
  {
   "cell_type": "markdown",
   "id": "d9fd1e5b-25f8-49a6-aa9e-9459bf59b787",
   "metadata": {},
   "source": [
    "## Using step 1:\n",
    "so we need to define problem in our own words as we understand, then indentifiy input and output\n",
    "\n",
    "so basicaly it is a idea of sorting, we create a function of sorting.\n",
    "\n",
    "input is a list of different like a random, empty etc\n",
    "\n",
    "output is sorted list"
   ]
  },
  {
   "cell_type": "markdown",
   "id": "12746916-c802-4734-bb61-45d07b433e65",
   "metadata": {},
   "source": [
    "## Using Step2:\n",
    "here we need to ctreate some test cases"
   ]
  },
  {
   "cell_type": "code",
   "execution_count": 1,
   "id": "fe4d06c2-8fea-4875-863f-4f42ea1ef581",
   "metadata": {},
   "outputs": [],
   "source": [
    "# List of numbers in random order\n",
    "test0 = {\n",
    "    'input': {\n",
    "        'nums': [4, 2, 6, 3, 4, 6, 2, 1]\n",
    "    },\n",
    "    'output': [1, 2, 2, 3, 4, 4, 6, 6]\n",
    "}\n",
    "# List of numbers in random order\n",
    "test1 = {\n",
    "    'input': {\n",
    "        'nums': [5, 2, 6, 1, 23, 7, -12, 12, -243, 0]\n",
    "    },\n",
    "    'output': [-243, -12, 0, 1, 2, 5, 6, 7, 12, 23]\n",
    "}\n",
    "# A list that's already sorted\n",
    "test2 = {\n",
    "    'input': {\n",
    "        'nums': [3, 5, 6, 8, 9, 10, 99]\n",
    "    },\n",
    "    'output': [3, 5, 6, 8, 9, 10, 99]\n",
    "}\n",
    "# A list that's sorted in descending order\n",
    "test3 = {\n",
    "    'input': {\n",
    "        'nums': [99, 10, 9, 8, 6, 5, 3]\n",
    "    },\n",
    "    'output': [3, 5, 6, 8, 9, 10, 99]\n",
    "}\n",
    "# A list containing repeating elements\n",
    "test4 = {\n",
    "    'input': {\n",
    "        'nums': [5, -12, 2, 6, 1, 23, 7, 7, -12, 6, 12, 1, -243, 1, 0]\n",
    "    },\n",
    "    'output': [-243, -12, -12, 0, 1, 1, 1, 2, 5, 6, 6, 7, 7, 12, 23]\n",
    "}\n",
    "# An empty list \n",
    "test5 = {\n",
    "    'input': {\n",
    "        'nums': []\n",
    "    },\n",
    "    'output': []\n",
    "}\n",
    "# A list containing just one element\n",
    "test6 = {\n",
    "    'input': {\n",
    "        'nums': [23]\n",
    "    },\n",
    "    'output': [23]\n",
    "}\n",
    "# A list containing one element repeated many times\n",
    "test7 = {\n",
    "    'input': {\n",
    "        'nums': [42, 42, 42, 42, 42, 42, 42]\n",
    "    },\n",
    "    'output': [42, 42, 42, 42, 42, 42, 42]\n",
    "}"
   ]
  },
  {
   "cell_type": "code",
   "execution_count": 2,
   "id": "32484db1-a8db-46b5-b43b-e0db864242d4",
   "metadata": {},
   "outputs": [],
   "source": [
    "import random\n",
    "list_i=list(range(10000))\n",
    "list_o=list(range(10000))\n",
    "random.shuffle(list_i)"
   ]
  },
  {
   "cell_type": "code",
   "execution_count": 3,
   "id": "111e5967-80c7-4609-9f24-778e53af63da",
   "metadata": {},
   "outputs": [
    {
     "data": {
      "text/plain": [
       "[303, 8555, 6789, 9168, 8310, 9013, 1367, 3485, 2850, 3973]"
      ]
     },
     "execution_count": 3,
     "metadata": {},
     "output_type": "execute_result"
    }
   ],
   "source": [
    "list_i[:10]"
   ]
  },
  {
   "cell_type": "code",
   "execution_count": 4,
   "id": "379040c0-bbd0-4fc9-9c5b-a29e940b3a33",
   "metadata": {},
   "outputs": [],
   "source": [
    "test8={\n",
    "    'input':{\n",
    "    'nums':list_i\n",
    "    },\n",
    "    'output':list_o\n",
    "}"
   ]
  },
  {
   "cell_type": "code",
   "execution_count": 5,
   "id": "abe3f8fa-f0b2-4585-8508-7cfd8a0a1c50",
   "metadata": {},
   "outputs": [],
   "source": [
    "tests = [test0, test1, test2, test3, test4, test5, test6, test7, test8]"
   ]
  },
  {
   "cell_type": "markdown",
   "id": "e1959792-2912-4cb5-9226-d736d68e9eab",
   "metadata": {},
   "source": [
    "## Using step 3\n",
    "It's easy to come up with a correct solution. Here's one: \n",
    "\n",
    "1. Iterate over the list of numbers, starting from the left\n",
    "2. Compare each number with the number that follows it\n",
    "3. If the number is greater than the one that follows it, swap the two elements\n",
    "4. Repeat steps 1 to 3 till the list is sorted.\n",
    "\n",
    "We need to repeat steps 1 to 3 at most `n-1` times to ensure that the array is sorted. Can you explain why? Hint: After one iteration, the largest number in the list.\n",
    "\n",
    "This method is called bubble sort\n",
    "![](https://upload.wikimedia.org/wikipedia/commons/c/c8/Bubble-sort-example-300px.gif)"
   ]
  },
  {
   "cell_type": "markdown",
   "id": "1745db40-ca63-41ec-9036-097d139ff8f9",
   "metadata": {},
   "source": [
    "## Using step 4"
   ]
  },
  {
   "cell_type": "code",
   "execution_count": 6,
   "id": "9419a0dd-94c0-49a7-86a4-2237114cab3f",
   "metadata": {},
   "outputs": [],
   "source": [
    "def bubble_sort(nums):\n",
    "    nums=list(nums)\n",
    "    for i in range(len(nums)-1):\n",
    "        for j in range(len(nums)-1-i):\n",
    "            if nums[j]>nums[j+1]:\n",
    "                nums[j],nums[j+1]=nums[j+1],nums[j]\n",
    "    return nums"
   ]
  },
  {
   "cell_type": "code",
   "execution_count": 7,
   "id": "b06bda48-c1a8-4f93-af5f-ed4317749ca9",
   "metadata": {},
   "outputs": [
    {
     "data": {
      "text/plain": [
       "[303, 8555, 6789, 9168, 8310, 9013, 1367, 3485, 2850, 3973]"
      ]
     },
     "execution_count": 7,
     "metadata": {},
     "output_type": "execute_result"
    }
   ],
   "source": [
    "list_i[:10]"
   ]
  },
  {
   "cell_type": "code",
   "execution_count": 8,
   "id": "ab5cbd07-48ca-4de1-bf65-8e973055137e",
   "metadata": {},
   "outputs": [
    {
     "name": "stdout",
     "output_type": "stream",
     "text": [
      "CPU times: total: 6.03 s\n",
      "Wall time: 9.37 s\n"
     ]
    }
   ],
   "source": [
    "%%time\n",
    "res=bubble_sort(test8['input']['nums'])"
   ]
  },
  {
   "cell_type": "code",
   "execution_count": 9,
   "id": "6de92846-0618-4b60-bde1-329048986afc",
   "metadata": {},
   "outputs": [
    {
     "data": {
      "text/plain": [
       "[0, 1, 2, 3, 4, 5, 6, 7, 8, 9]"
      ]
     },
     "execution_count": 9,
     "metadata": {},
     "output_type": "execute_result"
    }
   ],
   "source": [
    "res[:10]"
   ]
  },
  {
   "cell_type": "code",
   "execution_count": 10,
   "id": "dfae9a0a-e774-4035-990b-579afde3c9e6",
   "metadata": {},
   "outputs": [
    {
     "data": {
      "application/javascript": [
       "if (window.IPython && IPython.notebook.kernel) IPython.notebook.kernel.execute('jovian.utils.jupyter.get_notebook_name_saved = lambda: \"' + IPython.notebook.notebook_name + '\"')"
      ],
      "text/plain": [
       "<IPython.core.display.Javascript object>"
      ]
     },
     "metadata": {},
     "output_type": "display_data"
    }
   ],
   "source": [
    "from jovian.pythondsa import evaluate_test_cases"
   ]
  },
  {
   "cell_type": "code",
   "execution_count": 11,
   "id": "d13e5a0e-2a15-4498-960a-a777547da934",
   "metadata": {},
   "outputs": [
    {
     "name": "stdout",
     "output_type": "stream",
     "text": [
      "\n",
      "\u001b[1mTEST CASE #0\u001b[0m\n",
      "\n",
      "Input:\n",
      "{'nums': [4, 2, 6, 3, 4, 6, 2, 1]}\n",
      "\n",
      "Expected Output:\n",
      "[1, 2, 2, 3, 4, 4, 6, 6]\n",
      "\n",
      "\n",
      "Actual Output:\n",
      "[1, 2, 2, 3, 4, 4, 6, 6]\n",
      "\n",
      "Execution Time:\n",
      "0.02 ms\n",
      "\n",
      "Test Result:\n",
      "\u001b[92mPASSED\u001b[0m\n",
      "\n",
      "\n",
      "\u001b[1mTEST CASE #1\u001b[0m\n",
      "\n",
      "Input:\n",
      "{'nums': [5, 2, 6, 1, 23, 7, -12, 12, -243, 0]}\n",
      "\n",
      "Expected Output:\n",
      "[-243, -12, 0, 1, 2, 5, 6, 7, 12, 23]\n",
      "\n",
      "\n",
      "Actual Output:\n",
      "[-243, -12, 0, 1, 2, 5, 6, 7, 12, 23]\n",
      "\n",
      "Execution Time:\n",
      "0.023 ms\n",
      "\n",
      "Test Result:\n",
      "\u001b[92mPASSED\u001b[0m\n",
      "\n",
      "\n",
      "\u001b[1mTEST CASE #2\u001b[0m\n",
      "\n",
      "Input:\n",
      "{'nums': [3, 5, 6, 8, 9, 10, 99]}\n",
      "\n",
      "Expected Output:\n",
      "[3, 5, 6, 8, 9, 10, 99]\n",
      "\n",
      "\n",
      "Actual Output:\n",
      "[3, 5, 6, 8, 9, 10, 99]\n",
      "\n",
      "Execution Time:\n",
      "0.011 ms\n",
      "\n",
      "Test Result:\n",
      "\u001b[92mPASSED\u001b[0m\n",
      "\n",
      "\n",
      "\u001b[1mTEST CASE #3\u001b[0m\n",
      "\n",
      "Input:\n",
      "{'nums': [99, 10, 9, 8, 6, 5, 3]}\n",
      "\n",
      "Expected Output:\n",
      "[3, 5, 6, 8, 9, 10, 99]\n",
      "\n",
      "\n",
      "Actual Output:\n",
      "[3, 5, 6, 8, 9, 10, 99]\n",
      "\n",
      "Execution Time:\n",
      "0.017 ms\n",
      "\n",
      "Test Result:\n",
      "\u001b[92mPASSED\u001b[0m\n",
      "\n",
      "\n",
      "\u001b[1mTEST CASE #4\u001b[0m\n",
      "\n",
      "Input:\n",
      "{'nums': [5, -12, 2, 6, 1, 23, 7, 7, -12, 6, 12, 1, -243, 1, 0]}\n",
      "\n",
      "Expected Output:\n",
      "[-243, -12, -12, 0, 1, 1, 1, 2, 5, 6, 6, 7, 7, 12, 23]\n",
      "\n",
      "\n",
      "Actual Output:\n",
      "[-243, -12, -12, 0, 1, 1, 1, 2, 5, 6, 6, 7, 7, 12, 23]\n",
      "\n",
      "Execution Time:\n",
      "0.038 ms\n",
      "\n",
      "Test Result:\n",
      "\u001b[92mPASSED\u001b[0m\n",
      "\n",
      "\n",
      "\u001b[1mTEST CASE #5\u001b[0m\n",
      "\n",
      "Input:\n",
      "{'nums': []}\n",
      "\n",
      "Expected Output:\n",
      "[]\n",
      "\n",
      "\n",
      "Actual Output:\n",
      "[]\n",
      "\n",
      "Execution Time:\n",
      "0.005 ms\n",
      "\n",
      "Test Result:\n",
      "\u001b[92mPASSED\u001b[0m\n",
      "\n",
      "\n",
      "\u001b[1mTEST CASE #6\u001b[0m\n",
      "\n",
      "Input:\n",
      "{'nums': [23]}\n",
      "\n",
      "Expected Output:\n",
      "[23]\n",
      "\n",
      "\n",
      "Actual Output:\n",
      "[23]\n",
      "\n",
      "Execution Time:\n",
      "0.004 ms\n",
      "\n",
      "Test Result:\n",
      "\u001b[92mPASSED\u001b[0m\n",
      "\n",
      "\n",
      "\u001b[1mTEST CASE #7\u001b[0m\n",
      "\n",
      "Input:\n",
      "{'nums': [42, 42, 42, 42, 42, 42, 42]}\n",
      "\n",
      "Expected Output:\n",
      "[42, 42, 42, 42, 42, 42, 42]\n",
      "\n",
      "\n",
      "Actual Output:\n",
      "[42, 42, 42, 42, 42, 42, 42]\n",
      "\n",
      "Execution Time:\n",
      "0.013 ms\n",
      "\n",
      "Test Result:\n",
      "\u001b[92mPASSED\u001b[0m\n",
      "\n",
      "\n",
      "\u001b[1mTEST CASE #8\u001b[0m\n",
      "\n",
      "Input:\n",
      "{'nums': [303, 8555, 6789, 9168, 8310, 9013, 1367, 3485, 2850, 3973, 7855, 808, 6748, 8948, 1265, 64...\n",
      "\n",
      "Expected Output:\n",
      "[0, 1, 2, 3, 4, 5, 6, 7, 8, 9, 10, 11, 12, 13, 14, 15, 16, 17, 18, 19, 20, 21, 22, 23, 24, 25, 26, 2...\n",
      "\n",
      "\n",
      "Actual Output:\n",
      "[0, 1, 2, 3, 4, 5, 6, 7, 8, 9, 10, 11, 12, 13, 14, 15, 16, 17, 18, 19, 20, 21, 22, 23, 24, 25, 26, 2...\n",
      "\n",
      "Execution Time:\n",
      "8856.402 ms\n",
      "\n",
      "Test Result:\n",
      "\u001b[92mPASSED\u001b[0m\n",
      "\n",
      "\n",
      "\u001b[1mSUMMARY\u001b[0m\n",
      "\n",
      "TOTAL: 9, \u001b[92mPASSED\u001b[0m: 9, \u001b[91mFAILED\u001b[0m: 0\n"
     ]
    }
   ],
   "source": [
    "results = evaluate_test_cases(bubble_sort, tests)"
   ]
  },
  {
   "cell_type": "code",
   "execution_count": 12,
   "id": "8615ee78-e289-43ef-b84b-26df23d5afb4",
   "metadata": {},
   "outputs": [],
   "source": [
    "def insertion_sort(nums):\n",
    "    nums = list(nums)\n",
    "    for i in range(len(nums)):\n",
    "        cur = nums.pop(i)\n",
    "        print(\"cur:\",cur)\n",
    "        j = i-1\n",
    "        while j >=0 and nums[j] > cur:\n",
    "            j -= 1\n",
    "            print(j)\n",
    "        nums.insert(j+1, cur)\n",
    "        print(\"nums\",nums)\n",
    "    return nums   "
   ]
  },
  {
   "cell_type": "code",
   "execution_count": 13,
   "id": "3e7ada7e-4fab-4f25-83b0-66b5593e4298",
   "metadata": {},
   "outputs": [
    {
     "name": "stdout",
     "output_type": "stream",
     "text": [
      "cur: 5\n",
      "nums [5, 7, 2, 3, 6]\n",
      "cur: 7\n",
      "nums [5, 7, 2, 3, 6]\n",
      "cur: 2\n",
      "0\n",
      "-1\n",
      "nums [2, 5, 7, 3, 6]\n",
      "cur: 3\n",
      "1\n",
      "0\n",
      "nums [2, 3, 5, 7, 6]\n",
      "cur: 6\n",
      "2\n",
      "nums [2, 3, 5, 6, 7]\n"
     ]
    },
    {
     "data": {
      "text/plain": [
       "[2, 3, 5, 6, 7]"
      ]
     },
     "execution_count": 13,
     "metadata": {},
     "output_type": "execute_result"
    }
   ],
   "source": [
    "insertion_sort([5,7,2,3,6])"
   ]
  },
  {
   "cell_type": "markdown",
   "id": "c4dc0c21-2ad3-4948-9afc-67394b4d51a2",
   "metadata": {},
   "source": [
    "## Merge sort"
   ]
  },
  {
   "cell_type": "code",
   "execution_count": null,
   "id": "c22959fd-2e60-4aa1-b451-05461785beed",
   "metadata": {},
   "outputs": [],
   "source": []
  },
  {
   "cell_type": "code",
   "execution_count": 14,
   "id": "9e93a493-ff95-46d0-a3a4-216098dfc768",
   "metadata": {},
   "outputs": [],
   "source": [
    "def merge_sort(nums):\n",
    "    if len(nums)<=1:\n",
    "        return nums\n",
    "    mid=len(nums)//2\n",
    "    return merge(merge_sort(nums[:mid]),merge_sort(nums[mid:]))\n",
    "\n",
    "def merge(nums1,nums2):\n",
    "    i,j,merge=0,0,[]\n",
    "    while i<len(nums1) and j<len(nums2):\n",
    "        if nums1[i]>nums2[j]:\n",
    "            merge.append(nums2[j])\n",
    "            j=j+1\n",
    "        else:\n",
    "            merge.append(nums1[i])\n",
    "            i=i+1\n",
    "    return merge+nums1[i:]+nums2[j:]"
   ]
  },
  {
   "cell_type": "code",
   "execution_count": 15,
   "id": "e5be4e8c-ad53-445e-ac35-444f670357cf",
   "metadata": {},
   "outputs": [
    {
     "data": {
      "text/plain": [
       "['a', 'd', 's']"
      ]
     },
     "execution_count": 15,
     "metadata": {},
     "output_type": "execute_result"
    }
   ],
   "source": [
    "merge_sort(['d','s','a'])"
   ]
  },
  {
   "cell_type": "code",
   "execution_count": 16,
   "id": "901a1af0-9e10-4f6c-afa7-27b02378d40b",
   "metadata": {},
   "outputs": [
    {
     "name": "stdout",
     "output_type": "stream",
     "text": [
      "\n",
      "\u001b[1mTEST CASE #0\u001b[0m\n",
      "\n",
      "Input:\n",
      "{'nums': [4, 2, 6, 3, 4, 6, 2, 1]}\n",
      "\n",
      "Expected Output:\n",
      "[1, 2, 2, 3, 4, 4, 6, 6]\n",
      "\n",
      "\n",
      "Actual Output:\n",
      "[1, 2, 2, 3, 4, 4, 6, 6]\n",
      "\n",
      "Execution Time:\n",
      "0.051 ms\n",
      "\n",
      "Test Result:\n",
      "\u001b[92mPASSED\u001b[0m\n",
      "\n",
      "\n",
      "\u001b[1mTEST CASE #1\u001b[0m\n",
      "\n",
      "Input:\n",
      "{'nums': [5, 2, 6, 1, 23, 7, -12, 12, -243, 0]}\n",
      "\n",
      "Expected Output:\n",
      "[-243, -12, 0, 1, 2, 5, 6, 7, 12, 23]\n",
      "\n",
      "\n",
      "Actual Output:\n",
      "[-243, -12, 0, 1, 2, 5, 6, 7, 12, 23]\n",
      "\n",
      "Execution Time:\n",
      "0.032 ms\n",
      "\n",
      "Test Result:\n",
      "\u001b[92mPASSED\u001b[0m\n",
      "\n",
      "\n",
      "\u001b[1mTEST CASE #2\u001b[0m\n",
      "\n",
      "Input:\n",
      "{'nums': [3, 5, 6, 8, 9, 10, 99]}\n",
      "\n",
      "Expected Output:\n",
      "[3, 5, 6, 8, 9, 10, 99]\n",
      "\n",
      "\n",
      "Actual Output:\n",
      "[3, 5, 6, 8, 9, 10, 99]\n",
      "\n",
      "Execution Time:\n",
      "0.022 ms\n",
      "\n",
      "Test Result:\n",
      "\u001b[92mPASSED\u001b[0m\n",
      "\n",
      "\n",
      "\u001b[1mTEST CASE #3\u001b[0m\n",
      "\n",
      "Input:\n",
      "{'nums': [99, 10, 9, 8, 6, 5, 3]}\n",
      "\n",
      "Expected Output:\n",
      "[3, 5, 6, 8, 9, 10, 99]\n",
      "\n",
      "\n",
      "Actual Output:\n",
      "[3, 5, 6, 8, 9, 10, 99]\n",
      "\n",
      "Execution Time:\n",
      "0.023 ms\n",
      "\n",
      "Test Result:\n",
      "\u001b[92mPASSED\u001b[0m\n",
      "\n",
      "\n",
      "\u001b[1mTEST CASE #4\u001b[0m\n",
      "\n",
      "Input:\n",
      "{'nums': [5, -12, 2, 6, 1, 23, 7, 7, -12, 6, 12, 1, -243, 1, 0]}\n",
      "\n",
      "Expected Output:\n",
      "[-243, -12, -12, 0, 1, 1, 1, 2, 5, 6, 6, 7, 7, 12, 23]\n",
      "\n",
      "\n",
      "Actual Output:\n",
      "[-243, -12, -12, 0, 1, 1, 1, 2, 5, 6, 6, 7, 7, 12, 23]\n",
      "\n",
      "Execution Time:\n",
      "0.051 ms\n",
      "\n",
      "Test Result:\n",
      "\u001b[92mPASSED\u001b[0m\n",
      "\n",
      "\n",
      "\u001b[1mTEST CASE #5\u001b[0m\n",
      "\n",
      "Input:\n",
      "{'nums': []}\n",
      "\n",
      "Expected Output:\n",
      "[]\n",
      "\n",
      "\n",
      "Actual Output:\n",
      "[]\n",
      "\n",
      "Execution Time:\n",
      "0.007 ms\n",
      "\n",
      "Test Result:\n",
      "\u001b[92mPASSED\u001b[0m\n",
      "\n",
      "\n",
      "\u001b[1mTEST CASE #6\u001b[0m\n",
      "\n",
      "Input:\n",
      "{'nums': [23]}\n",
      "\n",
      "Expected Output:\n",
      "[23]\n",
      "\n",
      "\n",
      "Actual Output:\n",
      "[23]\n",
      "\n",
      "Execution Time:\n",
      "0.003 ms\n",
      "\n",
      "Test Result:\n",
      "\u001b[92mPASSED\u001b[0m\n",
      "\n",
      "\n",
      "\u001b[1mTEST CASE #7\u001b[0m\n",
      "\n",
      "Input:\n",
      "{'nums': [42, 42, 42, 42, 42, 42, 42]}\n",
      "\n",
      "Expected Output:\n",
      "[42, 42, 42, 42, 42, 42, 42]\n",
      "\n",
      "\n",
      "Actual Output:\n",
      "[42, 42, 42, 42, 42, 42, 42]\n",
      "\n",
      "Execution Time:\n",
      "0.018 ms\n",
      "\n",
      "Test Result:\n",
      "\u001b[92mPASSED\u001b[0m\n",
      "\n",
      "\n",
      "\u001b[1mTEST CASE #8\u001b[0m\n",
      "\n",
      "Input:\n",
      "{'nums': [303, 8555, 6789, 9168, 8310, 9013, 1367, 3485, 2850, 3973, 7855, 808, 6748, 8948, 1265, 64...\n",
      "\n",
      "Expected Output:\n",
      "[0, 1, 2, 3, 4, 5, 6, 7, 8, 9, 10, 11, 12, 13, 14, 15, 16, 17, 18, 19, 20, 21, 22, 23, 24, 25, 26, 2...\n",
      "\n",
      "\n",
      "Actual Output:\n",
      "[0, 1, 2, 3, 4, 5, 6, 7, 8, 9, 10, 11, 12, 13, 14, 15, 16, 17, 18, 19, 20, 21, 22, 23, 24, 25, 26, 2...\n",
      "\n",
      "Execution Time:\n",
      "41.465 ms\n",
      "\n",
      "Test Result:\n",
      "\u001b[92mPASSED\u001b[0m\n",
      "\n",
      "\n",
      "\u001b[1mSUMMARY\u001b[0m\n",
      "\n",
      "TOTAL: 9, \u001b[92mPASSED\u001b[0m: 9, \u001b[91mFAILED\u001b[0m: 0\n"
     ]
    }
   ],
   "source": [
    "res=evaluate_test_cases(merge_sort,tests)"
   ]
  },
  {
   "cell_type": "markdown",
   "id": "0176d63a-35e3-4b39-98d0-770af5043c33",
   "metadata": {},
   "source": [
    "We can now see that each `merge_sort` call itself invokes `merge_sort` twice (but with an array half the size), and also invokes the `merge` function once to merge the two resulting arrays. The two calls to `merge_sort` themselves make two recursive calls followed by an invocation of `merge`. The division continues till we reach an list of size 1 or 0. Thus, the merge sort algorithm ultimately boils down to a series of `merge` operations performed on arrays of varying sizes. Inside the `merge` function we perform comparisons and add numbers to a new array.\n",
    "\n",
    "**Exercise:** Verify that time complexity of the merge operation is $O(n)$, where $n$ is the sum of the sizes of the two input lists. Hint: Count the number of comparisons.\n",
    "\n",
    "To find the overall complexity of `merge_sort`, we simply need to count how many times the `merge` function was invoked and the size of the input list for each invocation. Here's how all the subproblems can be visualized:\n",
    "\n",
    "\n",
    "![](https://i.imgur.com/j1IuS2t.png)\n",
    "\n",
    "Counting from the top and starting from 0, the $k^{th}$ level of the above tree involves $2^k$ invocations of `merge` with sublists of size roughly $n / 2^k$, where $n$ is the size of the original input list. Therefore the total number of comparisons at each level of the tree is $2^k * n/2^k = n$.\n",
    "\n",
    "Thus, if the height of the tree is $h$, the total number of comparisons is $n*h$. Since there are $n$ sublists of size 1 at the lowest level, it follows that $2^{(h-1)} = n$ i.e. $h = \\log n + 1$. Thus the time complexity of the merge sort algorithms is $O(n \\log n)$.\n",
    "\n",
    "As we already saw, it took just 50 ms to sort an array of 10,000 elements. Even an array of 1 million elements will take only a few seconds to be sorted.\n",
    "\n",
    "\n",
    "### Space Complexity\n",
    "\n",
    "\n",
    "\n",
    "\n",
    "To find the space complexity of merge sort, it helps to recall that a new list with equal to the sum of the sizes of the two lists is created in each invocation of `merge`. \n",
    "\n",
    "```\n",
    "i, j, merged = 0, 0, []\n",
    "while i < len(nums1) and j < len(nums2):\n",
    "    if nums1[i] <= nums2[j]:\n",
    "        merged.append(nums1[i])\n",
    "        i += 1\n",
    "    else:\n",
    "        merged.append(nums2[j])\n",
    "        j += 1\n",
    "```\n",
    "\n",
    "\n",
    "At first glance, it may seem that $O(n)$ space is required for each level of the tree, so the space complexity of merge sort is $O(n \\log n)$.\n",
    "\n",
    "![](https://i.imgur.com/KTbibGC.png)\n",
    "\n",
    "However, since the original sublists can be discarded after the `merge` operation, the additional space can be freed or reused for future merge calls. Thus, merge sort requires $O(n)$ additional space i.e. the space complexity is $O(n)$.\n",
    "\n",
    "\n",
    "There are several extensions and variations and extensions of merge sort:\n",
    "\n",
    "* K-way merge sort: https://en.wikipedia.org/wiki/K-way_merge_algorithm\n",
    "* Counting inversions in an array: https://www.geeksforgeeks.org/counting-inversions/\n",
    "* Merge sort and insertion sort hybrids: https://en.wikipedia.org/wiki/Timsort\n"
   ]
  },
  {
   "cell_type": "markdown",
   "id": "3c7330b4-a32b-4b6c-a2f5-09b450b4d57b",
   "metadata": {},
   "source": [
    "## Quick sort"
   ]
  },
  {
   "cell_type": "code",
   "execution_count": 17,
   "id": "03b10dc4-7adf-49a6-8eb4-d3c83653ff17",
   "metadata": {},
   "outputs": [],
   "source": [
    "def quick_sort(nums,start=0,end=None):\n",
    "    if end is None:\n",
    "        end=len(nums)-1\n",
    "    if start<end:\n",
    "        pivot=partition(nums,start,end)\n",
    "        quick_sort(nums,start,pivot-1)\n",
    "        quick_sort(nums,pivot+1,end)\n",
    "    return nums\n",
    "def partition(nums,start,end):\n",
    "    l,r=start, end-1\n",
    "    while l<r:\n",
    "        if nums[l]<=nums[end]:\n",
    "            l+=1\n",
    "        elif nums[r]>nums[end]:\n",
    "            r-=1\n",
    "        else:\n",
    "            nums[l],nums[r]=nums[r],nums[l]\n",
    "    if nums[l]>nums[end]:\n",
    "        nums[l],nums[end]=nums[end],nums[l]\n",
    "        return l\n",
    "    else:\n",
    "        return end\n",
    "    return "
   ]
  },
  {
   "cell_type": "code",
   "execution_count": 18,
   "id": "c837d821-7a54-4624-b8ea-a72017fa3c3c",
   "metadata": {},
   "outputs": [],
   "source": [
    "res=quick_sort(test0['input']['nums'])"
   ]
  },
  {
   "cell_type": "code",
   "execution_count": 19,
   "id": "e86c698c-b2d4-40ed-93f2-d98015a2a17e",
   "metadata": {},
   "outputs": [
    {
     "data": {
      "text/plain": [
       "[1, 2, 2, 3, 4, 4, 6, 6]"
      ]
     },
     "execution_count": 19,
     "metadata": {},
     "output_type": "execute_result"
    }
   ],
   "source": [
    "res"
   ]
  },
  {
   "cell_type": "code",
   "execution_count": 20,
   "id": "7257bbd1-6325-4ea6-ba2c-369971c0e25a",
   "metadata": {},
   "outputs": [
    {
     "name": "stdout",
     "output_type": "stream",
     "text": [
      "\n",
      "\u001b[1mTEST CASE #0\u001b[0m\n",
      "\n",
      "Input:\n",
      "{'nums': [1, 2, 2, 3, 4, 4, 6, 6]}\n",
      "\n",
      "Expected Output:\n",
      "[1, 2, 2, 3, 4, 4, 6, 6]\n",
      "\n",
      "\n",
      "Actual Output:\n",
      "[1, 2, 2, 3, 4, 4, 6, 6]\n",
      "\n",
      "Execution Time:\n",
      "0.018 ms\n",
      "\n",
      "Test Result:\n",
      "\u001b[92mPASSED\u001b[0m\n",
      "\n",
      "\n",
      "\u001b[1mTEST CASE #1\u001b[0m\n",
      "\n",
      "Input:\n",
      "{'nums': [-243, -12, 0, 1, 2, 5, 6, 7, 12, 23]}\n",
      "\n",
      "Expected Output:\n",
      "[-243, -12, 0, 1, 2, 5, 6, 7, 12, 23]\n",
      "\n",
      "\n",
      "Actual Output:\n",
      "[-243, -12, 0, 1, 2, 5, 6, 7, 12, 23]\n",
      "\n",
      "Execution Time:\n",
      "0.012 ms\n",
      "\n",
      "Test Result:\n",
      "\u001b[92mPASSED\u001b[0m\n",
      "\n",
      "\n",
      "\u001b[1mTEST CASE #2\u001b[0m\n",
      "\n",
      "Input:\n",
      "{'nums': [3, 5, 6, 8, 9, 10, 99]}\n",
      "\n",
      "Expected Output:\n",
      "[3, 5, 6, 8, 9, 10, 99]\n",
      "\n",
      "\n",
      "Actual Output:\n",
      "[3, 5, 6, 8, 9, 10, 99]\n",
      "\n",
      "Execution Time:\n",
      "0.011 ms\n",
      "\n",
      "Test Result:\n",
      "\u001b[92mPASSED\u001b[0m\n",
      "\n",
      "\n",
      "\u001b[1mTEST CASE #3\u001b[0m\n",
      "\n",
      "Input:\n",
      "{'nums': [3, 5, 6, 8, 9, 10, 99]}\n",
      "\n",
      "Expected Output:\n",
      "[3, 5, 6, 8, 9, 10, 99]\n",
      "\n",
      "\n",
      "Actual Output:\n",
      "[3, 5, 6, 8, 9, 10, 99]\n",
      "\n",
      "Execution Time:\n",
      "0.009 ms\n",
      "\n",
      "Test Result:\n",
      "\u001b[92mPASSED\u001b[0m\n",
      "\n",
      "\n",
      "\u001b[1mTEST CASE #4\u001b[0m\n",
      "\n",
      "Input:\n",
      "{'nums': [-243, -12, -12, 0, 1, 1, 1, 2, 5, 6, 6, 7, 7, 12, 23]}\n",
      "\n",
      "Expected Output:\n",
      "[-243, -12, -12, 0, 1, 1, 1, 2, 5, 6, 6, 7, 7, 12, 23]\n",
      "\n",
      "\n",
      "Actual Output:\n",
      "[-243, -12, -12, 0, 1, 1, 1, 2, 5, 6, 6, 7, 7, 12, 23]\n",
      "\n",
      "Execution Time:\n",
      "0.021 ms\n",
      "\n",
      "Test Result:\n",
      "\u001b[92mPASSED\u001b[0m\n",
      "\n",
      "\n",
      "\u001b[1mTEST CASE #5\u001b[0m\n",
      "\n",
      "Input:\n",
      "{'nums': []}\n",
      "\n",
      "Expected Output:\n",
      "[]\n",
      "\n",
      "\n",
      "Actual Output:\n",
      "[]\n",
      "\n",
      "Execution Time:\n",
      "0.002 ms\n",
      "\n",
      "Test Result:\n",
      "\u001b[92mPASSED\u001b[0m\n",
      "\n",
      "\n",
      "\u001b[1mTEST CASE #6\u001b[0m\n",
      "\n",
      "Input:\n",
      "{'nums': [23]}\n",
      "\n",
      "Expected Output:\n",
      "[23]\n",
      "\n",
      "\n",
      "Actual Output:\n",
      "[23]\n",
      "\n",
      "Execution Time:\n",
      "0.002 ms\n",
      "\n",
      "Test Result:\n",
      "\u001b[92mPASSED\u001b[0m\n",
      "\n",
      "\n",
      "\u001b[1mTEST CASE #7\u001b[0m\n",
      "\n",
      "Input:\n",
      "{'nums': [42, 42, 42, 42, 42, 42, 42]}\n",
      "\n",
      "Expected Output:\n",
      "[42, 42, 42, 42, 42, 42, 42]\n",
      "\n",
      "\n",
      "Actual Output:\n",
      "[42, 42, 42, 42, 42, 42, 42]\n",
      "\n",
      "Execution Time:\n",
      "0.012 ms\n",
      "\n",
      "Test Result:\n",
      "\u001b[92mPASSED\u001b[0m\n",
      "\n",
      "\n",
      "\u001b[1mTEST CASE #8\u001b[0m\n",
      "\n",
      "Input:\n",
      "{'nums': [0, 1, 2, 3, 4, 5, 6, 7, 8, 9, 10, 11, 12, 13, 14, 15, 16, 17, 18, 19, 20, 21, 22, 23, 24, ...\n",
      "\n",
      "Expected Output:\n",
      "[0, 1, 2, 3, 4, 5, 6, 7, 8, 9, 10, 11, 12, 13, 14, 15, 16, 17, 18, 19, 20, 21, 22, 23, 24, 25, 26, 2...\n",
      "\n",
      "\n",
      "Actual Output:\n",
      "[0, 1, 2, 3, 4, 5, 6, 7, 8, 9, 10, 11, 12, 13, 14, 15, 16, 17, 18, 19, 20, 21, 22, 23, 24, 25, 26, 2...\n",
      "\n",
      "Execution Time:\n",
      "27.622 ms\n",
      "\n",
      "Test Result:\n",
      "\u001b[92mPASSED\u001b[0m\n",
      "\n",
      "\n",
      "\u001b[1mSUMMARY\u001b[0m\n",
      "\n",
      "TOTAL: 9, \u001b[92mPASSED\u001b[0m: 9, \u001b[91mFAILED\u001b[0m: 0\n"
     ]
    }
   ],
   "source": [
    "res=evaluate_test_cases(quick_sort,tests)"
   ]
  },
  {
   "cell_type": "markdown",
   "id": "6a6dcddd-5e44-4e0d-aa49-be220a7db5e4",
   "metadata": {},
   "source": [
    "### Time Complexity of Quicksort\n",
    "\n",
    "If we assume that \n",
    "\n",
    "\n",
    "Best case partitioning:\n",
    "\n",
    "<img src=\"https://i.imgur.com/DgvYvnG.png\" width=\"480\">\n",
    "\n",
    "\n",
    "If we partition the list into two nearly equal parts, then the complexity analysis is similar to that of merge sort and quicksort has the complexity $O(n \\log n)$. This is called the average-case complexity.\n",
    "\n",
    "\n",
    "Worst case partitioning:\n",
    "\n",
    "\n",
    "<img src=\"https://cdn.kastatic.org/ka-perseus-images/7da2ac32779bef669a6f05decb62f219a9132158.png\" width=\"480\">\n",
    "\n",
    "In this case, the partition is called `n` times with lists of sizes `n`, `n-1`... so that total comparisions are $n + (n-1) + (n-2) + ... + 2 + 1 = n * (n-1) / 2$. So the worst-case complexity of quicksort is $O(n^2)$.\n",
    "\n",
    "**Exercise:** Verify that quicksort requires $O(1)$ additional space.\n",
    "\n",
    "Despite the quadratic worst case time complexity Quicksort is preferred in many situations because its running time is closer to $O(n \\log n)$ in practice, especially with a good strategy for picking a pivot. Some these are:\n",
    "\n",
    "- [Picking a random pivot](https://cs.stackexchange.com/questions/7582/what-is-the-advantage-of-randomized-quicksort)\n",
    "- [Picking median of medians](https://en.wikipedia.org/wiki/Median_of_medians)\n",
    "\n",
    "\n",
    "Here are some other problems you can solve using the partitioning strategy of Quicksort: https://www.techiedelight.com/problems-solved-using-partitioning-logic-quicksort/\n",
    "\n",
    "\n",
    "\n"
   ]
  },
  {
   "cell_type": "markdown",
   "id": "a0234112-239d-43f4-8880-59a4443fc31d",
   "metadata": {},
   "source": [
    "## Coming to our Actual first question"
   ]
  },
  {
   "cell_type": "code",
   "execution_count": 3,
   "id": "0d8d9a1b-c45d-4f75-a324-77b0bcc3203b",
   "metadata": {},
   "outputs": [],
   "source": [
    "class Notebook:\n",
    "    def __init__(self,title,username,likes):\n",
    "        self.title=title\n",
    "        self.username=username\n",
    "        self.likes=likes\n",
    "    def __repr__(self):\n",
    "        return f\"Notebook: {self.title}, {self.username},{self.likes}\""
   ]
  },
  {
   "cell_type": "code",
   "execution_count": 10,
   "id": "8b4ad941-0230-43a8-a563-7cfef93ec74a",
   "metadata": {},
   "outputs": [],
   "source": [
    "nb0=Notebook('Python-function','user1',545)\n",
    "nb1=Notebook('Python-array','user2',458)\n",
    "nb2=Notebook('Python-class and obj','user3',557)\n",
    "nb3=Notebook('Python-oops','user4',565)\n",
    "nb4=Notebook('Python-oops','user5',55)\n",
    "nb5=Notebook('Python-list','user6',56)\n",
    "nb6=Notebook('Python-tuples','user7',65)\n",
    "nb7=Notebook('Python-dictinory','user8',505)\n",
    "nb8=Notebook('Python-memory','user9',765)\n"
   ]
  },
  {
   "cell_type": "code",
   "execution_count": 5,
   "id": "6207b87d-dca4-4e94-878b-7b7ddcd11973",
   "metadata": {},
   "outputs": [],
   "source": [
    "def custom_compare(n1,n2):\n",
    "    if n1.likes<=n2.likes:\n",
    "        return 'lesser'\n",
    "    else: \n",
    "        return 'greater'"
   ]
  },
  {
   "cell_type": "code",
   "execution_count": 11,
   "id": "9280da89-78d8-47bf-be1a-c3826532eae8",
   "metadata": {},
   "outputs": [
    {
     "data": {
      "text/plain": [
       "[Notebook: Python-function, user1,545,\n",
       " Notebook: Python-array, user2,458,\n",
       " Notebook: Python-class and obj, user3,557,\n",
       " Notebook: Python-oops, user4,565,\n",
       " Notebook: Python-oops, user5,55,\n",
       " Notebook: Python-list, user6,56,\n",
       " Notebook: Python-tuples, user7,65,\n",
       " Notebook: Python-dictinory, user8,505,\n",
       " Notebook: Python-memory, user9,765]"
      ]
     },
     "execution_count": 11,
     "metadata": {},
     "output_type": "execute_result"
    }
   ],
   "source": [
    "notebooks=[nb0,nb1,nb2,nb3,nb4,nb5,nb6,nb7,nb8]\n",
    "notebooks"
   ]
  },
  {
   "cell_type": "code",
   "execution_count": 25,
   "id": "b0482cf9-64aa-4362-8a53-0bb81e0c0155",
   "metadata": {},
   "outputs": [
    {
     "data": {
      "text/plain": [
       "545"
      ]
     },
     "execution_count": 25,
     "metadata": {},
     "output_type": "execute_result"
    }
   ],
   "source": [
    "nb0.likes"
   ]
  },
  {
   "cell_type": "code",
   "execution_count": 7,
   "id": "305d5e6f-d0c6-4a59-996f-00f8bdf3d089",
   "metadata": {},
   "outputs": [],
   "source": [
    "def merge_sort(nums,compare):\n",
    "    if len(nums)<=1:\n",
    "        return nums\n",
    "    mid=len(nums)//2\n",
    "    return merge(merge_sort(nums[:mid],compare),merge_sort(nums[mid:],compare),compare)\n",
    "def merge(n1,n2,compare):\n",
    "    i,j,merged=0,0,[]\n",
    "    while i<len(n1) and j<len(n2):\n",
    "        res=compare(n1[i],n2[j])\n",
    "        if res=='greater':\n",
    "            merged.append(n1[i])\n",
    "            i=i+1\n",
    "        elif res=='lesser':\n",
    "            merged.append(n2[j])\n",
    "            j=j+1\n",
    "    return merged+n1[i:]+n2[j:]"
   ]
  },
  {
   "cell_type": "code",
   "execution_count": 46,
   "id": "ef425cdf-6b7f-48d1-8d55-eda52ac3f7a0",
   "metadata": {},
   "outputs": [
    {
     "data": {
      "text/plain": [
       "[Notebook: Python-function, user1,545,\n",
       " Notebook: Python-array, user2,458,\n",
       " Notebook: Python-class and obj, user3,557,\n",
       " Notebook: Python-oops1, user4,565,\n",
       " Notebook: Python-oops2, user5,55,\n",
       " Notebook: Python-list, user6,56,\n",
       " Notebook: Python-tuples, user7,65,\n",
       " Notebook: Python-dictinory, user8,505,\n",
       " Notebook: Python-memory, user9,765]"
      ]
     },
     "execution_count": 46,
     "metadata": {},
     "output_type": "execute_result"
    }
   ],
   "source": [
    "notebooks"
   ]
  },
  {
   "cell_type": "code",
   "execution_count": 53,
   "id": "65a52293-afce-4297-ba03-271032f94674",
   "metadata": {},
   "outputs": [
    {
     "data": {
      "text/plain": [
       "[Notebook: Python-memory, user9,765,\n",
       " Notebook: Python-oops1, user4,565,\n",
       " Notebook: Python-class and obj, user3,557,\n",
       " Notebook: Python-function, user1,545,\n",
       " Notebook: Python-dictinory, user8,505,\n",
       " Notebook: Python-array, user2,458,\n",
       " Notebook: Python-tuples, user7,65,\n",
       " Notebook: Python-list, user6,56,\n",
       " Notebook: Python-oops2, user5,55]"
      ]
     },
     "execution_count": 53,
     "metadata": {},
     "output_type": "execute_result"
    }
   ],
   "source": [
    "merge_sort(notebooks,custom_compare)"
   ]
  },
  {
   "cell_type": "code",
   "execution_count": 56,
   "id": "a6692248-0d71-4b57-bc7d-65ca3460de5c",
   "metadata": {},
   "outputs": [],
   "source": [
    "def compare_title(n1,n2):\n",
    "    if n1.title>n2.title: #increment\n",
    "        return 'lesser'\n",
    "    else:\n",
    "        return 'greater'"
   ]
  },
  {
   "cell_type": "code",
   "execution_count": 57,
   "id": "9afaec76-bb4f-404d-b407-6b0d4586ea11",
   "metadata": {},
   "outputs": [
    {
     "data": {
      "text/plain": [
       "[Notebook: Python-array, user2,458,\n",
       " Notebook: Python-class and obj, user3,557,\n",
       " Notebook: Python-dictinory, user8,505,\n",
       " Notebook: Python-function, user1,545,\n",
       " Notebook: Python-list, user6,56,\n",
       " Notebook: Python-memory, user9,765,\n",
       " Notebook: Python-oops1, user4,565,\n",
       " Notebook: Python-oops2, user5,55,\n",
       " Notebook: Python-tuples, user7,65]"
      ]
     },
     "execution_count": 57,
     "metadata": {},
     "output_type": "execute_result"
    }
   ],
   "source": [
    "merge_sort(notebooks,compare_title)"
   ]
  },
  {
   "cell_type": "code",
   "execution_count": 8,
   "id": "5c720503-01ba-47ee-973e-5f9494a6132c",
   "metadata": {},
   "outputs": [],
   "source": [
    "def compare_title_user(n1,n2):\n",
    "    if n1.title>n2.title: #increment\n",
    "        return 'lesser'\n",
    "    elif n1.title==n2.title:\n",
    "        if n1.username>n2.username:\n",
    "            return 'lesser'\n",
    "        else:\n",
    "            return 'greater'\n",
    "    else:\n",
    "        return 'greater'\n",
    "    "
   ]
  },
  {
   "cell_type": "code",
   "execution_count": 12,
   "id": "6fa9fa2f-cc56-4f88-adf0-d9091484bc6f",
   "metadata": {},
   "outputs": [
    {
     "data": {
      "text/plain": [
       "[Notebook: Python-array, user2,458,\n",
       " Notebook: Python-class and obj, user3,557,\n",
       " Notebook: Python-dictinory, user8,505,\n",
       " Notebook: Python-function, user1,545,\n",
       " Notebook: Python-list, user6,56,\n",
       " Notebook: Python-memory, user9,765,\n",
       " Notebook: Python-oops, user4,565,\n",
       " Notebook: Python-oops, user5,55,\n",
       " Notebook: Python-tuples, user7,65]"
      ]
     },
     "execution_count": 12,
     "metadata": {},
     "output_type": "execute_result"
    }
   ],
   "source": [
    "merge_sort(notebooks,compare_title_user)"
   ]
  },
  {
   "cell_type": "code",
   "execution_count": null,
   "id": "595936e2-b8d5-4870-b3ca-8f4195b6001e",
   "metadata": {},
   "outputs": [],
   "source": []
  }
 ],
 "metadata": {
  "kernelspec": {
   "display_name": "Python 3 (ipykernel)",
   "language": "python",
   "name": "python3"
  },
  "language_info": {
   "codemirror_mode": {
    "name": "ipython",
    "version": 3
   },
   "file_extension": ".py",
   "mimetype": "text/x-python",
   "name": "python",
   "nbconvert_exporter": "python",
   "pygments_lexer": "ipython3",
   "version": "3.11.0"
  }
 },
 "nbformat": 4,
 "nbformat_minor": 5
}
