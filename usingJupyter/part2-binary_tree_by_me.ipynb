{
 "cells": [
  {
   "cell_type": "markdown",
   "id": "42eae6c7-a64a-4ad2-af2f-c27f3298f5e8",
   "metadata": {},
   "source": [
    "## Using Step 2"
   ]
  },
  {
   "cell_type": "markdown",
   "id": "bfe61701-001c-4f60-90f8-ebac7cce5eb9",
   "metadata": {},
   "source": [
    "### Problem"
   ]
  },
  {
   "cell_type": "markdown",
   "id": "50eb5960-7e25-440d-85fe-b60d58cd7185",
   "metadata": {},
   "source": [
    "### we need to create a data structure which can store 100 million records and perform insertion,search, update and list operation efficiently."
   ]
  },
  {
   "cell_type": "markdown",
   "id": "c39328fa-724b-43ab-9d50-9b42257dbd93",
   "metadata": {},
   "source": [
    "### Input: The key inputs to our data structure are user profiles, which contain the username, name and email of a user"
   ]
  },
  {
   "cell_type": "code",
   "execution_count": 2,
   "id": "b354badc-5b1b-4c4e-b6b1-ee0178d5af30",
   "metadata": {},
   "outputs": [],
   "source": [
    "class User:\n",
    "    pass"
   ]
  },
  {
   "cell_type": "code",
   "execution_count": 3,
   "id": "3b932d2d-d5b3-475f-a079-b6d36c760141",
   "metadata": {},
   "outputs": [],
   "source": [
    " user1=User()"
   ]
  },
  {
   "cell_type": "code",
   "execution_count": 4,
   "id": "4d39ea22-786b-489b-b06a-e52ea167f1af",
   "metadata": {},
   "outputs": [
    {
     "data": {
      "text/plain": [
       "<__main__.User at 0x274cd619250>"
      ]
     },
     "execution_count": 4,
     "metadata": {},
     "output_type": "execute_result"
    }
   ],
   "source": [
    "user1"
   ]
  },
  {
   "cell_type": "code",
   "execution_count": 5,
   "id": "b06638bc-69e9-4684-82c1-92d14f026ef5",
   "metadata": {},
   "outputs": [
    {
     "data": {
      "text/plain": [
       "(__main__.User, 2700685185616)"
      ]
     },
     "execution_count": 5,
     "metadata": {},
     "output_type": "execute_result"
    }
   ],
   "source": [
    "type(user1), id(user1)"
   ]
  },
  {
   "cell_type": "code",
   "execution_count": 6,
   "id": "93fd2493-79ec-4fc2-b205-4887ded37388",
   "metadata": {},
   "outputs": [],
   "source": [
    "class User:\n",
    "    def __init__(self,username, name, email):\n",
    "        self.username=username\n",
    "        self.name=name\n",
    "        self.email=email\n",
    "        print(\"user created!\")\n",
    "\n",
    "    def introduce(self):\n",
    "        print(f'hi. I am {self.username}')\n"
   ]
  },
  {
   "cell_type": "code",
   "execution_count": 16,
   "id": "417f2b68-0292-4d3c-b02f-8f60a170dbb1",
   "metadata": {},
   "outputs": [],
   "source": [
    "user1=User('gowthdev','Gowtham','gowtham@dev.com')"
   ]
  },
  {
   "cell_type": "code",
   "execution_count": 8,
   "id": "f13ee37d-0717-4801-8a51-4e391b26a631",
   "metadata": {},
   "outputs": [
    {
     "data": {
      "text/plain": [
       "'gowthdev'"
      ]
     },
     "execution_count": 8,
     "metadata": {},
     "output_type": "execute_result"
    }
   ],
   "source": [
    "user1.username"
   ]
  },
  {
   "cell_type": "code",
   "execution_count": 9,
   "id": "df1dd8d0-c302-4f7b-98f4-ca1e57896cdf",
   "metadata": {},
   "outputs": [
    {
     "name": "stdout",
     "output_type": "stream",
     "text": [
      "hi. I am gowthdev\n"
     ]
    }
   ],
   "source": [
    "user1.introduce()"
   ]
  },
  {
   "cell_type": "code",
   "execution_count": 13,
   "id": "e1653ce9-c165-49db-9cc4-074f15aefd2d",
   "metadata": {},
   "outputs": [],
   "source": [
    "class User:\n",
    "    def __init__(self,username, name, email):\n",
    "        self.username=username\n",
    "        self.name=name\n",
    "        self.email=email\n",
    "       # print(\"user created!\")\n",
    "    def __repr__(self):\n",
    "        return f\"User:(username:{self.username}, name: {self.name}, email: {self.email})\"\n",
    "    def __str__(self):\n",
    "        return self.__repr__()"
   ]
  },
  {
   "cell_type": "code",
   "execution_count": 14,
   "id": "0c51ab59-d206-4d09-8118-c1bbb021ce31",
   "metadata": {},
   "outputs": [],
   "source": [
    "user2=User('abc','Abc','abc@gmal.com')"
   ]
  },
  {
   "cell_type": "code",
   "execution_count": 15,
   "id": "bfa7e5e0-0224-4d91-a358-ca5111cdfd27",
   "metadata": {},
   "outputs": [
    {
     "data": {
      "text/plain": [
       "User:(username:abc, name: Abc, email: abc@gmal.com)"
      ]
     },
     "execution_count": 15,
     "metadata": {},
     "output_type": "execute_result"
    }
   ],
   "source": [
    "user2"
   ]
  },
  {
   "cell_type": "markdown",
   "id": "a948e987-b785-4161-a61e-ce1e47572537",
   "metadata": {},
   "source": [
    "### Output"
   ]
  },
  {
   "cell_type": "code",
   "execution_count": 5,
   "id": "a44cf662-79ff-400c-b93b-9df16a38d769",
   "metadata": {},
   "outputs": [],
   "source": [
    "class UserDatabase:\n",
    "    def __init__(self):\n",
    "        pass\n",
    "    def insert(self,user):\n",
    "        pass\n",
    "    def find(self,username):\n",
    "        pass\n",
    "    def update(self,username):\n",
    "        pass\n",
    "    def list_all(self):\n",
    "        pass"
   ]
  },
  {
   "cell_type": "markdown",
   "id": "e14bc115-0aab-445b-be16-eea145cb2d7b",
   "metadata": {},
   "source": [
    "## Using Step2"
   ]
  },
  {
   "cell_type": "code",
   "execution_count": 17,
   "id": "f8bdb621-0a1e-48ca-ab36-448a97703af3",
   "metadata": {},
   "outputs": [],
   "source": [
    "user3=User('user3','User3','user3@gmail.com')"
   ]
  },
  {
   "cell_type": "code",
   "execution_count": 18,
   "id": "a9c318d0-7ed3-476d-af41-315dfeab036e",
   "metadata": {},
   "outputs": [],
   "source": [
    "user4=User('user4','User4','user4@gmail.com')\n",
    "user5=User('user5','User5','user5@gmail.com')\n",
    "user6=User('user6','User6','user6@gmail.com')"
   ]
  },
  {
   "cell_type": "code",
   "execution_count": 20,
   "id": "113bd109-6235-49d8-bc5e-7d3d88c9d8b6",
   "metadata": {},
   "outputs": [
    {
     "data": {
      "text/plain": [
       "'user5'"
      ]
     },
     "execution_count": 20,
     "metadata": {},
     "output_type": "execute_result"
    }
   ],
   "source": [
    "user5.username"
   ]
  },
  {
   "cell_type": "code",
   "execution_count": 19,
   "id": "6a2fa7a1-e6ac-4df3-a98b-9a1fee7b9cef",
   "metadata": {},
   "outputs": [],
   "source": [
    "users=[user1,user2,user3,user4,user5,user6]"
   ]
  },
  {
   "cell_type": "code",
   "execution_count": 21,
   "id": "2c3551cc-adac-43f9-89de-875825d0d8b1",
   "metadata": {},
   "outputs": [
    {
     "data": {
      "text/plain": [
       "[User:(username:gowthdev, name: Gowtham, email: gowtham@dev.com),\n",
       " User:(username:abc, name: Abc, email: abc@gmal.com),\n",
       " User:(username:user3, name: User3, email: user3@gmail.com),\n",
       " User:(username:user4, name: User4, email: user4@gmail.com),\n",
       " User:(username:user5, name: User5, email: user5@gmail.com),\n",
       " User:(username:user6, name: User6, email: user6@gmail.com)]"
      ]
     },
     "execution_count": 21,
     "metadata": {},
     "output_type": "execute_result"
    }
   ],
   "source": [
    "users"
   ]
  },
  {
   "cell_type": "markdown",
   "id": "262ddb26-2f19-4e3c-b9b5-17b1d0310010",
   "metadata": {},
   "source": [
    " ## Using Step 3"
   ]
  },
  {
   "cell_type": "markdown",
   "id": "8ed9d6ae-8f86-42c6-b307-467630cd127e",
   "metadata": {},
   "source": [
    "Here's a simple and easy solution to the problem: we store the `User` objects in a list sorted by usernames. \n",
    "\n",
    "The various functions can be implemented as follows:\n",
    "\n",
    "1. **Insert**: Loop through the list and add the new user at a position that keeps the list sorted.\n",
    "2. **Find**: Loop through the list and find the user object with the username matching the query.\n",
    "3. **Update**: Loop through the list, find the user object matching the query and update the details\n",
    "4. **List**: Return the list of user objects.\n",
    "\n",
    "We can use the fact usernames, which are are strings can be compared using the `<`, `>` and `==` operators in Python."
   ]
  },
  {
   "cell_type": "code",
   "execution_count": null,
   "id": "5f64644e-783a-4b2e-a8f7-70b2b0fcfdf0",
   "metadata": {},
   "outputs": [],
   "source": [
    "'user1'<'user2'"
   ]
  },
  {
   "cell_type": "markdown",
   "id": "3424f545-83d6-4ee0-bcbb-86fa6a5c9716",
   "metadata": {},
   "source": [
    "## Using Step 4"
   ]
  },
  {
   "cell_type": "code",
   "execution_count": null,
   "id": "4bd13983-418d-458f-8c99-3b3353bbff01",
   "metadata": {},
   "outputs": [],
   "source": [
    "class UserDatabase:\n",
    "    def __init__(self):\n",
    "        self.users=[]\n",
    "    def insert(self,user):\n",
    "        i=0\n",
    "        while i<len(self.users):\n",
    "            if self.users[i].username>user.username:\n",
    "                break\n",
    "            i+=1\n",
    "        self.users.insert(i,user)\n",
    "    def find(self,username):\n",
    "        for user in self.users:\n",
    "            if user.username==username:\n",
    "                return user\n",
    "    def update(self,user):\n",
    "        target=self.find(user.username)\n",
    "        print(target)\n",
    "        target.name,target.email=user.name,user.email\n",
    "    def list_all(self):\n",
    "        return self.users"
   ]
  },
  {
   "cell_type": "code",
   "execution_count": 21,
   "id": "3f8a1b19-5e7d-4ed5-ac2c-c58322be0548",
   "metadata": {},
   "outputs": [],
   "source": [
    "database1=UserDatabase()"
   ]
  },
  {
   "cell_type": "code",
   "execution_count": 22,
   "id": "0eb9b337-6d81-4608-8179-703ce153d53c",
   "metadata": {},
   "outputs": [],
   "source": [
    "database1.insert(user2)"
   ]
  },
  {
   "cell_type": "code",
   "execution_count": 23,
   "id": "b4a13707-8ca9-423c-a3dc-a86f73d4c110",
   "metadata": {},
   "outputs": [
    {
     "data": {
      "text/plain": [
       "[User:(username:abc, name: Abc, email: abc@gmal.com)]"
      ]
     },
     "execution_count": 23,
     "metadata": {},
     "output_type": "execute_result"
    }
   ],
   "source": [
    "database1.list_all()"
   ]
  },
  {
   "cell_type": "code",
   "execution_count": 24,
   "id": "c8b93df1-15c1-45d8-9d33-bc632de9c0ce",
   "metadata": {},
   "outputs": [],
   "source": [
    "database1.find(user1.username)"
   ]
  },
  {
   "cell_type": "code",
   "execution_count": 25,
   "id": "8f79e8c9-1685-435c-8da4-7ace75d4981b",
   "metadata": {},
   "outputs": [],
   "source": [
    "user1=User('user1','User_1','user1@zoho.com')"
   ]
  },
  {
   "cell_type": "code",
   "execution_count": 26,
   "id": "6d753430-a681-42c7-9749-8d8c4a9c7f53",
   "metadata": {},
   "outputs": [
    {
     "data": {
      "text/plain": [
       "User:(username:user1, name: User_1, email: user1@zoho.com)"
      ]
     },
     "execution_count": 26,
     "metadata": {},
     "output_type": "execute_result"
    }
   ],
   "source": [
    "user1"
   ]
  },
  {
   "cell_type": "code",
   "execution_count": 27,
   "id": "0e5320d7-a1ea-4656-95c0-70be49b888db",
   "metadata": {},
   "outputs": [],
   "source": [
    "database1.insert(user1)"
   ]
  },
  {
   "cell_type": "code",
   "execution_count": 28,
   "id": "b7eb9fd1-af94-4c45-af99-34b4872f6f62",
   "metadata": {},
   "outputs": [
    {
     "name": "stdout",
     "output_type": "stream",
     "text": [
      "User:(username:user1, name: User_1, email: user1@zoho.com)\n"
     ]
    }
   ],
   "source": [
    "database1.update(user1)"
   ]
  },
  {
   "cell_type": "code",
   "execution_count": 29,
   "id": "7bf80ca3-82b2-43a8-8087-70743a2f3ae8",
   "metadata": {},
   "outputs": [
    {
     "name": "stdout",
     "output_type": "stream",
     "text": [
      "User:(username:abc, name: Abc, email: abc@gmal.com)\n"
     ]
    }
   ],
   "source": [
    "database1.update(User('abc','User_2','user2@zoho.com'))"
   ]
  },
  {
   "cell_type": "code",
   "execution_count": 30,
   "id": "326caf5a-66cf-4fc5-8c89-6a40f8613a3b",
   "metadata": {},
   "outputs": [
    {
     "data": {
      "text/plain": [
       "[User:(username:abc, name: User_2, email: user2@zoho.com),\n",
       " User:(username:user1, name: User_1, email: user1@zoho.com)]"
      ]
     },
     "execution_count": 30,
     "metadata": {},
     "output_type": "execute_result"
    }
   ],
   "source": [
    "database1.list_all()"
   ]
  },
  {
   "cell_type": "markdown",
   "id": "2525b144-2369-4c33-9abd-2e09c4376fc2",
   "metadata": {},
   "source": [
    "## using step 5"
   ]
  },
  {
   "cell_type": "markdown",
   "id": "a9861231-52c7-44c3-bcdd-c653164027a1",
   "metadata": {},
   "source": [
    "## the efficiency is `o(n)` for insert, find, update and o(1) for list_all. so if it n time what if there"
   ]
  },
  {
   "cell_type": "code",
   "execution_count": 31,
   "id": "42082fdd-d6c1-4e03-9605-bb41bcd26794",
   "metadata": {},
   "outputs": [
    {
     "name": "stdout",
     "output_type": "stream",
     "text": [
      "CPU times: total: 12.7 s\n",
      "Wall time: 17.6 s\n"
     ]
    }
   ],
   "source": [
    "%%time\n",
    "for i in range(100000000):\n",
    "    j=i*i"
   ]
  },
  {
   "cell_type": "markdown",
   "id": "5e7dc85d-e4b3-41c6-aa34-02c1859d9b4a",
   "metadata": {},
   "source": [
    "## it took 10 sec, then it will tough if every function take 10s so we need to overcome this"
   ]
  },
  {
   "cell_type": "markdown",
   "id": "0a8b7b1f-7da7-4f0e-a3ba-f26887fae7ef",
   "metadata": {},
   "source": [
    " ## Binary Tree Search"
   ]
  },
  {
   "cell_type": "markdown",
   "id": "d4916185-f32c-45ec-a57e-ec31d69a69d0",
   "metadata": {},
   "source": [
    "### Binary tree"
   ]
  },
  {
   "cell_type": "markdown",
   "id": "c3b8e25f-e80b-4780-b6dd-06b6e8ea135f",
   "metadata": {},
   "source": [
    "### implement binary tree using python and show some usage with some example"
   ]
  },
  {
   "cell_type": "code",
   "execution_count": 1,
   "id": "e02689e0-4e5f-4d6e-a0ce-8b2c88d7c754",
   "metadata": {},
   "outputs": [],
   "source": [
    "class TreeNode:\n",
    "    def __init__(self,key):\n",
    "        self.key=key\n",
    "        self.left=None\n",
    "        self.right=None\n",
    "        "
   ]
  },
  {
   "cell_type": "code",
   "execution_count": 33,
   "id": "7b911a58-05c4-4223-b39d-8018033be2e4",
   "metadata": {},
   "outputs": [],
   "source": [
    "node0=TreeNode(3)"
   ]
  },
  {
   "cell_type": "code",
   "execution_count": 34,
   "id": "4d5ba07d-9d8e-4ab4-8842-3cbe40911054",
   "metadata": {},
   "outputs": [
    {
     "data": {
      "text/plain": [
       "<__main__.TreeNode at 0x274cd64f490>"
      ]
     },
     "execution_count": 34,
     "metadata": {},
     "output_type": "execute_result"
    }
   ],
   "source": [
    "node0"
   ]
  },
  {
   "cell_type": "code",
   "execution_count": 35,
   "id": "b634bf96-893f-4d05-8ec0-909db0d1ecfc",
   "metadata": {},
   "outputs": [],
   "source": [
    "node1=TreeNode(4)\n",
    "node2=TreeNode(5)"
   ]
  },
  {
   "cell_type": "code",
   "execution_count": 36,
   "id": "29a687e8-5234-45d9-9049-88f78eeb7815",
   "metadata": {},
   "outputs": [],
   "source": [
    "node0.left=node1\n",
    "node0.right=node2"
   ]
  },
  {
   "cell_type": "code",
   "execution_count": 37,
   "id": "fe64ce09-305a-4cc4-ab64-a2eff7acc2eb",
   "metadata": {},
   "outputs": [
    {
     "data": {
      "text/plain": [
       "4"
      ]
     },
     "execution_count": 37,
     "metadata": {},
     "output_type": "execute_result"
    }
   ],
   "source": [
    "node0.left.key"
   ]
  },
  {
   "cell_type": "code",
   "execution_count": 38,
   "id": "e0680a02-331b-4f5f-80f9-1bfdba40ef4a",
   "metadata": {},
   "outputs": [
    {
     "data": {
      "text/plain": [
       "5"
      ]
     },
     "execution_count": 38,
     "metadata": {},
     "output_type": "execute_result"
    }
   ],
   "source": [
    "node0.right.key"
   ]
  },
  {
   "cell_type": "markdown",
   "id": "a130c993-388b-43b3-88cc-35a60daabe97",
   "metadata": {},
   "source": [
    "### making root node, so we can acess all node"
   ]
  },
  {
   "cell_type": "code",
   "execution_count": 39,
   "id": "4d7c4153-f28c-4ac8-bd87-5859224c7eca",
   "metadata": {},
   "outputs": [],
   "source": [
    "tree=node0"
   ]
  },
  {
   "cell_type": "code",
   "execution_count": 40,
   "id": "e326a02d-6bed-4329-935e-4331dc664d0f",
   "metadata": {},
   "outputs": [
    {
     "data": {
      "text/plain": [
       "4"
      ]
     },
     "execution_count": 40,
     "metadata": {},
     "output_type": "execute_result"
    }
   ],
   "source": [
    "tree.left.key"
   ]
  },
  {
   "cell_type": "markdown",
   "id": "c0559492-8f99-41a7-9150-a31d0b6d6204",
   "metadata": {},
   "source": [
    "Going forward, we'll use the term \"tree\" to refer to the root node. The term \"node\" can refer to any node in a tree, not necessarily the root.\n",
    "\n",
    "Exercise: Create the following binary tree using the TreeNode class defined above.\n",
    "\n",
    "<img src=\"https://i.imgur.com/d7djJAf.png\" width=\"540\">"
   ]
  },
  {
   "cell_type": "code",
   "execution_count": 26,
   "id": "448e1cc3-18b2-4018-98f5-b05f551c6a24",
   "metadata": {},
   "outputs": [],
   "source": [
    "class TreeNode:\n",
    "    def __init__(self,key):\n",
    "        self.key=key\n",
    "        self.left=None\n",
    "        self.right=None\n",
    "node0=TreeNode(2)\n",
    "node1=TreeNode(3)\n",
    "node2=TreeNode(1)\n",
    "node3=TreeNode(5)\n",
    "node4=TreeNode(3)\n",
    "node5=TreeNode(4)\n",
    "node6=TreeNode(7)\n",
    "node7=TreeNode(6)\n",
    "node8=TreeNode(8)"
   ]
  },
  {
   "cell_type": "code",
   "execution_count": 42,
   "id": "7c31b4c7-8554-4858-96a3-2f41fe41173c",
   "metadata": {},
   "outputs": [],
   "source": [
    "node0.left=node1\n",
    "node0.right=node3"
   ]
  },
  {
   "cell_type": "code",
   "execution_count": 43,
   "id": "b05c4b50-e8d3-4480-954c-a7bcba61bba7",
   "metadata": {},
   "outputs": [
    {
     "data": {
      "text/plain": [
       "1"
      ]
     },
     "execution_count": 43,
     "metadata": {},
     "output_type": "execute_result"
    }
   ],
   "source": [
    "node1.left=node2\n",
    "node0.left.left.key"
   ]
  },
  {
   "cell_type": "code",
   "execution_count": 44,
   "id": "c6432235-bc5e-42ef-9325-230cff86fedc",
   "metadata": {},
   "outputs": [],
   "source": [
    "node3.left=node4\n",
    "node3.right=node6\n",
    "node4.right=node5\n",
    "node6.left=node7\n",
    "node6.right=node8"
   ]
  },
  {
   "cell_type": "code",
   "execution_count": 45,
   "id": "de8dc78a-e6e1-4152-b546-dd09952decde",
   "metadata": {},
   "outputs": [],
   "source": [
    "tree=node0"
   ]
  },
  {
   "cell_type": "code",
   "execution_count": 46,
   "id": "0f1c1168-ad1c-4de1-a8bd-3feb6b540576",
   "metadata": {},
   "outputs": [
    {
     "data": {
      "text/plain": [
       "6"
      ]
     },
     "execution_count": 46,
     "metadata": {},
     "output_type": "execute_result"
    }
   ],
   "source": [
    "tree.right.right.left.key"
   ]
  },
  {
   "cell_type": "markdown",
   "id": "de0a7213-812c-4c3f-9d30-a224cbe5101e",
   "metadata": {},
   "source": [
    "using tuple as input and recursion for function"
   ]
  },
  {
   "cell_type": "code",
   "execution_count": 23,
   "id": "27c9d703-be09-4f31-8239-4e20e336f7e3",
   "metadata": {},
   "outputs": [],
   "source": [
    "tree_tuple=((1,3,None),2,((None,3,4),5,(6,7,8)))"
   ]
  },
  {
   "cell_type": "code",
   "execution_count": 22,
   "id": "01b78f07-ad36-48f8-9c09-d82bc34973be",
   "metadata": {},
   "outputs": [],
   "source": [
    "def tuple_tree(data):\n",
    "    if isinstance(data, tuple) and len(data)==3:\n",
    "        print(data)\n",
    "        node=TreeNode(data[1])\n",
    "        node.left=tuple_tree(data[0])\n",
    "        node.right=tuple_tree(data[2])\n",
    "    elif data is None:\n",
    "        print(data)\n",
    "        node=None\n",
    "    else:\n",
    "        print(data)\n",
    "        node=TreeNode(data)\n",
    "    return node"
   ]
  },
  {
   "cell_type": "code",
   "execution_count": 27,
   "id": "172ec6cd-ed6c-4d18-aca4-5b91ea40ae6e",
   "metadata": {},
   "outputs": [
    {
     "name": "stdout",
     "output_type": "stream",
     "text": [
      "((1, 3, None), 2, ((None, 3, 4), 5, (6, 7, 8)))\n",
      "(1, 3, None)\n",
      "1\n",
      "None\n",
      "((None, 3, 4), 5, (6, 7, 8))\n",
      "(None, 3, 4)\n",
      "None\n",
      "4\n",
      "(6, 7, 8)\n",
      "6\n",
      "8\n"
     ]
    }
   ],
   "source": [
    "tree2=tuple_tree(tree_tuple)"
   ]
  },
  {
   "cell_type": "code",
   "execution_count": 8,
   "id": "e4bfd80f-fa49-4e86-b80f-9d0b8f7e1e18",
   "metadata": {},
   "outputs": [
    {
     "data": {
      "text/plain": [
       "7"
      ]
     },
     "execution_count": 8,
     "metadata": {},
     "output_type": "execute_result"
    }
   ],
   "source": [
    "tree2.right.right.key"
   ]
  },
  {
   "cell_type": "code",
   "execution_count": 9,
   "id": "87939a5c-5d44-4117-bb90-ec62dcea5d9e",
   "metadata": {},
   "outputs": [
    {
     "data": {
      "text/plain": [
       "2"
      ]
     },
     "execution_count": 9,
     "metadata": {},
     "output_type": "execute_result"
    }
   ],
   "source": [
    "tree2.key#level 0"
   ]
  },
  {
   "cell_type": "code",
   "execution_count": 52,
   "id": "961eb7fe-b086-4042-b3d2-f82a9189e8ff",
   "metadata": {},
   "outputs": [
    {
     "data": {
      "text/plain": [
       "(3, 5)"
      ]
     },
     "execution_count": 52,
     "metadata": {},
     "output_type": "execute_result"
    }
   ],
   "source": [
    "tree2.left.key,tree2.right.key#level 1"
   ]
  },
  {
   "cell_type": "code",
   "execution_count": 53,
   "id": "c2417be7-9e0e-4ce6-9fca-acc9e509bcd3",
   "metadata": {},
   "outputs": [
    {
     "data": {
      "text/plain": [
       "(1, None, 3, 7)"
      ]
     },
     "execution_count": 53,
     "metadata": {},
     "output_type": "execute_result"
    }
   ],
   "source": [
    "tree2.left.left.key,tree2.left.right,tree2.right.left.key,tree2.right.right.key#level2"
   ]
  },
  {
   "cell_type": "code",
   "execution_count": 54,
   "id": "318e14f6-2210-4d95-ad7c-bf0f224d0f7d",
   "metadata": {},
   "outputs": [
    {
     "data": {
      "text/plain": [
       "(None, 4, 6, 8)"
      ]
     },
     "execution_count": 54,
     "metadata": {},
     "output_type": "execute_result"
    }
   ],
   "source": [
    "tree2.right.left.left,tree2.right.left.right.key,tree2.right.right.left.key,tree2.right.right.right.key#level 3"
   ]
  },
  {
   "cell_type": "code",
   "execution_count": 55,
   "id": "7343d572-9905-4131-b2f9-043bcb024ec1",
   "metadata": {},
   "outputs": [
    {
     "data": {
      "text/plain": [
       "2"
      ]
     },
     "execution_count": 55,
     "metadata": {},
     "output_type": "execute_result"
    }
   ],
   "source": [
    "def dis(tree2):\n",
    "    return tree2.key\n",
    "dis(tree2)"
   ]
  },
  {
   "cell_type": "markdown",
   "id": "1e7f0fcb-5ff6-4a0a-b923-ddaeb7db728e",
   "metadata": {},
   "source": [
    "Exercise: Define a function tree_to_tuple that converts a binary tree into a tuple representing the same tree. E.g. tree_to_tuple converts the tree created above to the tuple ((1, 3, None), 2, ((None, 3, 4), 5, (6, 7, 8))). Hint: Use recursion."
   ]
  },
  {
   "cell_type": "code",
   "execution_count": 2,
   "id": "df529fc0-ec28-4138-9d6a-b265cc06ee79",
   "metadata": {},
   "outputs": [],
   "source": [
    "class TreeNode:\n",
    "    def __init__(self,key):\n",
    "        self.key=key\n",
    "        self.left=None\n",
    "        self.right=None"
   ]
  },
  {
   "cell_type": "code",
   "execution_count": 28,
   "id": "c1b50f2d-590d-4860-b3b7-6367469a7481",
   "metadata": {},
   "outputs": [],
   "source": [
    "def tree_to_tuple(node):\n",
    "    if node == None:\n",
    "        print('none')\n",
    "        return None\n",
    "    elif node.left == None and node.right == None:\n",
    "        print(node.key)\n",
    "        return (node.key,)# even though here returning one we dont use here so it will be lost, so return it in parent call, because in recursion it may be child call return\n",
    "    else:\n",
    "        return(tree_to_tuple(node.left), node.key, tree_to_tuple(node.right))"
   ]
  },
  {
   "cell_type": "code",
   "execution_count": 30,
   "id": "efb44a08-75d0-49ca-84a1-65c8301ce348",
   "metadata": {},
   "outputs": [
    {
     "name": "stdout",
     "output_type": "stream",
     "text": [
      "1\n",
      "none\n",
      "none\n",
      "4\n",
      "6\n",
      "8\n"
     ]
    },
    {
     "data": {
      "text/plain": [
       "(((1,), 3, None), 2, ((None, 3, (4,)), 5, ((6,), 7, (8,))))"
      ]
     },
     "execution_count": 30,
     "metadata": {},
     "output_type": "execute_result"
    }
   ],
   "source": [
    "nodex=TreeNode(5)\n",
    "tuple1=tree_to_tuple(tree2)\n",
    "tuple1"
   ]
  },
  {
   "cell_type": "code",
   "execution_count": 165,
   "id": "0ee686d4-6518-4b27-8ce1-1ec1325ef0a9",
   "metadata": {},
   "outputs": [],
   "source": [
    "def display(node,space='\\t',level=0):\n",
    "    if node is None:\n",
    "        print(space*level+'null')\n",
    "        return\n",
    "    elif node.left is None and node.right is None:\n",
    "        print(space*level+str(node.key))\n",
    "        return\n",
    "    \n",
    "    display(node.right,space,level+1)\n",
    "    print(space*level+str(node.key))\n",
    "    display(node.left,space,level+1)\n",
    "        "
   ]
  },
  {
   "cell_type": "code",
   "execution_count": 164,
   "id": "80bf431b-1a00-4618-8c29-ae26db5f28a1",
   "metadata": {},
   "outputs": [
    {
     "name": "stdout",
     "output_type": "stream",
     "text": [
      "\t\t\t8\n",
      "\t\t7\n",
      "\t\t\t6\n",
      "\t5\n",
      "\t\t\t4\n",
      "\t\t3\n",
      "\t\t\tnull\n",
      "2\n",
      "\t\tnull\n",
      "\t3\n",
      "\t\t1\n"
     ]
    }
   ],
   "source": [
    "display(tree2)"
   ]
  },
  {
   "cell_type": "code",
   "execution_count": 163,
   "id": "82c1ee62-328e-440d-9d6a-3fac086e0391",
   "metadata": {},
   "outputs": [
    {
     "data": {
      "text/plain": [
       "[1, 4]"
      ]
     },
     "execution_count": 163,
     "metadata": {},
     "output_type": "execute_result"
    }
   ],
   "source": [
    "[1]+[4]"
   ]
  },
  {
   "cell_type": "markdown",
   "id": "e570b676-4fe2-4802-a2f1-5518b45d0e86",
   "metadata": {},
   "source": [
    "## Traversing Binary Tree"
   ]
  },
  {
   "cell_type": "markdown",
   "id": "d1b3e491-c8f3-4a87-aa46-07a4119e856d",
   "metadata": {},
   "source": [
    "### In-order Binary tree\n",
    "<img src=\"https://i.imgur.com/d7djJAf.png\" width=\"540\">"
   ]
  },
  {
   "cell_type": "code",
   "execution_count": 14,
   "id": "2c078ce9-e421-4b49-aae9-5fa7caf175c7",
   "metadata": {},
   "outputs": [
    {
     "data": {
      "text/plain": [
       "[1, 3, 2, 3, 4, 5, 6, 7, 8]"
      ]
     },
     "execution_count": 14,
     "metadata": {},
     "output_type": "execute_result"
    }
   ],
   "source": [
    "def in_order_binary(node):\n",
    "    if node is None:\n",
    "        return []\n",
    "    return (in_order_binary(node.left)+[node.key]+in_order_binary(node.right))\n",
    "in_order_binary(tree2)"
   ]
  },
  {
   "cell_type": "markdown",
   "id": "42c0c667-59f5-4ba4-9a1c-87afd594e6e3",
   "metadata": {},
   "source": [
    "### pre-order Binary tree"
   ]
  },
  {
   "cell_type": "code",
   "execution_count": 63,
   "id": "aa4715fa-daa8-47ab-9069-a2d0af28ebad",
   "metadata": {},
   "outputs": [
    {
     "data": {
      "text/plain": [
       "[2, 3, 1, 5, 3, 4, 7, 6, 8]"
      ]
     },
     "execution_count": 63,
     "metadata": {},
     "output_type": "execute_result"
    }
   ],
   "source": [
    "def pre_order_binary(node):\n",
    "    if node is None:\n",
    "        return []\n",
    "    return([node.key]+pre_order_binary(node.left)+pre_order_binary(node.right))\n",
    "pre_order_binary(tree2)"
   ]
  },
  {
   "cell_type": "markdown",
   "id": "c5560aff-8a48-42f4-a8a2-f1989113cc5d",
   "metadata": {},
   "source": [
    "### post-order Binary tree"
   ]
  },
  {
   "cell_type": "code",
   "execution_count": 31,
   "id": "608f5518-f0ae-4c0b-a3f8-0ee398876ec0",
   "metadata": {},
   "outputs": [
    {
     "data": {
      "text/plain": [
       "[1, 3, 4, 3, 6, 8, 7, 5, 2]"
      ]
     },
     "execution_count": 31,
     "metadata": {},
     "output_type": "execute_result"
    }
   ],
   "source": [
    "def post_order_binary(node):\n",
    "    if node is None:\n",
    "        return []\n",
    "    return(post_order_binary(node.left)+post_order_binary(node.right)+[node.key])\n",
    "post_order_binary(tree2)"
   ]
  },
  {
   "cell_type": "markdown",
   "id": "dad49568-7ae8-488c-873f-aa528afe6137",
   "metadata": {},
   "source": [
    "## calculating height of tree"
   ]
  },
  {
   "cell_type": "code",
   "execution_count": 125,
   "id": "d50476f0-7bd5-4c49-b894-ad964152dd2c",
   "metadata": {},
   "outputs": [
    {
     "data": {
      "text/plain": [
       "4"
      ]
     },
     "execution_count": 125,
     "metadata": {},
     "output_type": "execute_result"
    }
   ],
   "source": [
    "def tree_height(node):\n",
    "    if node is None:\n",
    "        return 0\n",
    "    return 1+max(tree_height(node.left),tree_height(node.right))\n",
    "tree_height(tree2)"
   ]
  },
  {
   "cell_type": "markdown",
   "id": "2554d164-48b7-4f10-8fb5-e978a5d4d45f",
   "metadata": {},
   "source": [
    "## Calculating Size of node"
   ]
  },
  {
   "cell_type": "code",
   "execution_count": 124,
   "id": "fced208c-b327-43b8-bbef-2b30f598f01b",
   "metadata": {},
   "outputs": [
    {
     "data": {
      "text/plain": [
       "9"
      ]
     },
     "execution_count": 124,
     "metadata": {},
     "output_type": "execute_result"
    }
   ],
   "source": [
    "def tree_size(node):\n",
    "    if node is None:\n",
    "        return 0\n",
    "    return 1+tree_size(node.left)+tree_size(node.right)\n",
    "tree_size(tree2)"
   ]
  },
  {
   "cell_type": "markdown",
   "id": "914185e5-97c3-4384-9cc3-61ff836bf74a",
   "metadata": {},
   "source": [
    "## IN class"
   ]
  },
  {
   "cell_type": "code",
   "execution_count": 67,
   "id": "e50a391f-f4c3-4b2c-9c37-ad446c4fac04",
   "metadata": {},
   "outputs": [
    {
     "data": {
      "text/plain": [
       "3"
      ]
     },
     "execution_count": 67,
     "metadata": {},
     "output_type": "execute_result"
    }
   ],
   "source": [
    "tree2.left.key"
   ]
  },
  {
   "cell_type": "code",
   "execution_count": 43,
   "id": "663233a1-2171-42e2-8808-a5ddbed7b9e6",
   "metadata": {},
   "outputs": [],
   "source": [
    "class Tree:\n",
    "    def __init__(self,node):\n",
    "        self.node=node\n",
    "        self.key=node.key\n",
    "        self.right=node.right\n",
    "        self.left=node.left\n",
    "    def inorder(self,node=None):\n",
    "        if node is None:\n",
    "            node=self.node\n",
    "        if node is None:\n",
    "            return None\n",
    "        return(self.inorder(node.left)+[node.key]+self.inorder(node.right))\n",
    "    "
   ]
  },
  {
   "cell_type": "code",
   "execution_count": null,
   "id": "f44f7384-8c76-4add-b02a-5a8a4591deec",
   "metadata": {},
   "outputs": [],
   "source": [
    "tr=Tree(tree2)"
   ]
  },
  {
   "cell_type": "code",
   "execution_count": null,
   "id": "052df55e-8c1a-4d0f-937c-d53b531e9b04",
   "metadata": {},
   "outputs": [],
   "source": [
    "tr.inorder()"
   ]
  },
  {
   "cell_type": "markdown",
   "id": "39916c50-ba3c-4c54-a9e3-c6c63cfbf6ba",
   "metadata": {},
   "source": [
    "## Binary Search Tree"
   ]
  },
  {
   "cell_type": "code",
   "execution_count": 123,
   "id": "95d2fd9e-281d-4ce4-8be2-977224aad0ba",
   "metadata": {},
   "outputs": [],
   "source": [
    "def remove_none(nums):\n",
    "    return (x for x in nums if x is not None)\n",
    "def is_bst(node):\n",
    "    if node is None:\n",
    "        return True,None,None\n",
    "    is_bst_l,min_l,max_l=is_bst(node.left)\n",
    "    is_bst_r,min_r,max_r=is_bst(node.right)\n",
    "\n",
    "    is_bst_node=is_bst_l and is_bst_r and (max_l is None or node.key>max_l) and (min_r is None or node.key<min_r)\n",
    "\n",
    "    min_n=min(remove_none([min_l,min_r,node.key]))\n",
    "    max_n=max(remove_none([max_l,max_r,node.key]))\n",
    "\n",
    "    return is_bst_node,min_n,max_n"
   ]
  },
  {
   "cell_type": "code",
   "execution_count": 72,
   "id": "b4ce7a69-37b5-4352-b08d-7f90da264f7f",
   "metadata": {},
   "outputs": [
    {
     "data": {
      "text/plain": [
       "(False, 1, 8)"
      ]
     },
     "execution_count": 72,
     "metadata": {},
     "output_type": "execute_result"
    }
   ],
   "source": [
    "is_bst(tree2)"
   ]
  },
  {
   "cell_type": "markdown",
   "id": "75742c24-b26c-4ea1-9de2-02581f4909af",
   "metadata": {},
   "source": [
    "<img src=\"https://i.imgur.com/JZeF9ix.png\" width=\"520\">"
   ]
  },
  {
   "cell_type": "code",
   "execution_count": 73,
   "id": "5fb23783-7fe6-49ad-964b-7fdd49e0bf68",
   "metadata": {},
   "outputs": [],
   "source": [
    "class Tree:\n",
    "    def __init__(self,key):\n",
    "        self.key=key\n",
    "        self.right=None\n",
    "        self.left=None"
   ]
  },
  {
   "cell_type": "code",
   "execution_count": 74,
   "id": "49173aa4-bc4e-493b-a8a5-c6157dafa59c",
   "metadata": {},
   "outputs": [],
   "source": [
    "node0=Tree(5)\n",
    "node1=Tree(2)\n",
    "node2=Tree(1)\n",
    "node3=Tree(3)\n",
    "node4=Tree(8)\n",
    "node5=Tree(7)\n",
    "node6=Tree(9)"
   ]
  },
  {
   "cell_type": "code",
   "execution_count": 75,
   "id": "423d12be-335a-4522-8ec2-2f4e726ef676",
   "metadata": {},
   "outputs": [],
   "source": [
    "tr3=node0"
   ]
  },
  {
   "cell_type": "code",
   "execution_count": 76,
   "id": "bb078c3d-023e-48af-aa04-46039591d0e9",
   "metadata": {},
   "outputs": [],
   "source": [
    "tr3.left=node1\n",
    "tr3.right=node4\n",
    "node1.left=node2\n",
    "node1.right=node3\n",
    "node4.left=node5\n",
    "node4.right=node6"
   ]
  },
  {
   "cell_type": "code",
   "execution_count": 77,
   "id": "f7a05a49-06ac-483c-bba8-2fad2cc0a447",
   "metadata": {},
   "outputs": [
    {
     "name": "stdout",
     "output_type": "stream",
     "text": [
      "1\n",
      "3\n",
      "7\n",
      "9\n"
     ]
    },
    {
     "data": {
      "text/plain": [
       "(((1,), 2, (3,)), 5, ((7,), 8, (9,)))"
      ]
     },
     "execution_count": 77,
     "metadata": {},
     "output_type": "execute_result"
    }
   ],
   "source": [
    "tree_to_tuple(tr3)"
   ]
  },
  {
   "cell_type": "code",
   "execution_count": 78,
   "id": "90c1e82d-c3da-41be-a01c-1cd7896b5740",
   "metadata": {},
   "outputs": [
    {
     "data": {
      "text/plain": [
       "(True, 1, 9)"
      ]
     },
     "execution_count": 78,
     "metadata": {},
     "output_type": "execute_result"
    }
   ],
   "source": [
    "is_bst(tr3)"
   ]
  },
  {
   "cell_type": "markdown",
   "id": "b583f23a-83ad-4595-a99a-666bc637fc6b",
   "metadata": {},
   "source": [
    "## storing Keys and values\n",
    "<img src=\"https://i.imgur.com/JZeF9ix.png\" width=\"520\">"
   ]
  },
  {
   "cell_type": "code",
   "execution_count": null,
   "id": "2ac93bd8-7cbc-481e-9eaf-50742bc501c5",
   "metadata": {},
   "outputs": [],
   "source": []
  },
  {
   "cell_type": "code",
   "execution_count": 42,
   "id": "af8110ff-4a96-4517-a02b-e36f105174d1",
   "metadata": {},
   "outputs": [],
   "source": [
    "class User:\n",
    "    def __init__(self,username, name, email):\n",
    "        self.username=username\n",
    "        self.name=name\n",
    "        self.email=email\n",
    "        print(\"user created!\")\n",
    "        \n",
    "    def __repr__(self):\n",
    "        return f\"username:{self.username},name:{self.name},email:{self.email}\"\n",
    "        \n",
    "    def __str__(self):\n",
    "        return self.__repr__()\n",
    "    "
   ]
  },
  {
   "cell_type": "code",
   "execution_count": 43,
   "id": "3f72d31a-84de-4086-b2a4-a7d0cb4ae8f7",
   "metadata": {},
   "outputs": [
    {
     "name": "stdout",
     "output_type": "stream",
     "text": [
      "user created!\n",
      "user created!\n",
      "user created!\n",
      "user created!\n",
      "user created!\n",
      "user created!\n",
      "user created!\n"
     ]
    }
   ],
   "source": [
    "user1=User('jadesh1','Jadesh','jadesh@gmail.com')\n",
    "user2=User('biraj1','Biraj','biraj@gmail.com')\n",
    "user3=User('sonaksh','Sonaksh','sonaksh@gmail.com')\n",
    "user4=User('aakash','Akash','akash@gmail.com')\n",
    "user5=User('hemanth','Hemanth','hemanth@gmail.com')\n",
    "user6=User('siddhant','Sidhant','sidant@gmail.com')\n",
    "user7=User('vishal','Vishal','vishal@gmail.com')"
   ]
  },
  {
   "cell_type": "code",
   "execution_count": 45,
   "id": "054cb521-2aad-4b4f-956b-06684fcc6f46",
   "metadata": {},
   "outputs": [
    {
     "name": "stdout",
     "output_type": "stream",
     "text": [
      "<__main__.User object at 0x0000028E43FF7DD0>\n"
     ]
    }
   ],
   "source": [
    "print(user4)"
   ]
  },
  {
   "cell_type": "code",
   "execution_count": 34,
   "id": "c49b0cc5-73d3-4a51-944b-41c798b2b266",
   "metadata": {},
   "outputs": [
    {
     "data": {
      "text/plain": [
       "[User:(username:jadesh1, name: Jadesh, email: jadesh@gmail.com),\n",
       " User:(username:biraj1, name: Biraj, email: biraj@gmail.com),\n",
       " User:(username:sonaksh, name: Sonaksh, email: sonaksh@gmail.com),\n",
       " User:(username:aakash, name: Akash, email: akash@gmail.com),\n",
       " User:(username:hemanth, name: Hemanth, email: hemanth@gmail.com),\n",
       " User:(username:siddhant, name: Sidhant, email: sidant@gmail.com),\n",
       " User:(username:vishal, name: Vishal, email: vishal@gmail.com)]"
      ]
     },
     "execution_count": 34,
     "metadata": {},
     "output_type": "execute_result"
    }
   ],
   "source": [
    "users=[user1,user2,user3,user4,user5,user6,user7]\n",
    "users"
   ]
  },
  {
   "cell_type": "code",
   "execution_count": 32,
   "id": "b61c4a31-6cd2-40dc-a846-075e15a54755",
   "metadata": {},
   "outputs": [],
   "source": [
    "class BSTnode:\n",
    "    def __init__(self,key,value=None):\n",
    "        self.key=key\n",
    "        self.value=value\n",
    "        self.left=None\n",
    "        self.right=None\n",
    "        self.parent=None\n",
    "    def __repr__(self):\n",
    "        return f\"User({self.value})\""
   ]
  },
  {
   "cell_type": "code",
   "execution_count": 84,
   "id": "e98e9dad-e9d1-45a4-b6bb-f9566d442daf",
   "metadata": {},
   "outputs": [],
   "source": [
    "#level 0\n",
    "tree=BSTnode(user1.username, user1)"
   ]
  },
  {
   "cell_type": "code",
   "execution_count": 85,
   "id": "e2381089-203f-4688-b1e2-15b17d8576d8",
   "metadata": {},
   "outputs": [],
   "source": [
    "#level 1\n",
    "tree.left=BSTnode(user2.username,user2)\n",
    "tree.left.parent=tree\n",
    "tree.right=BSTnode(user3.username,user3)\n",
    "tree.right.parent=tree"
   ]
  },
  {
   "cell_type": "code",
   "execution_count": 86,
   "id": "6afc61d5-3fbd-46b0-8717-aed997f8bc92",
   "metadata": {},
   "outputs": [],
   "source": [
    "#level2 \n",
    "tree.left.left=BSTnode(user4.username,user5)\n",
    "tree.left.left.parent=tree.left\n",
    "tree.left.right=BSTnode(user5.username,user5)\n",
    "tree.left.right.parent=tree.left\n",
    "\n",
    "tree.right.left=BSTnode(user6.username,user6)\n",
    "tree.right.left.parent=tree.right\n",
    "tree.right.right=BSTnode(user7.username,user7)\n",
    "tree.right.right.parent=tree.right"
   ]
  },
  {
   "cell_type": "code",
   "execution_count": 87,
   "id": "2fd76124-dc0b-401e-a41b-920d065b186c",
   "metadata": {},
   "outputs": [
    {
     "name": "stdout",
     "output_type": "stream",
     "text": [
      "\t\tvishal\n",
      "\tsonaksh\n",
      "\t\tsiddhant\n",
      "jadesh1\n",
      "\t\themanth\n",
      "\tbiraj1\n",
      "\t\taakash\n"
     ]
    }
   ],
   "source": [
    "display(tree)"
   ]
  },
  {
   "cell_type": "markdown",
   "id": "7a052dee-046a-4327-8727-70539096f390",
   "metadata": {},
   "source": [
    "## Insertion in BST\n",
    "<img src=\"https://i.imgur.com/JZeF9ix.png\" width=\"520\">"
   ]
  },
  {
   "cell_type": "code",
   "execution_count": 35,
   "id": "3da58162-d467-45ed-aaea-db5711624254",
   "metadata": {},
   "outputs": [],
   "source": [
    "def insert(node,key,value):\n",
    "    if node is None:\n",
    "        node=BSTnode(key,value)\n",
    "    elif key<node.key:\n",
    "        node.left=insert(node.left,key,value)\n",
    "        node.left.parent=node\n",
    "    elif key>node.key:\n",
    "        node.right=insert(node.right,key,value)\n",
    "        node.right.parent=node\n",
    "    return node"
   ]
  },
  {
   "cell_type": "code",
   "execution_count": 37,
   "id": "fd1fcae9-6207-4de6-aec0-26ae01b545d8",
   "metadata": {},
   "outputs": [],
   "source": [
    "tree=insert(None,user1.username,user1)"
   ]
  },
  {
   "cell_type": "code",
   "execution_count": 38,
   "id": "e89bc658-ed0e-4054-8f84-915ebdc4f9d3",
   "metadata": {},
   "outputs": [
    {
     "data": {
      "text/plain": [
       "User(User:(username:jadesh1, name: Jadesh, email: jadesh@gmail.com))"
      ]
     },
     "execution_count": 38,
     "metadata": {},
     "output_type": "execute_result"
    }
   ],
   "source": [
    "insert(tree,user2.username,user2)\n",
    "insert(tree,user4.username,user4)\n",
    "insert(tree,user5.username,user5)\n",
    "insert(tree,user3.username,user3)\n",
    "insert(tree,user6.username,user6)\n",
    "insert(tree,user7.username,user7)"
   ]
  },
  {
   "cell_type": "code",
   "execution_count": 64,
   "id": "97478e61-b31f-4f80-8a4a-85cbae96026b",
   "metadata": {},
   "outputs": [
    {
     "data": {
      "text/plain": [
       "User:(username:jadesh1, name: Jadesh, email: jadesh@gmail.com)"
      ]
     },
     "execution_count": 64,
     "metadata": {},
     "output_type": "execute_result"
    }
   ],
   "source": [
    "tree.value"
   ]
  },
  {
   "cell_type": "code",
   "execution_count": 92,
   "id": "fe1950d6-6d5c-49d2-9ae1-c93d9063cb20",
   "metadata": {},
   "outputs": [
    {
     "name": "stdout",
     "output_type": "stream",
     "text": [
      "\t\tvishal\n",
      "\tsonaksh\n",
      "\t\tsiddhant\n",
      "jadesh1\n",
      "\t\themanth\n",
      "\tbiraj1\n",
      "\t\taakash\n"
     ]
    }
   ],
   "source": [
    "display(tree)"
   ]
  },
  {
   "cell_type": "markdown",
   "id": "25cd947d-2929-4ce6-9ec0-17f660f880d6",
   "metadata": {},
   "source": [
    "## Skewed BST"
   ]
  },
  {
   "cell_type": "code",
   "execution_count": 93,
   "id": "e703b583-a80b-4da5-9a73-2b76f4c51d18",
   "metadata": {},
   "outputs": [
    {
     "data": {
      "text/plain": [
       "User(username:aakash,name:Akash,email:akash@gmail.com)"
      ]
     },
     "execution_count": 93,
     "metadata": {},
     "output_type": "execute_result"
    }
   ],
   "source": [
    "stre=insert(None,user4.username,user4)\n",
    "insert(stre,user2.username,user2)\n",
    "insert(stre,user5.username,user5)\n",
    "insert(stre,user1.username,user1)\n",
    "insert(stre,user6.username,user6)\n",
    "insert(stre,user3.username,user3)\n",
    "insert(stre,user7.username,user7)"
   ]
  },
  {
   "cell_type": "code",
   "execution_count": 94,
   "id": "81d565d9-261c-4f8b-9aa4-439197a2b5d3",
   "metadata": {},
   "outputs": [
    {
     "name": "stdout",
     "output_type": "stream",
     "text": [
      "\t\t\t\t\t\tvishal\n",
      "\t\t\t\t\tsonaksh\n",
      "\t\t\t\t\t\tnull\n",
      "\t\t\t\tsiddhant\n",
      "\t\t\t\t\tnull\n",
      "\t\t\tjadesh1\n",
      "\t\t\t\tnull\n",
      "\t\themanth\n",
      "\t\t\tnull\n",
      "\tbiraj1\n",
      "\t\tnull\n",
      "aakash\n",
      "\tnull\n"
     ]
    }
   ],
   "source": [
    "display(stre)"
   ]
  },
  {
   "cell_type": "markdown",
   "id": "e0a178d6-294e-4781-9c93-a1a34d091511",
   "metadata": {},
   "source": [
    "### this fully skewd it can again cause o(n) efficiency so we need to overcome this"
   ]
  },
  {
   "cell_type": "markdown",
   "id": "9d120857-ddaa-4175-a44b-cd80c020e8ce",
   "metadata": {},
   "source": [
    " ### So before this,"
   ]
  },
  {
   "cell_type": "markdown",
   "id": "48fc8388-65f6-4e71-831b-3d4a12bdafa3",
   "metadata": {},
   "source": [
    "## Finding function in BST"
   ]
  },
  {
   "cell_type": "code",
   "execution_count": 50,
   "id": "67a62498-0dc1-44e6-ad5b-169f45a90831",
   "metadata": {},
   "outputs": [],
   "source": [
    "def find(node,key):\n",
    "    if node is None:\n",
    "        return None\n",
    "    elif node.key==key:\n",
    "        return node\n",
    "    elif key<node.key:\n",
    "        return find(node.left,key)\n",
    "    elif key>node.key:\n",
    "        return find(node.right,key)"
   ]
  },
  {
   "cell_type": "code",
   "execution_count": 97,
   "id": "91c79613-b696-42d7-ad99-dae61a97f8bb",
   "metadata": {},
   "outputs": [
    {
     "data": {
      "text/plain": [
       "User(username:aakash,name:Akash,email:akash@gmail.com)"
      ]
     },
     "execution_count": 97,
     "metadata": {},
     "output_type": "execute_result"
    }
   ],
   "source": [
    "find(tree, 'aakash')"
   ]
  },
  {
   "cell_type": "markdown",
   "id": "5fa8ac3d-6952-4f32-9752-7b60a519913a",
   "metadata": {},
   "source": [
    "## Update function in BST"
   ]
  },
  {
   "cell_type": "code",
   "execution_count": 121,
   "id": "d0a55976-ed46-48d4-ac6f-8732386d01bc",
   "metadata": {},
   "outputs": [],
   "source": [
    "def update(node,key,value):\n",
    "    if node is None:\n",
    "        return None\n",
    "    target=find(node,key)\n",
    "    target.value=value"
   ]
  },
  {
   "cell_type": "code",
   "execution_count": null,
   "id": "b4859d47-679c-4f3d-8a0a-7981c295ef79",
   "metadata": {},
   "outputs": [],
   "source": [
    "update(None,'er','ss')"
   ]
  },
  {
   "cell_type": "code",
   "execution_count": null,
   "id": "5f0e540d-0030-49c1-bc6a-d1682395e22b",
   "metadata": {},
   "outputs": [],
   "source": [
    "update(tr,'aakash',User('aakash','Aakash','akash123@gmail.com'))"
   ]
  },
  {
   "cell_type": "code",
   "execution_count": null,
   "id": "2317ad75-af0b-454d-b2b8-de6c8f530341",
   "metadata": {},
   "outputs": [],
   "source": [
    "find(tr, 'aakash')"
   ]
  },
  {
   "cell_type": "markdown",
   "id": "80df9759-9ae7-45bb-9e26-bb2f1743c6e0",
   "metadata": {},
   "source": [
    "## list all in sorted order"
   ]
  },
  {
   "cell_type": "code",
   "execution_count": 57,
   "id": "ef953631-c9d3-4a89-a661-fd94a3f376b1",
   "metadata": {},
   "outputs": [],
   "source": [
    "def list_all(node):\n",
    "    if node is None:\n",
    "        return []\n",
    "    return (list_all(node.left)+[(node.key,node.value)]+list_all(node.right))"
   ]
  },
  {
   "cell_type": "code",
   "execution_count": 58,
   "id": "36d5c133-c9c4-44e3-a0e9-24e8f2ff7a04",
   "metadata": {},
   "outputs": [],
   "source": [
    "listt=list_all(tree)"
   ]
  },
  {
   "cell_type": "code",
   "execution_count": 59,
   "id": "6fd8941b-8617-4934-8756-20acd668c533",
   "metadata": {},
   "outputs": [
    {
     "data": {
      "text/plain": [
       "[('aakash', User:(username:aakash, name: Akash, email: akash@gmail.com)),\n",
       " ('biraj1', User:(username:biraj1, name: Biraj, email: biraj@gmail.com)),\n",
       " ('hemanth', User:(username:hemanth, name: Hemanth, email: hemanth@gmail.com)),\n",
       " ('jadesh1', User:(username:jadesh1, name: Jadesh, email: jadesh@gmail.com)),\n",
       " ('siddhant',\n",
       "  User:(username:siddhant, name: Sidhant, email: sidant@gmail.com)),\n",
       " ('sonaksh', User:(username:sonaksh, name: Sonaksh, email: sonaksh@gmail.com)),\n",
       " ('vishal', User:(username:vishal, name: Vishal, email: vishal@gmail.com))]"
      ]
     },
     "execution_count": 59,
     "metadata": {},
     "output_type": "execute_result"
    }
   ],
   "source": [
    "listt"
   ]
  },
  {
   "cell_type": "markdown",
   "id": "0e522b4d-34f2-402c-aa3e-d5a42a7cb902",
   "metadata": {},
   "source": [
    "## Balanced Binary search tree"
   ]
  },
  {
   "cell_type": "code",
   "execution_count": 117,
   "id": "d9cc2626-c233-498a-aa03-04d630589922",
   "metadata": {},
   "outputs": [],
   "source": [
    "def is_balanced(node):\n",
    "    if node is None:\n",
    "        return True,0\n",
    "    bal_l,height_l=is_balanced(node.left)\n",
    "    bal_r,height_r=is_balanced(node.right)\n",
    "    balanced=bal_l and bal_r and abs(height_l-height_r)<=1\n",
    "    height=1+max(height_l,height_r)\n",
    "    return balanced,height"
   ]
  },
  {
   "cell_type": "code",
   "execution_count": 100,
   "id": "b34e8483-5711-4ac3-845c-03c750258373",
   "metadata": {},
   "outputs": [
    {
     "data": {
      "text/plain": [
       "(True, 3)"
      ]
     },
     "execution_count": 100,
     "metadata": {},
     "output_type": "execute_result"
    }
   ],
   "source": [
    "is_balanced(tree)"
   ]
  },
  {
   "cell_type": "code",
   "execution_count": 101,
   "id": "e0d4bda9-67e2-4aa1-8e98-8e166ffbe4cc",
   "metadata": {},
   "outputs": [
    {
     "data": {
      "text/plain": [
       "(False, 7)"
      ]
     },
     "execution_count": 101,
     "metadata": {},
     "output_type": "execute_result"
    }
   ],
   "source": [
    "is_balanced(stre)"
   ]
  },
  {
   "cell_type": "markdown",
   "id": "7f3e49ec-4fdc-4ec0-9ac7-3878751168db",
   "metadata": {},
   "source": [
    "**Exercise:** Is the tree shown below balanced? Why or why not? Create this tree and check if it's balanced using the `is_balanced` function.\n",
    "\n",
    "<img src=\"https://i.imgur.com/LlOT712.png\" width=\"520\">"
   ]
  },
  {
   "cell_type": "code",
   "execution_count": null,
   "id": "ea720a61-c970-492a-a528-d8fa3c2867fd",
   "metadata": {},
   "outputs": [],
   "source": [
    "user8=User('tanya','Tanya','tanya@gmail.com')"
   ]
  },
  {
   "cell_type": "code",
   "execution_count": null,
   "id": "3c936ec6-8653-4b4c-8375-fe516c72c793",
   "metadata": {},
   "outputs": [],
   "source": [
    "insert(tree,user8.username,user8)"
   ]
  },
  {
   "cell_type": "code",
   "execution_count": null,
   "id": "b369a4bb-1ba5-4596-9ec4-a43bdc9a3338",
   "metadata": {},
   "outputs": [],
   "source": [
    "insert(tree,'ujjwal',User('ujjwal','Ujjwal','ujjwal@gmail.com'))"
   ]
  },
  {
   "cell_type": "code",
   "execution_count": null,
   "id": "3face131-f8e3-444d-82f1-4632abf3502d",
   "metadata": {},
   "outputs": [],
   "source": [
    "display(tree)"
   ]
  },
  {
   "cell_type": "code",
   "execution_count": null,
   "id": "69c2b1e9-fb07-4ac7-895e-a274807d1503",
   "metadata": {},
   "outputs": [],
   "source": [
    "is_balanced(tr)"
   ]
  },
  {
   "cell_type": "markdown",
   "id": "b7956b9b-7278-4c43-a8ad-5a796e7cd849",
   "metadata": {},
   "source": [
    "## Balanced Binary Search Tree"
   ]
  },
  {
   "cell_type": "code",
   "execution_count": 52,
   "id": "ba540285-18eb-4144-88da-b381c5717304",
   "metadata": {},
   "outputs": [],
   "source": [
    "#creating Balanced binary search tree\n",
    "def balncedBST(data,low=0,high=None,parent=None):\n",
    "    if high is None:\n",
    "        high=len(data)-1\n",
    "    if low>high:\n",
    "        return None\n",
    "        \n",
    "    mid=(low+high)//2\n",
    "    #low=1\n",
    "    #high=1\n",
    "    key,value=data[mid]\n",
    "    \n",
    "    root=BSTnode(key,value)\n",
    "    root.parent=parent\n",
    "    root.left=balncedBST(data,low,mid-1,root)\n",
    "    root.right=balncedBST(data,mid+1,high,root)\n",
    "    return root"
   ]
  },
  {
   "cell_type": "code",
   "execution_count": null,
   "id": "96f4f05e-e0fa-4193-9654-a5f0d668c0e0",
   "metadata": {},
   "outputs": [],
   "source": []
  },
  {
   "cell_type": "code",
   "execution_count": null,
   "id": "1ee9dc47-ad91-49ab-8847-4b0a5e3d30fb",
   "metadata": {},
   "outputs": [],
   "source": [
    "users"
   ]
  },
  {
   "cell_type": "code",
   "execution_count": 39,
   "id": "027077e4-5f64-4c02-af96-468e530e63e1",
   "metadata": {},
   "outputs": [],
   "source": [
    "aakash = User('aakash', 'Aakash Rai', 'aakash@example.com')\n",
    "biraj = User('biraj', 'Biraj Das', 'biraj@example.com')\n",
    "hemanth = User('hemanth', 'Hemanth Jain', 'hemanth@example.com')\n",
    "jadhesh = User('jadhesh', 'Jadhesh Verma', 'jadhesh@example.com')\n",
    "siddhant = User('siddhant', 'Siddhant Sinha', 'siddhant@example.com')\n",
    "sonaksh = User('sonaksh', 'Sonaksh Kumar', 'sonaksh@example.com')\n",
    "vishal = User('vishal', 'Vishal Goel', 'vishal@example.com')"
   ]
  },
  {
   "cell_type": "code",
   "execution_count": 130,
   "id": "2ea54c52-5468-4286-8400-3d96ffe3a4f5",
   "metadata": {},
   "outputs": [
    {
     "data": {
      "text/plain": [
       "[username:aakash,name:Aakash Rai,email:aakash@example.com,\n",
       " username:biraj,name:Biraj Das,email:biraj@example.com,\n",
       " username:hemanth,name:Hemanth Jain,email:hemanth@example.com,\n",
       " username:jadhesh,name:Jadhesh Verma,email:jadhesh@example.com,\n",
       " username:siddhant,name:Siddhant Sinha,email:siddhant@example.com,\n",
       " username:sonaksh,name:Sonaksh Kumar,email:sonaksh@example.com,\n",
       " username:vishal,name:Vishal Goel,email:vishal@example.com]"
      ]
     },
     "execution_count": 130,
     "metadata": {},
     "output_type": "execute_result"
    }
   ],
   "source": [
    "users = [aakash, biraj, hemanth, jadhesh, siddhant, sonaksh, vishal] #sorted\n",
    "users"
   ]
  },
  {
   "cell_type": "code",
   "execution_count": 147,
   "id": "5ee84eaa-9265-4568-ba71-9e0bd8a20b9c",
   "metadata": {},
   "outputs": [
    {
     "data": {
      "text/plain": [
       "[('aakash', username:aakash,name:Aakash Rai,email:aakash@example.com),\n",
       " ('biraj', username:biraj,name:Biraj Das,email:biraj@example.com),\n",
       " ('hemanth', username:hemanth,name:Hemanth Jain,email:hemanth@example.com),\n",
       " ('jadhesh', username:jadhesh,name:Jadhesh Verma,email:jadhesh@example.com),\n",
       " ('siddhant',\n",
       "  username:siddhant,name:Siddhant Sinha,email:siddhant@example.com),\n",
       " ('sonaksh', username:sonaksh,name:Sonaksh Kumar,email:sonaksh@example.com),\n",
       " ('vishal', username:vishal,name:Vishal Goel,email:vishal@example.com)]"
      ]
     },
     "execution_count": 147,
     "metadata": {},
     "output_type": "execute_result"
    }
   ],
   "source": [
    "#processing data\n",
    "data = [(user.username, user) for user in users]\n",
    "data"
   ]
  },
  {
   "cell_type": "code",
   "execution_count": null,
   "id": "a73dfc3a-4942-4925-a741-c8045f289749",
   "metadata": {},
   "outputs": [],
   "source": [
    "data"
   ]
  },
  {
   "cell_type": "code",
   "execution_count": 156,
   "id": "a9394463-9fe0-42e2-848b-1c301945e655",
   "metadata": {},
   "outputs": [],
   "source": [
    "trr=balncedBST(data)"
   ]
  },
  {
   "cell_type": "code",
   "execution_count": 157,
   "id": "ed1b4f3c-200c-420d-b268-382f78a11e0e",
   "metadata": {},
   "outputs": [
    {
     "name": "stdout",
     "output_type": "stream",
     "text": [
      "\t\tvishal\n",
      "\tsonaksh\n",
      "\t\tsiddhant\n",
      "jadhesh\n",
      "\t\themanth\n",
      "\tbiraj\n",
      "\t\taakash\n"
     ]
    }
   ],
   "source": [
    "display(trr)"
   ]
  },
  {
   "cell_type": "code",
   "execution_count": null,
   "id": "025880f9-5e93-4ca3-884a-7d4b215f1c25",
   "metadata": {},
   "outputs": [],
   "source": [
    "trsk=None\n",
    "for usern, user in data:\n",
    "    trsk=insert(trsk, usern, user)"
   ]
  },
  {
   "cell_type": "code",
   "execution_count": null,
   "id": "a9350414-9651-4c7e-99f0-aea96fbe4447",
   "metadata": {},
   "outputs": [],
   "source": [
    "display(trsk)"
   ]
  },
  {
   "cell_type": "markdown",
   "id": "0cea7b89-1c80-4701-a598-820b2b9f1efe",
   "metadata": {},
   "source": [
    "## Balance an Unbalnced tree`"
   ]
  },
  {
   "cell_type": "code",
   "execution_count": 61,
   "id": "9ccedf6e-be17-4c5d-aec6-480020f9715b",
   "metadata": {},
   "outputs": [
    {
     "data": {
      "text/plain": [
       "[('aakash', User:(username:aakash, name: Akash, email: akash@gmail.com)),\n",
       " ('biraj1', User:(username:biraj1, name: Biraj, email: biraj@gmail.com)),\n",
       " ('hemanth', User:(username:hemanth, name: Hemanth, email: hemanth@gmail.com)),\n",
       " ('jadesh1', User:(username:jadesh1, name: Jadesh, email: jadesh@gmail.com)),\n",
       " ('siddhant',\n",
       "  User:(username:siddhant, name: Sidhant, email: sidant@gmail.com)),\n",
       " ('sonaksh', User:(username:sonaksh, name: Sonaksh, email: sonaksh@gmail.com)),\n",
       " ('vishal', User:(username:vishal, name: Vishal, email: vishal@gmail.com))]"
      ]
     },
     "execution_count": 61,
     "metadata": {},
     "output_type": "execute_result"
    }
   ],
   "source": [
    "def list_all(node):\n",
    "    if node is None:\n",
    "        return []\n",
    "    return (list_all(node.left)+[(node.key,node.value)]+list_all(node.right))\n",
    "list_all(tree)"
   ]
  },
  {
   "cell_type": "code",
   "execution_count": 62,
   "id": "44e92862-13be-45d2-888f-bb64a2be9bfe",
   "metadata": {},
   "outputs": [],
   "source": [
    "def balanced_tree(node):\n",
    "    return balncedBST(list_all(node))\n",
    "    "
   ]
  },
  {
   "cell_type": "code",
   "execution_count": null,
   "id": "80f55c9a-5ab2-4e1f-bff8-e090724f0c89",
   "metadata": {},
   "outputs": [],
   "source": [
    "tree1=None\n",
    "\n",
    "for user in users:\n",
    "    tree1=insert(tree1,user.username,user)"
   ]
  },
  {
   "cell_type": "code",
   "execution_count": null,
   "id": "2c07a45d-9d68-4f35-a618-c4216a09070b",
   "metadata": {},
   "outputs": [],
   "source": [
    "display(tree1)"
   ]
  },
  {
   "cell_type": "code",
   "execution_count": null,
   "id": "9b27a6f3-7e45-41dc-95a0-76e18d79135d",
   "metadata": {},
   "outputs": [],
   "source": [
    "data #we wanted for balncedBST so list should return in this"
   ]
  },
  {
   "cell_type": "code",
   "execution_count": null,
   "id": "d5699345-edda-43d7-977b-2e3633fd9605",
   "metadata": {},
   "outputs": [],
   "source": [
    "tr2=make_balanced_tree(tree1)"
   ]
  },
  {
   "cell_type": "code",
   "execution_count": null,
   "id": "deea0c0e-9692-4424-adde-a440451b9a68",
   "metadata": {},
   "outputs": [],
   "source": [
    "display(tr2)"
   ]
  },
  {
   "cell_type": "code",
   "execution_count": null,
   "id": "9c95dd62-1358-4108-875b-eb58d6096b9c",
   "metadata": {},
   "outputs": [],
   "source": [
    "import math\n",
    "math.log(100000000, 2)  # if there is 100 million records"
   ]
  },
  {
   "cell_type": "code",
   "execution_count": null,
   "id": "6a3498af-ab40-44ea-a457-42bf2d5d7b66",
   "metadata": {},
   "outputs": [],
   "source": [
    "%%time \n",
    "for i in range(26):\n",
    "    j=i*i# using Balanced binary search tree. we only need to check 26 times"
   ]
  },
  {
   "cell_type": "code",
   "execution_count": null,
   "id": "617fe445-abac-4348-a6c3-fb7c2316b4e9",
   "metadata": {},
   "outputs": [],
   "source": [
    "%%time \n",
    "for i in range(100000000):  # in other method what we id in intial\n",
    "    j=i*i"
   ]
  },
  {
   "cell_type": "markdown",
   "id": "ebc63568-1a51-4a57-b8f7-7dbbc7fc40c7",
   "metadata": {},
   "source": [
    "Thus, find and update from a balanced binary search tree is 300,000 times faster than our original solution. To speed up insertions, we may choose to perform the balancing periodically (e.g. once every 1000 insertions). This way, most insertions will be O (log N), but every 1000th insertion will take a few seconds. Another options is to rebalance the tree periodically at the end of every hour."
   ]
  },
  {
   "cell_type": "markdown",
   "id": "be6d685c-665d-4c7a-a695-79fc3a0d84c6",
   "metadata": {},
   "source": [
    "## A Python-Friendly Treemap"
   ]
  },
  {
   "cell_type": "code",
   "execution_count": 63,
   "id": "05d066d9-50a1-482c-b83c-af60feac69ca",
   "metadata": {},
   "outputs": [],
   "source": [
    "def balanced_tree(node):\n",
    "    return balncedBST(list_all(node))\n",
    "    "
   ]
  },
  {
   "cell_type": "code",
   "execution_count": 53,
   "id": "229c0ff3-331a-4c8f-9989-92196584f8b1",
   "metadata": {},
   "outputs": [],
   "source": [
    "class TreeMap():\n",
    "    def __init__(self):\n",
    "        self.root=None\n",
    "    def __setitem__(self,key,value):\n",
    "        node=find(self.root,key)\n",
    "        if not node:\n",
    "            self.root=insert(self.root,key,value)\n",
    "            self.root=balanced_tree(self.root)\n",
    "        else:\n",
    "            update(self.root,key,value)\n",
    "    def  __getitem__(self,key):\n",
    "        node=find(self.root,key)\n",
    "        if node:\n",
    "            return node.value\n",
    "        else:\n",
    "            return None\n",
    "    def __iter__(self):\n",
    "        return (x for x in list_all(self.root))\n",
    "    def __len__(self):\n",
    "        return tree_size(self.root)\n",
    "    def display(self):\n",
    "        return display(self.root)"
   ]
  },
  {
   "cell_type": "code",
   "execution_count": 47,
   "id": "fa3474dc-708b-40b5-a49b-2c3d29cc0c2a",
   "metadata": {},
   "outputs": [],
   "source": [
    "treemap=TreeMap()"
   ]
  },
  {
   "cell_type": "code",
   "execution_count": 48,
   "id": "deb2035f-0342-471b-8b46-e2f8a2e382c8",
   "metadata": {},
   "outputs": [
    {
     "name": "stdout",
     "output_type": "stream",
     "text": [
      "user created!\n",
      "user created!\n",
      "user created!\n",
      "user created!\n",
      "user created!\n",
      "user created!\n",
      "user created!\n"
     ]
    }
   ],
   "source": [
    "aakash = User('aakash', 'Aakash Rai', 'aakash@example.com')\n",
    "biraj = User('biraj', 'Biraj Das', 'biraj@example.com')\n",
    "hemanth = User('hemanth', 'Hemanth Jain', 'hemanth@example.com')\n",
    "jadhesh = User('jadhesh', 'Jadhesh Verma', 'jadhesh@example.com')\n",
    "siddhant = User('siddhant', 'Siddhant Sinha', 'siddhant@example.com')\n",
    "sonaksh = User('sonaksh', 'Sonaksh Kumar', 'sonaksh@example.com')\n",
    "vishal = User('vishal', 'Vishal Goel', 'vishal@example.com')"
   ]
  },
  {
   "cell_type": "code",
   "execution_count": 51,
   "id": "368e22c6-d414-46e1-b9c6-00e90ac21994",
   "metadata": {},
   "outputs": [
    {
     "ename": "NameError",
     "evalue": "name 'balanced_tree' is not defined",
     "output_type": "error",
     "traceback": [
      "\u001b[31m---------------------------------------------------------------------------\u001b[39m",
      "\u001b[31mNameError\u001b[39m                                 Traceback (most recent call last)",
      "\u001b[36mCell\u001b[39m\u001b[36m \u001b[39m\u001b[32mIn[51]\u001b[39m\u001b[32m, line 1\u001b[39m\n\u001b[32m----> \u001b[39m\u001b[32m1\u001b[39m \u001b[43mtreemap\u001b[49m\u001b[43m[\u001b[49m\u001b[33;43m'\u001b[39;49m\u001b[33;43maakash\u001b[39;49m\u001b[33;43m'\u001b[39;49m\u001b[43m]\u001b[49m=aakash\n\u001b[32m      2\u001b[39m treemap[\u001b[33m'\u001b[39m\u001b[33mbiraj\u001b[39m\u001b[33m'\u001b[39m]=biraj\n\u001b[32m      3\u001b[39m treemap[\u001b[33m'\u001b[39m\u001b[33mhemanth\u001b[39m\u001b[33m'\u001b[39m]=hemanth\n",
      "\u001b[36mCell\u001b[39m\u001b[36m \u001b[39m\u001b[32mIn[46]\u001b[39m\u001b[32m, line 8\u001b[39m, in \u001b[36mTreeMap.__setitem__\u001b[39m\u001b[34m(self, key, value)\u001b[39m\n\u001b[32m      6\u001b[39m \u001b[38;5;28;01mif\u001b[39;00m \u001b[38;5;129;01mnot\u001b[39;00m node:\n\u001b[32m      7\u001b[39m     \u001b[38;5;28mself\u001b[39m.root=insert(\u001b[38;5;28mself\u001b[39m.root,key,value)\n\u001b[32m----> \u001b[39m\u001b[32m8\u001b[39m     \u001b[38;5;28mself\u001b[39m.root=\u001b[43mbalanced_tree\u001b[49m(\u001b[38;5;28mself\u001b[39m.root)\n\u001b[32m      9\u001b[39m \u001b[38;5;28;01melse\u001b[39;00m:\n\u001b[32m     10\u001b[39m     update(\u001b[38;5;28mself\u001b[39m.root,key,value)\n",
      "\u001b[31mNameError\u001b[39m: name 'balanced_tree' is not defined"
     ]
    }
   ],
   "source": [
    "treemap['aakash']=aakash\n",
    "treemap['biraj']=biraj\n",
    "treemap['hemanth']=hemanth\n",
    "treemap['jadhesh']=jadhesh\n",
    "treemap['sonaksh ']=sonaksh \n",
    "treemap['siddhant']=siddhant\n",
    "treemap['vishal']=vishal"
   ]
  },
  {
   "cell_type": "code",
   "execution_count": 176,
   "id": "dae6ab51-b602-4c59-a31b-683344220d3c",
   "metadata": {},
   "outputs": [
    {
     "name": "stdout",
     "output_type": "stream",
     "text": [
      "\t\tvishal\n",
      "\tsonaksh \n",
      "\t\tsiddhant\n",
      "jadhesh\n",
      "\t\themanth\n",
      "\tbiraj\n",
      "\t\taakash\n"
     ]
    }
   ],
   "source": [
    "treemap.display()"
   ]
  },
  {
   "cell_type": "code",
   "execution_count": 177,
   "id": "cb29a291-d134-4821-8aca-d9e51e653df3",
   "metadata": {},
   "outputs": [
    {
     "data": {
      "text/plain": [
       "7"
      ]
     },
     "execution_count": 177,
     "metadata": {},
     "output_type": "execute_result"
    }
   ],
   "source": [
    "len(treemap)"
   ]
  },
  {
   "cell_type": "code",
   "execution_count": 179,
   "id": "691c8d35-acc8-42b5-9205-9189559f7f43",
   "metadata": {},
   "outputs": [
    {
     "name": "stdout",
     "output_type": "stream",
     "text": [
      "user created!\n"
     ]
    }
   ],
   "source": [
    "treemap['aakash']=User('aakash', 'Aakash N S', 'aakash12@example.com')"
   ]
  },
  {
   "cell_type": "code",
   "execution_count": 180,
   "id": "17bdeb00-6f9b-4419-8225-3be942c98844",
   "metadata": {},
   "outputs": [
    {
     "data": {
      "text/plain": [
       "username:aakash,name:Aakash N S,email:aakash12@example.com"
      ]
     },
     "execution_count": 180,
     "metadata": {},
     "output_type": "execute_result"
    }
   ],
   "source": [
    "treemap['aakash']"
   ]
  },
  {
   "cell_type": "code",
   "execution_count": 182,
   "id": "2f820690-2e21-4cbe-8f24-3ed69154928c",
   "metadata": {},
   "outputs": [
    {
     "name": "stdout",
     "output_type": "stream",
     "text": [
      "aakash username:aakash,name:Aakash N S,email:aakash12@example.com\n",
      "biraj username:biraj,name:Biraj Das,email:biraj@example.com\n",
      "hemanth username:hemanth,name:Hemanth Jain,email:hemanth@example.com\n",
      "jadhesh username:jadhesh,name:Jadhesh Verma,email:jadhesh@example.com\n",
      "siddhant username:siddhant,name:Siddhant Sinha,email:siddhant@example.com\n",
      "sonaksh  username:sonaksh,name:Sonaksh Kumar,email:sonaksh@example.com\n",
      "vishal username:vishal,name:Vishal Goel,email:vishal@example.com\n"
     ]
    }
   ],
   "source": [
    "for un, v in treemap:\n",
    "     print(un, v)"
   ]
  },
  {
   "cell_type": "code",
   "execution_count": 65,
   "id": "52c36b29-f180-485c-93e5-b623a91f6ccc",
   "metadata": {},
   "outputs": [],
   "source": [
    "class TreeMap:\n",
    "    def __init__(self):\n",
    "        self.root=None\n",
    "    def __setitem__(self,key,value):\n",
    "        node=find(self.root,key)\n",
    "        if not node:\n",
    "            self.root=insert(self.root,key,value)\n",
    "            self.root=balanced_tree(self.root)\n",
    "        else:\n",
    "            update(self.root,key,value)\n",
    "    def __getitem__(self,key):\n",
    "        node=find(self.root,key)\n",
    "        if node:\n",
    "            return node.value\n",
    "        else:\n",
    "            return None\n",
    "    def __iter__(self):\n",
    "        return (x for x in list_all(self.root))\n",
    "    def __len__(self):\n",
    "        return height(self.root)"
   ]
  },
  {
   "cell_type": "code",
   "execution_count": null,
   "id": "c0e0345a-e529-4a85-b614-83e1b259bed7",
   "metadata": {},
   "outputs": [],
   "source": []
  }
 ],
 "metadata": {
  "kernelspec": {
   "display_name": "Python 3 (ipykernel)",
   "language": "python",
   "name": "python3"
  },
  "language_info": {
   "codemirror_mode": {
    "name": "ipython",
    "version": 3
   },
   "file_extension": ".py",
   "mimetype": "text/x-python",
   "name": "python",
   "nbconvert_exporter": "python",
   "pygments_lexer": "ipython3",
   "version": "3.11.0"
  }
 },
 "nbformat": 4,
 "nbformat_minor": 5
}
