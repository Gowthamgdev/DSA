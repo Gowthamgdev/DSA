{
 "cells": [
  {
   "cell_type": "markdown",
   "id": "f015e90c-16e7-4a64-b39c-7aea55538095",
   "metadata": {},
   "source": [
    "# Lets Start"
   ]
  },
  {
   "cell_type": "markdown",
   "id": "3d73fd1c-2537-46d7-8ed2-fa84a8b24508",
   "metadata": {},
   "source": [
    "### Question 1"
   ]
  },
  {
   "cell_type": "code",
   "execution_count": 1,
   "id": "c30d710e-571e-4775-8ed2-3d9b688c0a1d",
   "metadata": {},
   "outputs": [],
   "source": [
    "def locate_card(cards, query):\n",
    "    pass"
   ]
  },
  {
   "cell_type": "code",
   "execution_count": 2,
   "id": "34f5c412-94ad-4ac0-9a30-8197f07b97c8",
   "metadata": {},
   "outputs": [],
   "source": [
    "cards=[13,11,10,7,4,3,1,0]\n",
    "query=7\n",
    "output=3"
   ]
  },
  {
   "cell_type": "code",
   "execution_count": 3,
   "id": "9dd45580-1574-413b-8f28-1dc29f7ed8c1",
   "metadata": {},
   "outputs": [
    {
     "name": "stdout",
     "output_type": "stream",
     "text": [
      "None\n"
     ]
    }
   ],
   "source": [
    "result=locate_card(cards,query)\n",
    "print(result)"
   ]
  },
  {
   "cell_type": "code",
   "execution_count": 4,
   "id": "f0009f08-fae9-4700-a43f-2deb8eb12413",
   "metadata": {},
   "outputs": [
    {
     "data": {
      "text/plain": [
       "False"
      ]
     },
     "execution_count": 4,
     "metadata": {},
     "output_type": "execute_result"
    }
   ],
   "source": [
    "result==output"
   ]
  },
  {
   "cell_type": "code",
   "execution_count": 5,
   "id": "d762b599-4c99-4247-88d1-943946ca6631",
   "metadata": {},
   "outputs": [
    {
     "name": "stdout",
     "output_type": "stream",
     "text": [
      "{'input': {'cards': [13, 11, 10, 7, 4, 3, 1, 0], 'query': 7}, 'output': 3}\n"
     ]
    }
   ],
   "source": [
    "test={\n",
    "    'input':{\n",
    "        'cards':[13,11,10,7,4,3,1,0],\n",
    "        'query':7\n",
    "    },\n",
    "    'output':3\n",
    "}\n",
    "print(test)"
   ]
  },
  {
   "cell_type": "code",
   "execution_count": 6,
   "id": "7cf2271a-523c-4a39-913c-806dc64d5c71",
   "metadata": {},
   "outputs": [
    {
     "data": {
      "text/plain": [
       "False"
      ]
     },
     "execution_count": 6,
     "metadata": {},
     "output_type": "execute_result"
    }
   ],
   "source": [
    "locate_card(**test['input'])==test['output']"
   ]
  },
  {
   "cell_type": "markdown",
   "id": "6290c39e-4f49-41a1-91a1-2ef714df25dd",
   "metadata": {},
   "source": [
    "### Adding more test cases"
   ]
  },
  {
   "cell_type": "code",
   "execution_count": 6,
   "id": "e9e6e9b2-aaa9-4f73-a704-9be0a0686f4e",
   "metadata": {},
   "outputs": [
    {
     "name": "stdout",
     "output_type": "stream",
     "text": [
      "[{'input': {'cards': [13, 11, 10, 7, 4, 3, 1, 0], 'query': 7}, 'output': 3}, {'input': {'cards': [13, 11, 10, 7, 4, 3, 1, 0], 'query': 1}, 'output': 6}]\n"
     ]
    }
   ],
   "source": [
    "tests=[]\n",
    "tests.append(test)\n",
    "tests.append({\n",
    "    'input':{\n",
    "        'cards':[13,11,10,7,4,3,1,0],\n",
    "        'query':1\n",
    "    },\n",
    "    'output':6\n",
    "})\n",
    "print(tests)"
   ]
  },
  {
   "cell_type": "code",
   "execution_count": 8,
   "id": "63eca308-9e55-4dee-9867-12003832e327",
   "metadata": {},
   "outputs": [
    {
     "name": "stdout",
     "output_type": "stream",
     "text": [
      "[{'input': {'cards': [13, 11, 10, 7, 4, 3, 1, 0], 'query': 7}, 'output': 3}, {'input': {'cards': [13, 11, 10, 7, 4, 3, 1, 0], 'query': 1}, 'output': 6}, {'input': {'cards': [4, 2, 1, -1], 'query': 4}, 'output': 0}]\n"
     ]
    }
   ],
   "source": [
    "tests.append({\n",
    "    'input':{\n",
    "        'cards':[4,2,1,-1],\n",
    "        'query':4\n",
    "    },\n",
    "    'output':0\n",
    "})\n",
    "print(tests)"
   ]
  },
  {
   "cell_type": "code",
   "execution_count": 7,
   "id": "a3891478-fdaa-410a-8a52-0345a4f57bcc",
   "metadata": {},
   "outputs": [
    {
     "name": "stdout",
     "output_type": "stream",
     "text": [
      "[{'input': {'cards': [13, 11, 10, 7, 4, 3, 1, 0], 'query': 7}, 'output': 3}, {'input': {'cards': [13, 11, 10, 7, 4, 3, 1, 0], 'query': 1}, 'output': 6}, {'input': {'cards': [3, -1, -9, -127], 'query': -127}, 'output': 3}, {'input': {'cards': [6], 'query': 6}, 'output': 0}]\n"
     ]
    }
   ],
   "source": [
    "tests.append({\n",
    "    'input':{\n",
    "        'cards':[3,-1,-9,-127],\n",
    "        'query':-127\n",
    "    },\n",
    "    'output':3\n",
    "})\n",
    "tests.append({\n",
    "    'input':{\n",
    "        'cards':[6],\n",
    "        'query':6\n",
    "    },\n",
    "    'output':0\n",
    "})\n",
    "print(tests)"
   ]
  },
  {
   "cell_type": "markdown",
   "id": "9dc40aa3-a6b3-45e9-b8a8-cae88fb4f31b",
   "metadata": {},
   "source": [
    "### edge cases rare (we assume function written -1 in some cases)"
   ]
  },
  {
   "cell_type": "code",
   "execution_count": 8,
   "id": "033e3a40-548e-4ddc-9602-c16b91829efb",
   "metadata": {},
   "outputs": [],
   "source": [
    "tests.append({\n",
    "    'input':{\n",
    "        'cards':[9,7,5,2,-9],\n",
    "        'query':4\n",
    "    },\n",
    "    'output':-1\n",
    "})\n",
    "tests.append({\n",
    "    'input':{\n",
    "        'cards':[],\n",
    "        'query':7\n",
    "    },\n",
    "    'output':-1  \n",
    "})\n",
    "tests.append({\n",
    "    'input':{\n",
    "        'cards':[8,8,6,6,6,6,6,3,2,2,2,0,0,0],\n",
    "        'query':3\n",
    "    },\n",
    "    'output':7\n",
    "})"
   ]
  },
  {
   "cell_type": "markdown",
   "id": "ca87338d-db68-4663-bd05-583f778a12c7",
   "metadata": {},
   "source": [
    "### query occurs multiple times"
   ]
  },
  {
   "cell_type": "code",
   "execution_count": 9,
   "id": "6b65dd1a-2e52-44f4-89d6-23e1d9ab4b8a",
   "metadata": {},
   "outputs": [],
   "source": [
    "tests.append({\n",
    "    'input':{\n",
    "        'cards':[8,8,6,6,6,6,6,3,2,2,2,0,0,0],\n",
    "        'query':6\n",
    "    },\n",
    "    'output':2\n",
    "})"
   ]
  },
  {
   "cell_type": "code",
   "execution_count": 10,
   "id": "1da459ec-785f-4c15-8201-84aac596ceac",
   "metadata": {},
   "outputs": [
    {
     "name": "stdout",
     "output_type": "stream",
     "text": [
      "[{'input': {'cards': [13, 11, 10, 7, 4, 3, 1, 0], 'query': 7}, 'output': 3}, {'input': {'cards': [13, 11, 10, 7, 4, 3, 1, 0], 'query': 1}, 'output': 6}, {'input': {'cards': [3, -1, -9, -127], 'query': -127}, 'output': 3}, {'input': {'cards': [6], 'query': 6}, 'output': 0}, {'input': {'cards': [9, 7, 5, 2, -9], 'query': 4}, 'output': -1}, {'input': {'cards': [], 'query': 7}, 'output': -1}, {'input': {'cards': [8, 8, 6, 6, 6, 6, 6, 3, 2, 2, 2, 0, 0, 0], 'query': 3}, 'output': 7}, {'input': {'cards': [8, 8, 6, 6, 6, 6, 6, 3, 2, 2, 2, 0, 0, 0], 'query': 6}, 'output': 2}]\n"
     ]
    }
   ],
   "source": [
    "print(tests)"
   ]
  },
  {
   "cell_type": "markdown",
   "id": "2f249b08-2d35-4659-815f-fc26bb41bb95",
   "metadata": {},
   "source": [
    "## Using step 4"
   ]
  },
  {
   "cell_type": "code",
   "execution_count": 13,
   "id": "c4c6b292-48d3-4c6e-b08a-4e6446712005",
   "metadata": {},
   "outputs": [],
   "source": [
    "def locate_card(cards, query):\n",
    "    position=0\n",
    "    while True:\n",
    "        if cards[position]==query:\n",
    "            return position\n",
    "        position+=1\n",
    "        if position==len(cards):\n",
    "            return -1\n",
    "            "
   ]
  },
  {
   "cell_type": "code",
   "execution_count": 14,
   "id": "ea937eaa-d71e-4ca6-9a49-d4b8b36da83d",
   "metadata": {},
   "outputs": [
    {
     "data": {
      "text/plain": [
       "{'input': {'cards': [13, 11, 10, 7, 4, 3, 1, 0], 'query': 7}, 'output': 3}"
      ]
     },
     "execution_count": 14,
     "metadata": {},
     "output_type": "execute_result"
    }
   ],
   "source": [
    "test"
   ]
  },
  {
   "cell_type": "code",
   "execution_count": 15,
   "id": "a2e24dab-2454-4ef9-a090-5a0ca541493e",
   "metadata": {},
   "outputs": [
    {
     "data": {
      "text/plain": [
       "3"
      ]
     },
     "execution_count": 15,
     "metadata": {},
     "output_type": "execute_result"
    }
   ],
   "source": [
    "result=locate_card(test['input']['cards'],test['input']['query'])\n",
    "result"
   ]
  },
  {
   "cell_type": "code",
   "execution_count": 16,
   "id": "cb695126-4eb9-497c-8814-9c14ff37eb0f",
   "metadata": {},
   "outputs": [
    {
     "data": {
      "text/plain": [
       "True"
      ]
     },
     "execution_count": 16,
     "metadata": {},
     "output_type": "execute_result"
    }
   ],
   "source": [
    "result==output"
   ]
  },
  {
   "cell_type": "markdown",
   "id": "124774db-2255-4395-bd6e-e68878f3290f",
   "metadata": {},
   "source": [
    "### jovian provided testing library not official one"
   ]
  },
  {
   "cell_type": "code",
   "execution_count": 17,
   "id": "6a264db7-bf7d-4a10-aa9f-f3d8f6e22c4e",
   "metadata": {},
   "outputs": [],
   "source": [
    "!pip install jovian --upgrade --quiet"
   ]
  },
  {
   "cell_type": "code",
   "execution_count": 18,
   "id": "bc031b8e-badf-429d-8b54-b1c021ff2ba7",
   "metadata": {},
   "outputs": [
    {
     "name": "stdout",
     "output_type": "stream",
     "text": [
      "Defaulting to user installation because normal site-packages is not writeable\n",
      "Requirement already satisfied: jovian in c:\\users\\gowthan\\appdata\\roaming\\python\\python313\\site-packages (0.2.47)\n",
      "Requirement already satisfied: requests in c:\\users\\gowthan\\appdata\\roaming\\python\\python313\\site-packages (from jovian) (2.32.5)\n",
      "Requirement already satisfied: uuid in c:\\users\\gowthan\\appdata\\roaming\\python\\python313\\site-packages (from jovian) (1.30)\n",
      "Requirement already satisfied: pyyaml in c:\\users\\gowthan\\appdata\\roaming\\python\\python313\\site-packages (from jovian) (6.0.3)\n",
      "Requirement already satisfied: click in c:\\users\\gowthan\\appdata\\roaming\\python\\python313\\site-packages (from jovian) (8.3.0)\n",
      "Requirement already satisfied: colorama in c:\\users\\gowthan\\appdata\\roaming\\python\\python313\\site-packages (from click->jovian) (0.4.6)\n",
      "Requirement already satisfied: charset_normalizer<4,>=2 in c:\\users\\gowthan\\appdata\\roaming\\python\\python313\\site-packages (from requests->jovian) (3.4.3)\n",
      "Requirement already satisfied: idna<4,>=2.5 in c:\\users\\gowthan\\appdata\\roaming\\python\\python313\\site-packages (from requests->jovian) (3.10)\n",
      "Requirement already satisfied: urllib3<3,>=1.21.1 in c:\\users\\gowthan\\appdata\\roaming\\python\\python313\\site-packages (from requests->jovian) (2.5.0)\n",
      "Requirement already satisfied: certifi>=2017.4.17 in c:\\users\\gowthan\\appdata\\roaming\\python\\python313\\site-packages (from requests->jovian) (2025.10.5)\n"
     ]
    }
   ],
   "source": [
    "!pip install jovian --upgrade"
   ]
  },
  {
   "cell_type": "code",
   "execution_count": 19,
   "id": "77df41b5-3000-456e-be9a-bbb915ea7fe7",
   "metadata": {},
   "outputs": [
    {
     "name": "stdout",
     "output_type": "stream",
     "text": [
      "Installed kernelspec python313 in C:\\Users\\Gowthan\\AppData\\Roaming\\jupyter\\kernels\\python313\n"
     ]
    }
   ],
   "source": [
    "!python -m ipykernel install --user --name python313 --display-name \"Python 3.13 (User)\""
   ]
  },
  {
   "cell_type": "code",
   "execution_count": 20,
   "id": "e87f38c8-93b1-4aa1-bc6b-a4ac11ca081b",
   "metadata": {},
   "outputs": [
    {
     "name": "stdout",
     "output_type": "stream",
     "text": [
      "C:\\Users\\Gowthan\\AppData\\Local\\Programs\\Python\\Python311\\python.exe\n"
     ]
    }
   ],
   "source": [
    "import sys\n",
    "print(sys.executable)"
   ]
  },
  {
   "cell_type": "code",
   "execution_count": 21,
   "id": "2932ad5f-ed9c-4587-986f-741534211283",
   "metadata": {},
   "outputs": [
    {
     "data": {
      "application/javascript": [
       "if (window.IPython && IPython.notebook.kernel) IPython.notebook.kernel.execute('jovian.utils.jupyter.get_notebook_name_saved = lambda: \"' + IPython.notebook.notebook_name + '\"')"
      ],
      "text/plain": [
       "<IPython.core.display.Javascript object>"
      ]
     },
     "metadata": {},
     "output_type": "display_data"
    }
   ],
   "source": [
    "from jovian.pythondsa import evaluate_test_case\n"
   ]
  },
  {
   "cell_type": "code",
   "execution_count": 22,
   "id": "4e5156c8-0aa2-4e24-9686-0c508a7aa3e8",
   "metadata": {},
   "outputs": [
    {
     "name": "stdout",
     "output_type": "stream",
     "text": [
      "Requirement already satisfied: jovian in c:\\users\\gowthan\\appdata\\local\\programs\\python\\python311\\lib\\site-packages (0.2.47)\n",
      "Requirement already satisfied: requests in c:\\users\\gowthan\\appdata\\local\\programs\\python\\python311\\lib\\site-packages (from jovian) (2.32.3)\n",
      "Requirement already satisfied: uuid in c:\\users\\gowthan\\appdata\\local\\programs\\python\\python311\\lib\\site-packages (from jovian) (1.30)\n",
      "Requirement already satisfied: pyyaml in c:\\users\\gowthan\\appdata\\local\\programs\\python\\python311\\lib\\site-packages (from jovian) (6.0.2)\n",
      "Requirement already satisfied: click in c:\\users\\gowthan\\appdata\\local\\programs\\python\\python311\\lib\\site-packages (from jovian) (8.3.0)\n",
      "Requirement already satisfied: colorama in c:\\users\\gowthan\\appdata\\local\\programs\\python\\python311\\lib\\site-packages (from click->jovian) (0.4.6)\n",
      "Requirement already satisfied: charset-normalizer<4,>=2 in c:\\users\\gowthan\\appdata\\local\\programs\\python\\python311\\lib\\site-packages (from requests->jovian) (3.4.1)\n",
      "Requirement already satisfied: idna<4,>=2.5 in c:\\users\\gowthan\\appdata\\local\\programs\\python\\python311\\lib\\site-packages (from requests->jovian) (3.10)\n",
      "Requirement already satisfied: urllib3<3,>=1.21.1 in c:\\users\\gowthan\\appdata\\local\\programs\\python\\python311\\lib\\site-packages (from requests->jovian) (2.4.0)\n",
      "Requirement already satisfied: certifi>=2017.4.17 in c:\\users\\gowthan\\appdata\\local\\programs\\python\\python311\\lib\\site-packages (from requests->jovian) (2025.4.26)\n"
     ]
    },
    {
     "name": "stderr",
     "output_type": "stream",
     "text": [
      "\n",
      "[notice] A new release of pip available: 22.3 -> 25.2\n",
      "[notice] To update, run: C:\\Users\\Gowthan\\AppData\\Local\\Programs\\Python\\Python311\\python.exe -m pip install --upgrade pip\n"
     ]
    }
   ],
   "source": [
    "import sys\n",
    "!{sys.executable} -m pip install jovian --upgrade"
   ]
  },
  {
   "cell_type": "code",
   "execution_count": 23,
   "id": "a83a6d0f-5800-4261-8126-24e099360d52",
   "metadata": {},
   "outputs": [
    {
     "name": "stdout",
     "output_type": "stream",
     "text": [
      "✅ Jovian imported successfully!\n"
     ]
    }
   ],
   "source": [
    "from jovian.pythondsa import evaluate_test_case\n",
    "print(\"✅ Jovian imported successfully!\")\n"
   ]
  },
  {
   "cell_type": "markdown",
   "id": "37a11a77-d00e-40d7-9395-6d7d18e43de2",
   "metadata": {},
   "source": [
    "### ok fine lets start"
   ]
  },
  {
   "cell_type": "code",
   "execution_count": 24,
   "id": "968ca646-7699-40b6-a0d3-6019eb84e62a",
   "metadata": {},
   "outputs": [
    {
     "name": "stdout",
     "output_type": "stream",
     "text": [
      "\n",
      "Input:\n",
      "{'cards': [13, 11, 10, 7, 4, 3, 1, 0], 'query': 7}\n",
      "\n",
      "Expected Output:\n",
      "3\n",
      "\n",
      "\n",
      "Actual Output:\n",
      "3\n",
      "\n",
      "Execution Time:\n",
      "0.003 ms\n",
      "\n",
      "Test Result:\n",
      "\u001b[92mPASSED\u001b[0m\n",
      "\n"
     ]
    },
    {
     "data": {
      "text/plain": [
       "(3, True, 0.003)"
      ]
     },
     "execution_count": 24,
     "metadata": {},
     "output_type": "execute_result"
    }
   ],
   "source": [
    "evaluate_test_case(locate_card, test)"
   ]
  },
  {
   "cell_type": "code",
   "execution_count": 25,
   "id": "852a39cd-ac26-4ddc-85a8-69f3427cd45c",
   "metadata": {},
   "outputs": [
    {
     "name": "stdout",
     "output_type": "stream",
     "text": [
      "True\n",
      "True\n",
      "True\n",
      "True\n",
      "True\n",
      "True\n"
     ]
    },
    {
     "ename": "IndexError",
     "evalue": "list index out of range",
     "output_type": "error",
     "traceback": [
      "\u001b[31m---------------------------------------------------------------------------\u001b[39m",
      "\u001b[31mIndexError\u001b[39m                                Traceback (most recent call last)",
      "\u001b[36mCell\u001b[39m\u001b[36m \u001b[39m\u001b[32mIn[25]\u001b[39m\u001b[32m, line 2\u001b[39m\n\u001b[32m      1\u001b[39m \u001b[38;5;28;01mfor\u001b[39;00m test \u001b[38;5;129;01min\u001b[39;00m tests:\n\u001b[32m----> \u001b[39m\u001b[32m2\u001b[39m     \u001b[38;5;28mprint\u001b[39m(\u001b[43mlocate_card\u001b[49m\u001b[43m(\u001b[49m\u001b[43m*\u001b[49m\u001b[43m*\u001b[49m\u001b[43mtest\u001b[49m\u001b[43m[\u001b[49m\u001b[33;43m'\u001b[39;49m\u001b[33;43minput\u001b[39;49m\u001b[33;43m'\u001b[39;49m\u001b[43m]\u001b[49m\u001b[43m)\u001b[49m==test[\u001b[33m'\u001b[39m\u001b[33moutput\u001b[39m\u001b[33m'\u001b[39m])\n",
      "\u001b[36mCell\u001b[39m\u001b[36m \u001b[39m\u001b[32mIn[13]\u001b[39m\u001b[32m, line 4\u001b[39m, in \u001b[36mlocate_card\u001b[39m\u001b[34m(cards, query)\u001b[39m\n\u001b[32m      2\u001b[39m position=\u001b[32m0\u001b[39m\n\u001b[32m      3\u001b[39m \u001b[38;5;28;01mwhile\u001b[39;00m \u001b[38;5;28;01mTrue\u001b[39;00m:\n\u001b[32m----> \u001b[39m\u001b[32m4\u001b[39m     \u001b[38;5;28;01mif\u001b[39;00m \u001b[43mcards\u001b[49m\u001b[43m[\u001b[49m\u001b[43mposition\u001b[49m\u001b[43m]\u001b[49m==query:\n\u001b[32m      5\u001b[39m         \u001b[38;5;28;01mreturn\u001b[39;00m position\n\u001b[32m      6\u001b[39m     position+=\u001b[32m1\u001b[39m\n",
      "\u001b[31mIndexError\u001b[39m: list index out of range"
     ]
    }
   ],
   "source": [
    "for test in tests:\n",
    "    print(locate_card(**test['input'])==test['output'])"
   ]
  },
  {
   "cell_type": "markdown",
   "id": "fe56aec3-4f3b-46cd-9281-ede7245eba73",
   "metadata": {},
   "source": [
    "### OR"
   ]
  },
  {
   "cell_type": "code",
   "execution_count": 3,
   "id": "6257f993-8cd4-4136-8f31-cc028b24045a",
   "metadata": {},
   "outputs": [
    {
     "data": {
      "application/javascript": [
       "if (window.IPython && IPython.notebook.kernel) IPython.notebook.kernel.execute('jovian.utils.jupyter.get_notebook_name_saved = lambda: \"' + IPython.notebook.notebook_name + '\"')"
      ],
      "text/plain": [
       "<IPython.core.display.Javascript object>"
      ]
     },
     "metadata": {},
     "output_type": "display_data"
    }
   ],
   "source": [
    "from jovian.pythondsa import evaluate_test_cases"
   ]
  },
  {
   "cell_type": "code",
   "execution_count": 27,
   "id": "241bf41c-f7c9-4132-a0c4-5653b787fc8e",
   "metadata": {},
   "outputs": [
    {
     "name": "stdout",
     "output_type": "stream",
     "text": [
      "Test case 0\n",
      "{'input': {'cards': [13, 11, 10, 7, 4, 3, 1, 0], 'query': 7}, 'output': 3}\n",
      "\n",
      "Test case 1\n",
      "{'input': {'cards': [13, 11, 10, 7, 4, 3, 1, 0], 'query': 1}, 'output': 6}\n",
      "\n",
      "Test case 2\n",
      "{'input': {'cards': [4, 2, 1, -1], 'query': 4}, 'output': 0}\n",
      "\n",
      "Test case 3\n",
      "{'input': {'cards': [3, -1, -9, -127], 'query': -127}, 'output': 3}\n",
      "\n",
      "Test case 4\n",
      "{'input': {'cards': [6], 'query': 6}, 'output': 0}\n",
      "\n",
      "Test case 5\n",
      "{'input': {'cards': [9, 7, 5, 2, -9], 'query': 4}, 'output': -1}\n",
      "\n",
      "Test case 6\n",
      "{'input': {'cards': [], 'query': 7}, 'output': -1}\n",
      "\n",
      "Test case 7\n",
      "{'input': {'cards': [8, 8, 6, 6, 6, 6, 6, 3, 2, 2, 2, 0, 0, 0], 'query': 3}, 'output': 7}\n",
      "\n",
      "Test case 8\n",
      "{'input': {'cards': [8, 8, 6, 6, 6, 6, 6, 3, 2, 2, 2, 0, 0, 0], 'query': 6}, 'output': 2}\n",
      "\n"
     ]
    }
   ],
   "source": [
    "for i in range(len(tests)):\n",
    "    print(f\"Test case {i}\")\n",
    "    print(tests[i],end=\"\\n\\n\")"
   ]
  },
  {
   "cell_type": "code",
   "execution_count": 28,
   "id": "5f532179-6b53-471a-ab09-fd7c3058b8ba",
   "metadata": {},
   "outputs": [
    {
     "name": "stdout",
     "output_type": "stream",
     "text": [
      "\n",
      "\u001b[1mTEST CASE #0\u001b[0m\n",
      "\n",
      "Input:\n",
      "{'cards': [13, 11, 10, 7, 4, 3, 1, 0], 'query': 7}\n",
      "\n",
      "Expected Output:\n",
      "3\n",
      "\n",
      "\n",
      "Actual Output:\n",
      "3\n",
      "\n",
      "Execution Time:\n",
      "0.004 ms\n",
      "\n",
      "Test Result:\n",
      "\u001b[92mPASSED\u001b[0m\n",
      "\n",
      "\n",
      "\u001b[1mTEST CASE #1\u001b[0m\n",
      "\n",
      "Input:\n",
      "{'cards': [13, 11, 10, 7, 4, 3, 1, 0], 'query': 1}\n",
      "\n",
      "Expected Output:\n",
      "6\n",
      "\n",
      "\n",
      "Actual Output:\n",
      "6\n",
      "\n",
      "Execution Time:\n",
      "0.002 ms\n",
      "\n",
      "Test Result:\n",
      "\u001b[92mPASSED\u001b[0m\n",
      "\n",
      "\n",
      "\u001b[1mTEST CASE #2\u001b[0m\n",
      "\n",
      "Input:\n",
      "{'cards': [4, 2, 1, -1], 'query': 4}\n",
      "\n",
      "Expected Output:\n",
      "0\n",
      "\n",
      "\n",
      "Actual Output:\n",
      "0\n",
      "\n",
      "Execution Time:\n",
      "0.001 ms\n",
      "\n",
      "Test Result:\n",
      "\u001b[92mPASSED\u001b[0m\n",
      "\n",
      "\n",
      "\u001b[1mTEST CASE #3\u001b[0m\n",
      "\n",
      "Input:\n",
      "{'cards': [3, -1, -9, -127], 'query': -127}\n",
      "\n",
      "Expected Output:\n",
      "3\n",
      "\n",
      "\n",
      "Actual Output:\n",
      "3\n",
      "\n",
      "Execution Time:\n",
      "0.002 ms\n",
      "\n",
      "Test Result:\n",
      "\u001b[92mPASSED\u001b[0m\n",
      "\n",
      "\n",
      "\u001b[1mTEST CASE #4\u001b[0m\n",
      "\n",
      "Input:\n",
      "{'cards': [6], 'query': 6}\n",
      "\n",
      "Expected Output:\n",
      "0\n",
      "\n",
      "\n",
      "Actual Output:\n",
      "0\n",
      "\n",
      "Execution Time:\n",
      "0.001 ms\n",
      "\n",
      "Test Result:\n",
      "\u001b[92mPASSED\u001b[0m\n",
      "\n",
      "\n",
      "\u001b[1mTEST CASE #5\u001b[0m\n",
      "\n",
      "Input:\n",
      "{'cards': [9, 7, 5, 2, -9], 'query': 4}\n",
      "\n",
      "Expected Output:\n",
      "-1\n",
      "\n",
      "\n",
      "Actual Output:\n",
      "-1\n",
      "\n",
      "Execution Time:\n",
      "0.002 ms\n",
      "\n",
      "Test Result:\n",
      "\u001b[92mPASSED\u001b[0m\n",
      "\n",
      "\n",
      "\u001b[1mTEST CASE #6\u001b[0m\n"
     ]
    },
    {
     "ename": "IndexError",
     "evalue": "list index out of range",
     "output_type": "error",
     "traceback": [
      "\u001b[31m---------------------------------------------------------------------------\u001b[39m",
      "\u001b[31mIndexError\u001b[39m                                Traceback (most recent call last)",
      "\u001b[36mCell\u001b[39m\u001b[36m \u001b[39m\u001b[32mIn[28]\u001b[39m\u001b[32m, line 1\u001b[39m\n\u001b[32m----> \u001b[39m\u001b[32m1\u001b[39m \u001b[43mevaluate_test_cases\u001b[49m\u001b[43m(\u001b[49m\u001b[43mlocate_card\u001b[49m\u001b[43m,\u001b[49m\u001b[43m \u001b[49m\u001b[43mtests\u001b[49m\u001b[43m)\u001b[49m\n",
      "\u001b[36mFile \u001b[39m\u001b[32m~\\AppData\\Local\\Programs\\Python\\Python311\\Lib\\site-packages\\jovian\\pythondsa\\__init__.py:87\u001b[39m, in \u001b[36mevaluate_test_cases\u001b[39m\u001b[34m(function, test_cases, error_only, summary_only)\u001b[39m\n\u001b[32m     85\u001b[39m \u001b[38;5;28;01mif\u001b[39;00m \u001b[38;5;129;01mnot\u001b[39;00m error_only:\n\u001b[32m     86\u001b[39m     \u001b[38;5;28mprint\u001b[39m(\u001b[33m\"\u001b[39m\u001b[38;5;130;01m\\n\u001b[39;00m\u001b[38;5;130;01m\\033\u001b[39;00m\u001b[33m[1mTEST CASE #\u001b[39m\u001b[38;5;132;01m{}\u001b[39;00m\u001b[38;5;130;01m\\033\u001b[39;00m\u001b[33m[0m\u001b[39m\u001b[33m\"\u001b[39m.format(i))\n\u001b[32m---> \u001b[39m\u001b[32m87\u001b[39m result = \u001b[43mevaluate_test_case\u001b[49m\u001b[43m(\u001b[49m\u001b[43mfunction\u001b[49m\u001b[43m,\u001b[49m\u001b[43m \u001b[49m\u001b[43mtest_case\u001b[49m\u001b[43m,\u001b[49m\u001b[43m \u001b[49m\u001b[43mdisplay\u001b[49m\u001b[43m=\u001b[49m\u001b[38;5;28;43;01mFalse\u001b[39;49;00m\u001b[43m)\u001b[49m\n\u001b[32m     88\u001b[39m results.append(result)\n\u001b[32m     89\u001b[39m \u001b[38;5;28;01mif\u001b[39;00m error_only \u001b[38;5;129;01mand\u001b[39;00m \u001b[38;5;129;01mnot\u001b[39;00m result[\u001b[32m1\u001b[39m]:\n",
      "\u001b[36mFile \u001b[39m\u001b[32m~\\AppData\\Local\\Programs\\Python\\Python311\\Lib\\site-packages\\jovian\\pythondsa\\__init__.py:65\u001b[39m, in \u001b[36mevaluate_test_case\u001b[39m\u001b[34m(function, test_case, display)\u001b[39m\n\u001b[32m     62\u001b[39m     _show_test_case(test_case)\n\u001b[32m     64\u001b[39m start = timer()\n\u001b[32m---> \u001b[39m\u001b[32m65\u001b[39m actual_output = \u001b[43mfunction\u001b[49m\u001b[43m(\u001b[49m\u001b[43m*\u001b[49m\u001b[43m*\u001b[49m\u001b[43minputs\u001b[49m\u001b[43m)\u001b[49m\n\u001b[32m     66\u001b[39m end = timer()\n\u001b[32m     68\u001b[39m runtime = math.ceil((end - start)*\u001b[32m1e6\u001b[39m)/\u001b[32m1000\u001b[39m\n",
      "\u001b[36mCell\u001b[39m\u001b[36m \u001b[39m\u001b[32mIn[13]\u001b[39m\u001b[32m, line 4\u001b[39m, in \u001b[36mlocate_card\u001b[39m\u001b[34m(cards, query)\u001b[39m\n\u001b[32m      2\u001b[39m position=\u001b[32m0\u001b[39m\n\u001b[32m      3\u001b[39m \u001b[38;5;28;01mwhile\u001b[39;00m \u001b[38;5;28;01mTrue\u001b[39;00m:\n\u001b[32m----> \u001b[39m\u001b[32m4\u001b[39m     \u001b[38;5;28;01mif\u001b[39;00m \u001b[43mcards\u001b[49m\u001b[43m[\u001b[49m\u001b[43mposition\u001b[49m\u001b[43m]\u001b[49m==query:\n\u001b[32m      5\u001b[39m         \u001b[38;5;28;01mreturn\u001b[39;00m position\n\u001b[32m      6\u001b[39m     position+=\u001b[32m1\u001b[39m\n",
      "\u001b[31mIndexError\u001b[39m: list index out of range"
     ]
    }
   ],
   "source": [
    "evaluate_test_cases(locate_card, tests)"
   ]
  },
  {
   "cell_type": "markdown",
   "id": "057565df-1759-4b30-ab13-8ca0bb182132",
   "metadata": {},
   "source": [
    "### lets add some print to solve, we can see "
   ]
  },
  {
   "cell_type": "code",
   "execution_count": 29,
   "id": "11749898-53bb-4ac0-b85f-83841518849a",
   "metadata": {},
   "outputs": [],
   "source": [
    "def locate_card(cards, query):\n",
    "    position=0\n",
    "    print('cards:', cards)\n",
    "    print('query:', query)\n",
    "    while True:\n",
    "        print('position',position)\n",
    "        if cards[position]==query:\n",
    "            return position\n",
    "        position +=1\n",
    "        if position==len(cards):\n",
    "            return -1"
   ]
  },
  {
   "cell_type": "code",
   "execution_count": 30,
   "id": "e5490d29-5783-41cb-97d8-a7d4e8997989",
   "metadata": {},
   "outputs": [
    {
     "name": "stdout",
     "output_type": "stream",
     "text": [
      "cards: []\n",
      "query: 7\n",
      "position 0\n"
     ]
    },
    {
     "ename": "IndexError",
     "evalue": "list index out of range",
     "output_type": "error",
     "traceback": [
      "\u001b[31m---------------------------------------------------------------------------\u001b[39m",
      "\u001b[31mIndexError\u001b[39m                                Traceback (most recent call last)",
      "\u001b[36mCell\u001b[39m\u001b[36m \u001b[39m\u001b[32mIn[30]\u001b[39m\u001b[32m, line 3\u001b[39m\n\u001b[32m      1\u001b[39m cards6=tests[\u001b[32m6\u001b[39m][\u001b[33m'\u001b[39m\u001b[33minput\u001b[39m\u001b[33m'\u001b[39m][\u001b[33m'\u001b[39m\u001b[33mcards\u001b[39m\u001b[33m'\u001b[39m]\n\u001b[32m      2\u001b[39m query6=tests[\u001b[32m6\u001b[39m][\u001b[33m'\u001b[39m\u001b[33minput\u001b[39m\u001b[33m'\u001b[39m][\u001b[33m'\u001b[39m\u001b[33mquery\u001b[39m\u001b[33m'\u001b[39m]\n\u001b[32m----> \u001b[39m\u001b[32m3\u001b[39m \u001b[43mlocate_card\u001b[49m\u001b[43m(\u001b[49m\u001b[43mcards6\u001b[49m\u001b[43m,\u001b[49m\u001b[43m \u001b[49m\u001b[43mquery6\u001b[49m\u001b[43m)\u001b[49m\n",
      "\u001b[36mCell\u001b[39m\u001b[36m \u001b[39m\u001b[32mIn[29]\u001b[39m\u001b[32m, line 7\u001b[39m, in \u001b[36mlocate_card\u001b[39m\u001b[34m(cards, query)\u001b[39m\n\u001b[32m      5\u001b[39m \u001b[38;5;28;01mwhile\u001b[39;00m \u001b[38;5;28;01mTrue\u001b[39;00m:\n\u001b[32m      6\u001b[39m     \u001b[38;5;28mprint\u001b[39m(\u001b[33m'\u001b[39m\u001b[33mposition\u001b[39m\u001b[33m'\u001b[39m,position)\n\u001b[32m----> \u001b[39m\u001b[32m7\u001b[39m     \u001b[38;5;28;01mif\u001b[39;00m \u001b[43mcards\u001b[49m\u001b[43m[\u001b[49m\u001b[43mposition\u001b[49m\u001b[43m]\u001b[49m==query:\n\u001b[32m      8\u001b[39m         \u001b[38;5;28;01mreturn\u001b[39;00m position\n\u001b[32m      9\u001b[39m     position +=\u001b[32m1\u001b[39m\n",
      "\u001b[31mIndexError\u001b[39m: list index out of range"
     ]
    }
   ],
   "source": [
    "cards6=tests[6]['input']['cards']\n",
    "query6=tests[6]['input']['query']\n",
    "locate_card(cards6, query6)"
   ]
  },
  {
   "cell_type": "markdown",
   "id": "2af77141-8b2f-47b6-8a74-b000de7eda3e",
   "metadata": {},
   "source": [
    "## so then after this we come to one solution"
   ]
  },
  {
   "cell_type": "code",
   "execution_count": 31,
   "id": "aad7c727-1a88-4f28-a087-a3b7cf2e00e2",
   "metadata": {},
   "outputs": [],
   "source": [
    "def locate_card_linear(cards,query):\n",
    "    position=0\n",
    "    while position<len(cards):\n",
    "        if cards[position]==query:\n",
    "            return position\n",
    "        position+=1\n",
    "    return -1"
   ]
  },
  {
   "cell_type": "code",
   "execution_count": 32,
   "id": "4085ee71-96b9-4dbb-a438-dfbc029a4260",
   "metadata": {},
   "outputs": [
    {
     "data": {
      "text/plain": [
       "{'input': {'cards': [], 'query': 7}, 'output': -1}"
      ]
     },
     "execution_count": 32,
     "metadata": {},
     "output_type": "execute_result"
    }
   ],
   "source": [
    "tests[6]"
   ]
  },
  {
   "cell_type": "code",
   "execution_count": 33,
   "id": "cd7e2371-f1cb-4350-90a5-82eac10052ec",
   "metadata": {},
   "outputs": [
    {
     "name": "stdout",
     "output_type": "stream",
     "text": [
      "cards: []\n",
      "query: 7\n",
      "position 0\n"
     ]
    },
    {
     "ename": "IndexError",
     "evalue": "list index out of range",
     "output_type": "error",
     "traceback": [
      "\u001b[31m---------------------------------------------------------------------------\u001b[39m",
      "\u001b[31mIndexError\u001b[39m                                Traceback (most recent call last)",
      "\u001b[36mCell\u001b[39m\u001b[36m \u001b[39m\u001b[32mIn[33]\u001b[39m\u001b[32m, line 1\u001b[39m\n\u001b[32m----> \u001b[39m\u001b[32m1\u001b[39m \u001b[43mlocate_card\u001b[49m\u001b[43m(\u001b[49m\u001b[43mcards6\u001b[49m\u001b[43m,\u001b[49m\u001b[43m \u001b[49m\u001b[43mquery6\u001b[49m\u001b[43m)\u001b[49m\n",
      "\u001b[36mCell\u001b[39m\u001b[36m \u001b[39m\u001b[32mIn[29]\u001b[39m\u001b[32m, line 7\u001b[39m, in \u001b[36mlocate_card\u001b[39m\u001b[34m(cards, query)\u001b[39m\n\u001b[32m      5\u001b[39m \u001b[38;5;28;01mwhile\u001b[39;00m \u001b[38;5;28;01mTrue\u001b[39;00m:\n\u001b[32m      6\u001b[39m     \u001b[38;5;28mprint\u001b[39m(\u001b[33m'\u001b[39m\u001b[33mposition\u001b[39m\u001b[33m'\u001b[39m,position)\n\u001b[32m----> \u001b[39m\u001b[32m7\u001b[39m     \u001b[38;5;28;01mif\u001b[39;00m \u001b[43mcards\u001b[49m\u001b[43m[\u001b[49m\u001b[43mposition\u001b[49m\u001b[43m]\u001b[49m==query:\n\u001b[32m      8\u001b[39m         \u001b[38;5;28;01mreturn\u001b[39;00m position\n\u001b[32m      9\u001b[39m     position +=\u001b[32m1\u001b[39m\n",
      "\u001b[31mIndexError\u001b[39m: list index out of range"
     ]
    }
   ],
   "source": [
    "locate_card(cards6, query6)"
   ]
  },
  {
   "cell_type": "code",
   "execution_count": 35,
   "id": "2c0701d3-9ce5-4702-8d2f-7ef27f95d626",
   "metadata": {},
   "outputs": [
    {
     "name": "stdout",
     "output_type": "stream",
     "text": [
      "4\n"
     ]
    }
   ],
   "source": [
    "c=9//2\n",
    "print(c)"
   ]
  },
  {
   "cell_type": "code",
   "execution_count": 34,
   "id": "ad789e84-5abf-4f08-ad79-a778788b4c78",
   "metadata": {},
   "outputs": [
    {
     "name": "stdout",
     "output_type": "stream",
     "text": [
      "\n",
      "\u001b[1mTEST CASE #0\u001b[0m\n",
      "cards: [13, 11, 10, 7, 4, 3, 1, 0]\n",
      "query: 7\n",
      "position 0\n",
      "position 1\n",
      "position 2\n",
      "position 3\n",
      "\n",
      "Input:\n",
      "{'cards': [13, 11, 10, 7, 4, 3, 1, 0], 'query': 7}\n",
      "\n",
      "Expected Output:\n",
      "3\n",
      "\n",
      "\n",
      "Actual Output:\n",
      "3\n",
      "\n",
      "Execution Time:\n",
      "0.134 ms\n",
      "\n",
      "Test Result:\n",
      "\u001b[92mPASSED\u001b[0m\n",
      "\n",
      "\n",
      "\u001b[1mTEST CASE #1\u001b[0m\n",
      "cards: [13, 11, 10, 7, 4, 3, 1, 0]\n",
      "query: 1\n",
      "position 0\n",
      "position 1\n",
      "position 2\n",
      "position 3\n",
      "position 4\n",
      "position 5\n",
      "position 6\n",
      "\n",
      "Input:\n",
      "{'cards': [13, 11, 10, 7, 4, 3, 1, 0], 'query': 1}\n",
      "\n",
      "Expected Output:\n",
      "6\n",
      "\n",
      "\n",
      "Actual Output:\n",
      "6\n",
      "\n",
      "Execution Time:\n",
      "0.225 ms\n",
      "\n",
      "Test Result:\n",
      "\u001b[92mPASSED\u001b[0m\n",
      "\n",
      "\n",
      "\u001b[1mTEST CASE #2\u001b[0m\n",
      "cards: [4, 2, 1, -1]\n",
      "query: 4\n",
      "position 0\n",
      "\n",
      "Input:\n",
      "{'cards': [4, 2, 1, -1], 'query': 4}\n",
      "\n",
      "Expected Output:\n",
      "0\n",
      "\n",
      "\n",
      "Actual Output:\n",
      "0\n",
      "\n",
      "Execution Time:\n",
      "0.057 ms\n",
      "\n",
      "Test Result:\n",
      "\u001b[92mPASSED\u001b[0m\n",
      "\n",
      "\n",
      "\u001b[1mTEST CASE #3\u001b[0m\n",
      "cards: [3, -1, -9, -127]\n",
      "query: -127\n",
      "position 0\n",
      "position 1\n",
      "position 2\n",
      "position 3\n",
      "\n",
      "Input:\n",
      "{'cards': [3, -1, -9, -127], 'query': -127}\n",
      "\n",
      "Expected Output:\n",
      "3\n",
      "\n",
      "\n",
      "Actual Output:\n",
      "3\n",
      "\n",
      "Execution Time:\n",
      "0.103 ms\n",
      "\n",
      "Test Result:\n",
      "\u001b[92mPASSED\u001b[0m\n",
      "\n",
      "\n",
      "\u001b[1mTEST CASE #4\u001b[0m\n",
      "cards: [6]\n",
      "query: 6\n",
      "position 0\n",
      "\n",
      "Input:\n",
      "{'cards': [6], 'query': 6}\n",
      "\n",
      "Expected Output:\n",
      "0\n",
      "\n",
      "\n",
      "Actual Output:\n",
      "0\n",
      "\n",
      "Execution Time:\n",
      "0.051 ms\n",
      "\n",
      "Test Result:\n",
      "\u001b[92mPASSED\u001b[0m\n",
      "\n",
      "\n",
      "\u001b[1mTEST CASE #5\u001b[0m\n",
      "cards: [9, 7, 5, 2, -9]\n",
      "query: 4\n",
      "position 0\n",
      "position 1\n",
      "position 2\n",
      "position 3\n",
      "position 4\n",
      "\n",
      "Input:\n",
      "{'cards': [9, 7, 5, 2, -9], 'query': 4}\n",
      "\n",
      "Expected Output:\n",
      "-1\n",
      "\n",
      "\n",
      "Actual Output:\n",
      "-1\n",
      "\n",
      "Execution Time:\n",
      "0.116 ms\n",
      "\n",
      "Test Result:\n",
      "\u001b[92mPASSED\u001b[0m\n",
      "\n",
      "\n",
      "\u001b[1mTEST CASE #6\u001b[0m\n",
      "cards: []\n",
      "query: 7\n",
      "position 0\n"
     ]
    },
    {
     "ename": "IndexError",
     "evalue": "list index out of range",
     "output_type": "error",
     "traceback": [
      "\u001b[31m---------------------------------------------------------------------------\u001b[39m",
      "\u001b[31mIndexError\u001b[39m                                Traceback (most recent call last)",
      "\u001b[36mCell\u001b[39m\u001b[36m \u001b[39m\u001b[32mIn[34]\u001b[39m\u001b[32m, line 1\u001b[39m\n\u001b[32m----> \u001b[39m\u001b[32m1\u001b[39m \u001b[43mevaluate_test_cases\u001b[49m\u001b[43m(\u001b[49m\u001b[43mlocate_card\u001b[49m\u001b[43m,\u001b[49m\u001b[43m \u001b[49m\u001b[43mtests\u001b[49m\u001b[43m)\u001b[49m\n",
      "\u001b[36mFile \u001b[39m\u001b[32m~\\AppData\\Local\\Programs\\Python\\Python311\\Lib\\site-packages\\jovian\\pythondsa\\__init__.py:87\u001b[39m, in \u001b[36mevaluate_test_cases\u001b[39m\u001b[34m(function, test_cases, error_only, summary_only)\u001b[39m\n\u001b[32m     85\u001b[39m \u001b[38;5;28;01mif\u001b[39;00m \u001b[38;5;129;01mnot\u001b[39;00m error_only:\n\u001b[32m     86\u001b[39m     \u001b[38;5;28mprint\u001b[39m(\u001b[33m\"\u001b[39m\u001b[38;5;130;01m\\n\u001b[39;00m\u001b[38;5;130;01m\\033\u001b[39;00m\u001b[33m[1mTEST CASE #\u001b[39m\u001b[38;5;132;01m{}\u001b[39;00m\u001b[38;5;130;01m\\033\u001b[39;00m\u001b[33m[0m\u001b[39m\u001b[33m\"\u001b[39m.format(i))\n\u001b[32m---> \u001b[39m\u001b[32m87\u001b[39m result = \u001b[43mevaluate_test_case\u001b[49m\u001b[43m(\u001b[49m\u001b[43mfunction\u001b[49m\u001b[43m,\u001b[49m\u001b[43m \u001b[49m\u001b[43mtest_case\u001b[49m\u001b[43m,\u001b[49m\u001b[43m \u001b[49m\u001b[43mdisplay\u001b[49m\u001b[43m=\u001b[49m\u001b[38;5;28;43;01mFalse\u001b[39;49;00m\u001b[43m)\u001b[49m\n\u001b[32m     88\u001b[39m results.append(result)\n\u001b[32m     89\u001b[39m \u001b[38;5;28;01mif\u001b[39;00m error_only \u001b[38;5;129;01mand\u001b[39;00m \u001b[38;5;129;01mnot\u001b[39;00m result[\u001b[32m1\u001b[39m]:\n",
      "\u001b[36mFile \u001b[39m\u001b[32m~\\AppData\\Local\\Programs\\Python\\Python311\\Lib\\site-packages\\jovian\\pythondsa\\__init__.py:65\u001b[39m, in \u001b[36mevaluate_test_case\u001b[39m\u001b[34m(function, test_case, display)\u001b[39m\n\u001b[32m     62\u001b[39m     _show_test_case(test_case)\n\u001b[32m     64\u001b[39m start = timer()\n\u001b[32m---> \u001b[39m\u001b[32m65\u001b[39m actual_output = \u001b[43mfunction\u001b[49m\u001b[43m(\u001b[49m\u001b[43m*\u001b[49m\u001b[43m*\u001b[49m\u001b[43minputs\u001b[49m\u001b[43m)\u001b[49m\n\u001b[32m     66\u001b[39m end = timer()\n\u001b[32m     68\u001b[39m runtime = math.ceil((end - start)*\u001b[32m1e6\u001b[39m)/\u001b[32m1000\u001b[39m\n",
      "\u001b[36mCell\u001b[39m\u001b[36m \u001b[39m\u001b[32mIn[29]\u001b[39m\u001b[32m, line 7\u001b[39m, in \u001b[36mlocate_card\u001b[39m\u001b[34m(cards, query)\u001b[39m\n\u001b[32m      5\u001b[39m \u001b[38;5;28;01mwhile\u001b[39;00m \u001b[38;5;28;01mTrue\u001b[39;00m:\n\u001b[32m      6\u001b[39m     \u001b[38;5;28mprint\u001b[39m(\u001b[33m'\u001b[39m\u001b[33mposition\u001b[39m\u001b[33m'\u001b[39m,position)\n\u001b[32m----> \u001b[39m\u001b[32m7\u001b[39m     \u001b[38;5;28;01mif\u001b[39;00m \u001b[43mcards\u001b[49m\u001b[43m[\u001b[49m\u001b[43mposition\u001b[49m\u001b[43m]\u001b[49m==query:\n\u001b[32m      8\u001b[39m         \u001b[38;5;28;01mreturn\u001b[39;00m position\n\u001b[32m      9\u001b[39m     position +=\u001b[32m1\u001b[39m\n",
      "\u001b[31mIndexError\u001b[39m: list index out of range"
     ]
    }
   ],
   "source": [
    "evaluate_test_cases(locate_card, tests)"
   ]
  },
  {
   "cell_type": "markdown",
   "id": "8fb7a55c-bd32-4de2-a779-a32887800145",
   "metadata": {},
   "source": [
    "## By using Binary search after checking effeciency"
   ]
  },
  {
   "cell_type": "code",
   "execution_count": 12,
   "id": "ef49ac13-b0b6-4d99-bea2-22620373116f",
   "metadata": {},
   "outputs": [],
   "source": [
    "def locate_card(cards, query):#1 2 3 4 5 6 7\n",
    "    low,high=0,len(cards)-1\n",
    "    while low<=high:\n",
    "        mid=(low+high)//2\n",
    "        card_num=cards[mid]\n",
    "        print(f\"high:{high},low:{low},mid:{mid}, mid_num:{card_num}\")\n",
    "        if card_num==query:\n",
    "            return mid\n",
    "        elif card_num>query:\n",
    "            low=mid+1\n",
    "        elif card_num<query:\n",
    "            high=mid-1\n",
    "    return -1"
   ]
  },
  {
   "cell_type": "code",
   "execution_count": 13,
   "id": "d84bf529-ba6e-40f2-9537-f08fe1c159eb",
   "metadata": {},
   "outputs": [
    {
     "name": "stdout",
     "output_type": "stream",
     "text": [
      "\n",
      "\u001b[1mTEST CASE #0\u001b[0m\n",
      "high:7,low:0,mid:3, mid_num:7\n",
      "\n",
      "Input:\n",
      "{'cards': [13, 11, 10, 7, 4, 3, 1, 0], 'query': 7}\n",
      "\n",
      "Expected Output:\n",
      "3\n",
      "\n",
      "\n",
      "Actual Output:\n",
      "3\n",
      "\n",
      "Execution Time:\n",
      "0.043 ms\n",
      "\n",
      "Test Result:\n",
      "\u001b[92mPASSED\u001b[0m\n",
      "\n",
      "\n",
      "\u001b[1mTEST CASE #1\u001b[0m\n",
      "high:7,low:0,mid:3, mid_num:7\n",
      "high:7,low:4,mid:5, mid_num:3\n",
      "high:7,low:6,mid:6, mid_num:1\n",
      "\n",
      "Input:\n",
      "{'cards': [13, 11, 10, 7, 4, 3, 1, 0], 'query': 1}\n",
      "\n",
      "Expected Output:\n",
      "6\n",
      "\n",
      "\n",
      "Actual Output:\n",
      "6\n",
      "\n",
      "Execution Time:\n",
      "0.088 ms\n",
      "\n",
      "Test Result:\n",
      "\u001b[92mPASSED\u001b[0m\n",
      "\n",
      "\n",
      "\u001b[1mTEST CASE #2\u001b[0m\n",
      "high:3,low:0,mid:1, mid_num:-1\n",
      "high:3,low:2,mid:2, mid_num:-9\n",
      "high:3,low:3,mid:3, mid_num:-127\n",
      "\n",
      "Input:\n",
      "{'cards': [3, -1, -9, -127], 'query': -127}\n",
      "\n",
      "Expected Output:\n",
      "3\n",
      "\n",
      "\n",
      "Actual Output:\n",
      "3\n",
      "\n",
      "Execution Time:\n",
      "0.09 ms\n",
      "\n",
      "Test Result:\n",
      "\u001b[92mPASSED\u001b[0m\n",
      "\n",
      "\n",
      "\u001b[1mTEST CASE #3\u001b[0m\n",
      "high:0,low:0,mid:0, mid_num:6\n",
      "\n",
      "Input:\n",
      "{'cards': [6], 'query': 6}\n",
      "\n",
      "Expected Output:\n",
      "0\n",
      "\n",
      "\n",
      "Actual Output:\n",
      "0\n",
      "\n",
      "Execution Time:\n",
      "0.035 ms\n",
      "\n",
      "Test Result:\n",
      "\u001b[92mPASSED\u001b[0m\n",
      "\n",
      "\n",
      "\u001b[1mTEST CASE #4\u001b[0m\n",
      "high:4,low:0,mid:2, mid_num:5\n",
      "high:4,low:3,mid:3, mid_num:2\n",
      "\n",
      "Input:\n",
      "{'cards': [9, 7, 5, 2, -9], 'query': 4}\n",
      "\n",
      "Expected Output:\n",
      "-1\n",
      "\n",
      "\n",
      "Actual Output:\n",
      "-1\n",
      "\n",
      "Execution Time:\n",
      "0.06 ms\n",
      "\n",
      "Test Result:\n",
      "\u001b[92mPASSED\u001b[0m\n",
      "\n",
      "\n",
      "\u001b[1mTEST CASE #5\u001b[0m\n",
      "\n",
      "Input:\n",
      "{'cards': [], 'query': 7}\n",
      "\n",
      "Expected Output:\n",
      "-1\n",
      "\n",
      "\n",
      "Actual Output:\n",
      "-1\n",
      "\n",
      "Execution Time:\n",
      "0.004 ms\n",
      "\n",
      "Test Result:\n",
      "\u001b[92mPASSED\u001b[0m\n",
      "\n",
      "\n",
      "\u001b[1mTEST CASE #6\u001b[0m\n",
      "high:13,low:0,mid:6, mid_num:6\n",
      "high:13,low:7,mid:10, mid_num:2\n",
      "high:9,low:7,mid:8, mid_num:2\n",
      "high:7,low:7,mid:7, mid_num:3\n",
      "\n",
      "Input:\n",
      "{'cards': [8, 8, 6, 6, 6, 6, 6, 3, 2, 2, 2, 0, 0, 0], 'query': 3}\n",
      "\n",
      "Expected Output:\n",
      "7\n",
      "\n",
      "\n",
      "Actual Output:\n",
      "7\n",
      "\n",
      "Execution Time:\n",
      "0.199 ms\n",
      "\n",
      "Test Result:\n",
      "\u001b[92mPASSED\u001b[0m\n",
      "\n",
      "\n",
      "\u001b[1mTEST CASE #7\u001b[0m\n",
      "high:13,low:0,mid:6, mid_num:6\n",
      "\n",
      "Input:\n",
      "{'cards': [8, 8, 6, 6, 6, 6, 6, 3, 2, 2, 2, 0, 0, 0], 'query': 6}\n",
      "\n",
      "Expected Output:\n",
      "2\n",
      "\n",
      "\n",
      "Actual Output:\n",
      "6\n",
      "\n",
      "Execution Time:\n",
      "0.038 ms\n",
      "\n",
      "Test Result:\n",
      "\u001b[91mFAILED\u001b[0m\n",
      "\n",
      "\n",
      "\u001b[1mSUMMARY\u001b[0m\n",
      "\n",
      "TOTAL: 8, \u001b[92mPASSED\u001b[0m: 7, \u001b[91mFAILED\u001b[0m: 1\n"
     ]
    },
    {
     "data": {
      "text/plain": [
       "[(3, True, 0.043),\n",
       " (6, True, 0.088),\n",
       " (3, True, 0.09),\n",
       " (0, True, 0.035),\n",
       " (-1, True, 0.06),\n",
       " (-1, True, 0.004),\n",
       " (7, True, 0.199),\n",
       " (6, False, 0.038)]"
      ]
     },
     "execution_count": 13,
     "metadata": {},
     "output_type": "execute_result"
    }
   ],
   "source": [
    "evaluate_test_cases(locate_card, tests)"
   ]
  },
  {
   "cell_type": "markdown",
   "id": "31bc37f9-5d57-49f6-b2fd-4e00ebd2029a",
   "metadata": {},
   "source": [
    "### we have one unsatsified test case"
   ]
  },
  {
   "cell_type": "code",
   "execution_count": null,
   "id": "57f33db7-dd03-464a-aa48-e98ef24d6e8f",
   "metadata": {},
   "outputs": [],
   "source": [
    "evaluate_test_case(locate_card, tests[8])"
   ]
  },
  {
   "cell_type": "code",
   "execution_count": 38,
   "id": "9ac538bb-b3ef-40b8-bdf5-e5f84f3e1df2",
   "metadata": {},
   "outputs": [],
   "source": [
    "def test_location(cards,query,mid):\n",
    "    if cards[mid]==query:\n",
    "        if mid>=0 and cards[mid-1]==query:\n",
    "            return 'left'\n",
    "        else:\n",
    "            return 'found'\n",
    "    elif cards[mid]<query:\n",
    "        return 'left'\n",
    "    elif cards[mid]>query:\n",
    "        return 'right'\n",
    "def locate_card(cards,query):\n",
    "    low, high=0,len(cards)-1\n",
    "    step=0\n",
    "    while low<=high:\n",
    "        step+=1\n",
    "        mid=(low+high)//2\n",
    "        res=test_location(cards,query,mid)\n",
    "        if res=='found':\n",
    "            return mid\n",
    "            print('step',step)\n",
    "        elif res=='right':\n",
    "            low=mid+1\n",
    "        elif res=='left':\n",
    "            high=mid-1\n",
    "    return -1"
   ]
  },
  {
   "cell_type": "code",
   "execution_count": 40,
   "id": "f600134b-a40b-454e-975c-62ad929df57d",
   "metadata": {},
   "outputs": [
    {
     "name": "stdout",
     "output_type": "stream",
     "text": [
      "\n",
      "\u001b[1mTEST CASE #0\u001b[0m\n",
      "\n",
      "Input:\n",
      "{'cards': [13, 11, 10, 7, 4, 3, 1, 0], 'query': 7}\n",
      "\n",
      "Expected Output:\n",
      "3\n",
      "\n",
      "\n",
      "Actual Output:\n",
      "3\n",
      "\n",
      "Execution Time:\n",
      "0.005 ms\n",
      "\n",
      "Test Result:\n",
      "\u001b[92mPASSED\u001b[0m\n",
      "\n",
      "\n",
      "\u001b[1mTEST CASE #1\u001b[0m\n",
      "\n",
      "Input:\n",
      "{'cards': [13, 11, 10, 7, 4, 3, 1, 0], 'query': 1}\n",
      "\n",
      "Expected Output:\n",
      "6\n",
      "\n",
      "\n",
      "Actual Output:\n",
      "6\n",
      "\n",
      "Execution Time:\n",
      "0.005 ms\n",
      "\n",
      "Test Result:\n",
      "\u001b[92mPASSED\u001b[0m\n",
      "\n",
      "\n",
      "\u001b[1mTEST CASE #2\u001b[0m\n",
      "\n",
      "Input:\n",
      "{'cards': [4, 2, 1, -1], 'query': 4}\n",
      "\n",
      "Expected Output:\n",
      "0\n",
      "\n",
      "\n",
      "Actual Output:\n",
      "0\n",
      "\n",
      "Execution Time:\n",
      "0.004 ms\n",
      "\n",
      "Test Result:\n",
      "\u001b[92mPASSED\u001b[0m\n",
      "\n",
      "\n",
      "\u001b[1mTEST CASE #3\u001b[0m\n",
      "\n",
      "Input:\n",
      "{'cards': [3, -1, -9, -127], 'query': -127}\n",
      "\n",
      "Expected Output:\n",
      "3\n",
      "\n",
      "\n",
      "Actual Output:\n",
      "3\n",
      "\n",
      "Execution Time:\n",
      "0.005 ms\n",
      "\n",
      "Test Result:\n",
      "\u001b[92mPASSED\u001b[0m\n",
      "\n",
      "\n",
      "\u001b[1mTEST CASE #4\u001b[0m\n",
      "\n",
      "Input:\n",
      "{'cards': [6], 'query': 6}\n",
      "\n",
      "Expected Output:\n",
      "0\n",
      "\n",
      "\n",
      "Actual Output:\n",
      "-1\n",
      "\n",
      "Execution Time:\n",
      "0.003 ms\n",
      "\n",
      "Test Result:\n",
      "\u001b[91mFAILED\u001b[0m\n",
      "\n",
      "\n",
      "\u001b[1mTEST CASE #5\u001b[0m\n",
      "\n",
      "Input:\n",
      "{'cards': [9, 7, 5, 2, -9], 'query': 4}\n",
      "\n",
      "Expected Output:\n",
      "-1\n",
      "\n",
      "\n",
      "Actual Output:\n",
      "-1\n",
      "\n",
      "Execution Time:\n",
      "0.003 ms\n",
      "\n",
      "Test Result:\n",
      "\u001b[92mPASSED\u001b[0m\n",
      "\n",
      "\n",
      "\u001b[1mTEST CASE #6\u001b[0m\n",
      "\n",
      "Input:\n",
      "{'cards': [], 'query': 7}\n",
      "\n",
      "Expected Output:\n",
      "-1\n",
      "\n",
      "\n",
      "Actual Output:\n",
      "-1\n",
      "\n",
      "Execution Time:\n",
      "0.002 ms\n",
      "\n",
      "Test Result:\n",
      "\u001b[92mPASSED\u001b[0m\n",
      "\n",
      "\n",
      "\u001b[1mTEST CASE #7\u001b[0m\n",
      "\n",
      "Input:\n",
      "{'cards': [8, 8, 6, 6, 6, 6, 6, 3, 2, 2, 2, 0, 0, 0], 'query': 3}\n",
      "\n",
      "Expected Output:\n",
      "7\n",
      "\n",
      "\n",
      "Actual Output:\n",
      "7\n",
      "\n",
      "Execution Time:\n",
      "0.006 ms\n",
      "\n",
      "Test Result:\n",
      "\u001b[92mPASSED\u001b[0m\n",
      "\n",
      "\n",
      "\u001b[1mTEST CASE #8\u001b[0m\n",
      "\n",
      "Input:\n",
      "{'cards': [8, 8, 6, 6, 6, 6, 6, 3, 2, 2, 2, 0, 0, 0], 'query': 6}\n",
      "\n",
      "Expected Output:\n",
      "2\n",
      "\n",
      "\n",
      "Actual Output:\n",
      "2\n",
      "\n",
      "Execution Time:\n",
      "0.003 ms\n",
      "\n",
      "Test Result:\n",
      "\u001b[92mPASSED\u001b[0m\n",
      "\n",
      "\n",
      "\u001b[1mSUMMARY\u001b[0m\n",
      "\n",
      "TOTAL: 9, \u001b[92mPASSED\u001b[0m: 8, \u001b[91mFAILED\u001b[0m: 1\n"
     ]
    },
    {
     "data": {
      "text/plain": [
       "[(3, True, 0.005),\n",
       " (6, True, 0.005),\n",
       " (0, True, 0.004),\n",
       " (3, True, 0.005),\n",
       " (-1, False, 0.003),\n",
       " (-1, True, 0.003),\n",
       " (-1, True, 0.002),\n",
       " (7, True, 0.006),\n",
       " (2, True, 0.003)]"
      ]
     },
     "execution_count": 40,
     "metadata": {},
     "output_type": "execute_result"
    }
   ],
   "source": [
    "evaluate_test_cases(locate_card, tests)"
   ]
  },
  {
   "cell_type": "code",
   "execution_count": 39,
   "id": "87b424e4-6aa0-49e3-96d9-b012b36cfe96",
   "metadata": {},
   "outputs": [],
   "source": [
    "large={\n",
    "    'input':{\n",
    "        'cards':list(range(10000000,0,-1)),\n",
    "        'query':2\n",
    "    },\n",
    "    'output':9999998\n",
    "}"
   ]
  },
  {
   "cell_type": "code",
   "execution_count": 41,
   "id": "3c1f857e-a2ba-49db-956f-42e691a1f73a",
   "metadata": {},
   "outputs": [
    {
     "data": {
      "text/plain": [
       "(9999998, True, 0.019)"
      ]
     },
     "execution_count": 41,
     "metadata": {},
     "output_type": "execute_result"
    }
   ],
   "source": [
    "evaluate_test_case(locate_card, large, display=False)"
   ]
  },
  {
   "cell_type": "code",
   "execution_count": 42,
   "id": "bdbac2a6-f082-4a21-b479-64acf5694ffe",
   "metadata": {},
   "outputs": [
    {
     "data": {
      "text/plain": [
       "(9999998, True, 1079.48)"
      ]
     },
     "execution_count": 42,
     "metadata": {},
     "output_type": "execute_result"
    }
   ],
   "source": [
    "evaluate_test_case(locate_card_linear, large, display=False)"
   ]
  },
  {
   "cell_type": "markdown",
   "id": "057295df-d22e-4b5a-b684-f1408a03cd8e",
   "metadata": {},
   "source": [
    "## Generic algorithm of Binary search"
   ]
  },
  {
   "cell_type": "code",
   "execution_count": 17,
   "id": "5085c476-de2a-46f3-8440-077d8c587c08",
   "metadata": {},
   "outputs": [],
   "source": [
    "def binary_search(low,high,condition):\n",
    "    while low<=high:\n",
    "        mid=(low+high)//2\n",
    "        res=condition(mid)\n",
    "        if res=='found':\n",
    "            return mid\n",
    "        elif res=='right':\n",
    "            low=mid+1\n",
    "        else:\n",
    "            high=mid-1\n",
    "    return -1"
   ]
  },
  {
   "cell_type": "markdown",
   "id": "7f4fb74c-0aff-422b-96fc-411dd6da0eac",
   "metadata": {},
   "source": [
    "## lets implement it"
   ]
  },
  {
   "cell_type": "code",
   "execution_count": 16,
   "id": "4936576f-b30a-46e5-b898-ee11a2f44ca7",
   "metadata": {},
   "outputs": [],
   "source": [
    "def locate_cards(cards,query):\n",
    "    def condition(mid):\n",
    "        if cards[mid]==query:\n",
    "            if mid>=0 and cards[mid-1]==query:\n",
    "                return 'left'\n",
    "            else:\n",
    "                return 'found'\n",
    "        elif cards[mid]>query:\n",
    "            return 'right'\n",
    "        else:\n",
    "            return 'left'\n",
    "    return binary_search(0,len(cards)-1,condition())"
   ]
  },
  {
   "cell_type": "code",
   "execution_count": 18,
   "id": "31bf0851-47b9-4275-93cd-e2ebfdeb1012",
   "metadata": {},
   "outputs": [
    {
     "name": "stdout",
     "output_type": "stream",
     "text": [
      "\n",
      "\u001b[1mTEST CASE #0\u001b[0m\n",
      "high:7,low:0,mid:3, mid_num:7\n",
      "\n",
      "Input:\n",
      "{'cards': [13, 11, 10, 7, 4, 3, 1, 0], 'query': 7}\n",
      "\n",
      "Expected Output:\n",
      "3\n",
      "\n",
      "\n",
      "Actual Output:\n",
      "3\n",
      "\n",
      "Execution Time:\n",
      "0.025 ms\n",
      "\n",
      "Test Result:\n",
      "\u001b[92mPASSED\u001b[0m\n",
      "\n",
      "\n",
      "\u001b[1mTEST CASE #1\u001b[0m\n",
      "high:7,low:0,mid:3, mid_num:7\n",
      "high:7,low:4,mid:5, mid_num:3\n",
      "high:7,low:6,mid:6, mid_num:1\n",
      "\n",
      "Input:\n",
      "{'cards': [13, 11, 10, 7, 4, 3, 1, 0], 'query': 1}\n",
      "\n",
      "Expected Output:\n",
      "6\n",
      "\n",
      "\n",
      "Actual Output:\n",
      "6\n",
      "\n",
      "Execution Time:\n",
      "0.208 ms\n",
      "\n",
      "Test Result:\n",
      "\u001b[92mPASSED\u001b[0m\n",
      "\n",
      "\n",
      "\u001b[1mTEST CASE #2\u001b[0m\n",
      "high:3,low:0,mid:1, mid_num:-1\n",
      "high:3,low:2,mid:2, mid_num:-9\n",
      "high:3,low:3,mid:3, mid_num:-127\n",
      "\n",
      "Input:\n",
      "{'cards': [3, -1, -9, -127], 'query': -127}\n",
      "\n",
      "Expected Output:\n",
      "3\n",
      "\n",
      "\n",
      "Actual Output:\n",
      "3\n",
      "\n",
      "Execution Time:\n",
      "0.085 ms\n",
      "\n",
      "Test Result:\n",
      "\u001b[92mPASSED\u001b[0m\n",
      "\n",
      "\n",
      "\u001b[1mTEST CASE #3\u001b[0m\n",
      "high:0,low:0,mid:0, mid_num:6\n",
      "\n",
      "Input:\n",
      "{'cards': [6], 'query': 6}\n",
      "\n",
      "Expected Output:\n",
      "0\n",
      "\n",
      "\n",
      "Actual Output:\n",
      "0\n",
      "\n",
      "Execution Time:\n",
      "0.037 ms\n",
      "\n",
      "Test Result:\n",
      "\u001b[92mPASSED\u001b[0m\n",
      "\n",
      "\n",
      "\u001b[1mTEST CASE #4\u001b[0m\n",
      "high:4,low:0,mid:2, mid_num:5\n",
      "high:4,low:3,mid:3, mid_num:2\n",
      "\n",
      "Input:\n",
      "{'cards': [9, 7, 5, 2, -9], 'query': 4}\n",
      "\n",
      "Expected Output:\n",
      "-1\n",
      "\n",
      "\n",
      "Actual Output:\n",
      "-1\n",
      "\n",
      "Execution Time:\n",
      "0.052 ms\n",
      "\n",
      "Test Result:\n",
      "\u001b[92mPASSED\u001b[0m\n",
      "\n",
      "\n",
      "\u001b[1mTEST CASE #5\u001b[0m\n",
      "\n",
      "Input:\n",
      "{'cards': [], 'query': 7}\n",
      "\n",
      "Expected Output:\n",
      "-1\n",
      "\n",
      "\n",
      "Actual Output:\n",
      "-1\n",
      "\n",
      "Execution Time:\n",
      "0.003 ms\n",
      "\n",
      "Test Result:\n",
      "\u001b[92mPASSED\u001b[0m\n",
      "\n",
      "\n",
      "\u001b[1mTEST CASE #6\u001b[0m\n",
      "high:13,low:0,mid:6, mid_num:6\n",
      "high:13,low:7,mid:10, mid_num:2\n",
      "high:9,low:7,mid:8, mid_num:2\n",
      "high:7,low:7,mid:7, mid_num:3\n",
      "\n",
      "Input:\n",
      "{'cards': [8, 8, 6, 6, 6, 6, 6, 3, 2, 2, 2, 0, 0, 0], 'query': 3}\n",
      "\n",
      "Expected Output:\n",
      "7\n",
      "\n",
      "\n",
      "Actual Output:\n",
      "7\n",
      "\n",
      "Execution Time:\n",
      "0.071 ms\n",
      "\n",
      "Test Result:\n",
      "\u001b[92mPASSED\u001b[0m\n",
      "\n",
      "\n",
      "\u001b[1mTEST CASE #7\u001b[0m\n",
      "high:13,low:0,mid:6, mid_num:6\n",
      "\n",
      "Input:\n",
      "{'cards': [8, 8, 6, 6, 6, 6, 6, 3, 2, 2, 2, 0, 0, 0], 'query': 6}\n",
      "\n",
      "Expected Output:\n",
      "2\n",
      "\n",
      "\n",
      "Actual Output:\n",
      "6\n",
      "\n",
      "Execution Time:\n",
      "0.018 ms\n",
      "\n",
      "Test Result:\n",
      "\u001b[91mFAILED\u001b[0m\n",
      "\n",
      "\n",
      "\u001b[1mSUMMARY\u001b[0m\n",
      "\n",
      "TOTAL: 8, \u001b[92mPASSED\u001b[0m: 7, \u001b[91mFAILED\u001b[0m: 1\n"
     ]
    },
    {
     "data": {
      "text/plain": [
       "[(3, True, 0.025),\n",
       " (6, True, 0.208),\n",
       " (3, True, 0.085),\n",
       " (0, True, 0.037),\n",
       " (-1, True, 0.052),\n",
       " (-1, True, 0.003),\n",
       " (7, True, 0.071),\n",
       " (6, False, 0.018)]"
      ]
     },
     "execution_count": 18,
     "metadata": {},
     "output_type": "execute_result"
    }
   ],
   "source": [
    "evaluate_test_cases(locate_card, tests)"
   ]
  },
  {
   "cell_type": "markdown",
   "id": "c07d1d56-63f1-4445-b07d-6ad67140e544",
   "metadata": {},
   "source": [
    "## Returning of last position and first position of targeted element and cards in acesending order"
   ]
  },
  {
   "cell_type": "code",
   "execution_count": 59,
   "id": "181787ee-d7da-417d-8785-838179fb5614",
   "metadata": {},
   "outputs": [],
   "source": [
    "def first_position(cards,query):\n",
    "    def condition(mid):\n",
    "        if cards[mid]==query:\n",
    "            if mid>=0 and cards[mid-1]==query:\n",
    "                return 'left'\n",
    "            else:\n",
    "                return 'found'\n",
    "        elif cards[mid]>query:\n",
    "            return 'left'\n",
    "        else:\n",
    "            return 'right'\n",
    "    return binary_search(0,len(cards)-1,condition)\n",
    "            "
   ]
  },
  {
   "cell_type": "code",
   "execution_count": 63,
   "id": "0357dc16-dbec-4b34-851a-ce8b12bbbb07",
   "metadata": {},
   "outputs": [
    {
     "data": {
      "text/plain": [
       "3"
      ]
     },
     "execution_count": 63,
     "metadata": {},
     "output_type": "execute_result"
    }
   ],
   "source": [
    "list=[5,7,7,8,8,8,10]\n",
    "q=8\n",
    "first_position(list,8)"
   ]
  },
  {
   "cell_type": "code",
   "execution_count": 64,
   "id": "e453fba7-dc3e-484f-88c0-441896e42097",
   "metadata": {},
   "outputs": [],
   "source": [
    "def last_position(cards,query):\n",
    "    def condition(mid):\n",
    "        if cards[mid]==query:\n",
    "            if mid>=0 and cards[mid+1]==query:\n",
    "                return 'right'\n",
    "            else:\n",
    "                return 'found'\n",
    "        elif cards[mid]>query:\n",
    "            return 'left'\n",
    "        else:\n",
    "            return 'right'\n",
    "    return binary_search(0,len(cards)-1,condition)"
   ]
  },
  {
   "cell_type": "code",
   "execution_count": 65,
   "id": "4eec9e5e-a298-4519-b56c-d886cda2ebf9",
   "metadata": {},
   "outputs": [
    {
     "data": {
      "text/plain": [
       "5"
      ]
     },
     "execution_count": 65,
     "metadata": {},
     "output_type": "execute_result"
    }
   ],
   "source": [
    "last_position(list,q)"
   ]
  },
  {
   "cell_type": "code",
   "execution_count": 66,
   "id": "e12dca29-151c-4979-8f63-e410a48d4e4d",
   "metadata": {},
   "outputs": [],
   "source": [
    "def first_and_last_position(cards,query):\n",
    "    return first_position(cards,query), last_position(cards,query)"
   ]
  },
  {
   "cell_type": "code",
   "execution_count": 67,
   "id": "22684f74-7979-4796-97b2-e9753caab8a7",
   "metadata": {},
   "outputs": [
    {
     "data": {
      "text/plain": [
       "(3, 5)"
      ]
     },
     "execution_count": 67,
     "metadata": {},
     "output_type": "execute_result"
    }
   ],
   "source": [
    "first_and_last_position(list,q)"
   ]
  },
  {
   "cell_type": "code",
   "execution_count": null,
   "id": "6325239e-3cc1-4a6e-ac97-6427961cc117",
   "metadata": {},
   "outputs": [],
   "source": []
  }
 ],
 "metadata": {
  "kernelspec": {
   "display_name": "Python 3 (ipykernel)",
   "language": "python",
   "name": "python3"
  },
  "language_info": {
   "codemirror_mode": {
    "name": "ipython",
    "version": 3
   },
   "file_extension": ".py",
   "mimetype": "text/x-python",
   "name": "python",
   "nbconvert_exporter": "python",
   "pygments_lexer": "ipython3",
   "version": "3.11.0"
  }
 },
 "nbformat": 4,
 "nbformat_minor": 5
}
