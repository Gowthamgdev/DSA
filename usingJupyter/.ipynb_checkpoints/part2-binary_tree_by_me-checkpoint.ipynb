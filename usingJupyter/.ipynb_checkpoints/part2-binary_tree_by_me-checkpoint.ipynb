{
 "cells": [
  {
   "cell_type": "markdown",
   "id": "42eae6c7-a64a-4ad2-af2f-c27f3298f5e8",
   "metadata": {},
   "source": [
    "## Using Step 2"
   ]
  },
  {
   "cell_type": "markdown",
   "id": "bfe61701-001c-4f60-90f8-ebac7cce5eb9",
   "metadata": {},
   "source": [
    "### Problem"
   ]
  },
  {
   "cell_type": "markdown",
   "id": "50eb5960-7e25-440d-85fe-b60d58cd7185",
   "metadata": {},
   "source": [
    "### we need to create a data structure which can store 100 million records and perform insertion,search, update and list operation efficiently."
   ]
  },
  {
   "cell_type": "markdown",
   "id": "c39328fa-724b-43ab-9d50-9b42257dbd93",
   "metadata": {},
   "source": [
    "### Input: The key inputs to our data structure are user profiles, which contain the username, name and email of a user"
   ]
  },
  {
   "cell_type": "code",
   "execution_count": 1,
   "id": "b354badc-5b1b-4c4e-b6b1-ee0178d5af30",
   "metadata": {},
   "outputs": [],
   "source": [
    "class User:\n",
    "    pass"
   ]
  },
  {
   "cell_type": "code",
   "execution_count": 2,
   "id": "3b932d2d-d5b3-475f-a079-b6d36c760141",
   "metadata": {},
   "outputs": [],
   "source": [
    " user1=User()"
   ]
  },
  {
   "cell_type": "code",
   "execution_count": 3,
   "id": "4d39ea22-786b-489b-b06a-e52ea167f1af",
   "metadata": {},
   "outputs": [
    {
     "data": {
      "text/plain": [
       "<__main__.User at 0x233a03bec90>"
      ]
     },
     "execution_count": 3,
     "metadata": {},
     "output_type": "execute_result"
    }
   ],
   "source": [
    "user1"
   ]
  },
  {
   "cell_type": "code",
   "execution_count": 4,
   "id": "b06638bc-69e9-4684-82c1-92d14f026ef5",
   "metadata": {},
   "outputs": [
    {
     "data": {
      "text/plain": [
       "(__main__.User, 2420754869392)"
      ]
     },
     "execution_count": 4,
     "metadata": {},
     "output_type": "execute_result"
    }
   ],
   "source": [
    "type(user1), id(user1)"
   ]
  },
  {
   "cell_type": "code",
   "execution_count": 5,
   "id": "93fd2493-79ec-4fc2-b205-4887ded37388",
   "metadata": {},
   "outputs": [],
   "source": [
    "class User:\n",
    "    def __init__(self,username, name, email):\n",
    "        self.username=username\n",
    "        self.name=name\n",
    "        self.email=email\n",
    "        print(\"user created!\")\n",
    "\n",
    "    def introduce(self):\n",
    "        print(f'hi. I am {self.username}')\n"
   ]
  },
  {
   "cell_type": "code",
   "execution_count": 6,
   "id": "417f2b68-0292-4d3c-b02f-8f60a170dbb1",
   "metadata": {},
   "outputs": [
    {
     "name": "stdout",
     "output_type": "stream",
     "text": [
      "user created!\n"
     ]
    }
   ],
   "source": [
    "user1=User('gowthdev','Gowtham','gowtham@dev.com')"
   ]
  },
  {
   "cell_type": "code",
   "execution_count": 7,
   "id": "f13ee37d-0717-4801-8a51-4e391b26a631",
   "metadata": {},
   "outputs": [
    {
     "data": {
      "text/plain": [
       "'gowthdev'"
      ]
     },
     "execution_count": 7,
     "metadata": {},
     "output_type": "execute_result"
    }
   ],
   "source": [
    "user1.username"
   ]
  },
  {
   "cell_type": "code",
   "execution_count": 8,
   "id": "df1dd8d0-c302-4f7b-98f4-ca1e57896cdf",
   "metadata": {},
   "outputs": [
    {
     "name": "stdout",
     "output_type": "stream",
     "text": [
      "hi. I am gowthdev\n"
     ]
    }
   ],
   "source": [
    "user1.introduce()"
   ]
  },
  {
   "cell_type": "code",
   "execution_count": 9,
   "id": "e1653ce9-c165-49db-9cc4-074f15aefd2d",
   "metadata": {},
   "outputs": [],
   "source": [
    "class User:\n",
    "    def __init__(self,username, name, email):\n",
    "        self.username=username\n",
    "        self.name=name\n",
    "        self.email=email\n",
    "       # print(\"user created!\")\n",
    "    def __repr__(self):\n",
    "        return f\"User:(username:{self.username}, name: {self.name}, email: {self.email})\"\n",
    "    def __str__(self):\n",
    "        return self.__repr__()"
   ]
  },
  {
   "cell_type": "code",
   "execution_count": 10,
   "id": "0c51ab59-d206-4d09-8118-c1bbb021ce31",
   "metadata": {},
   "outputs": [],
   "source": [
    "user2=User('abc','Abc','abc@gmal.com')"
   ]
  },
  {
   "cell_type": "code",
   "execution_count": 11,
   "id": "bfa7e5e0-0224-4d91-a358-ca5111cdfd27",
   "metadata": {},
   "outputs": [
    {
     "data": {
      "text/plain": [
       "User:(username:abc, name: Abc, email: abc@gmal.com)"
      ]
     },
     "execution_count": 11,
     "metadata": {},
     "output_type": "execute_result"
    }
   ],
   "source": [
    "user2"
   ]
  },
  {
   "cell_type": "markdown",
   "id": "a948e987-b785-4161-a61e-ce1e47572537",
   "metadata": {},
   "source": [
    "### Output"
   ]
  },
  {
   "cell_type": "code",
   "execution_count": 12,
   "id": "a44cf662-79ff-400c-b93b-9df16a38d769",
   "metadata": {},
   "outputs": [],
   "source": [
    "class UserDatabase:\n",
    "    def __init__(self):\n",
    "        pass\n",
    "    def insert(self,user):\n",
    "        pass\n",
    "    def find(self,username):\n",
    "        pass\n",
    "    def update(self,username):\n",
    "        pass\n",
    "    def list_all(self):\n",
    "        pass"
   ]
  },
  {
   "cell_type": "markdown",
   "id": "e14bc115-0aab-445b-be16-eea145cb2d7b",
   "metadata": {},
   "source": [
    "## Using Step2"
   ]
  },
  {
   "cell_type": "code",
   "execution_count": 13,
   "id": "f8bdb621-0a1e-48ca-ab36-448a97703af3",
   "metadata": {},
   "outputs": [],
   "source": [
    "user3=User('user3','User3','user3@gmail.com')"
   ]
  },
  {
   "cell_type": "code",
   "execution_count": 14,
   "id": "a9c318d0-7ed3-476d-af41-315dfeab036e",
   "metadata": {},
   "outputs": [],
   "source": [
    "user4=User('user4','User4','user4@gmail.com')\n",
    "user5=User('user5','User5','user5@gmail.com')\n",
    "user6=User('user6','User6','user6@gmail.com')"
   ]
  },
  {
   "cell_type": "code",
   "execution_count": 15,
   "id": "113bd109-6235-49d8-bc5e-7d3d88c9d8b6",
   "metadata": {},
   "outputs": [
    {
     "data": {
      "text/plain": [
       "'user5'"
      ]
     },
     "execution_count": 15,
     "metadata": {},
     "output_type": "execute_result"
    }
   ],
   "source": [
    "user5.username"
   ]
  },
  {
   "cell_type": "code",
   "execution_count": 16,
   "id": "6a2fa7a1-e6ac-4df3-a98b-9a1fee7b9cef",
   "metadata": {},
   "outputs": [],
   "source": [
    "users=[user1,user2,user3,user4,user5,user6]"
   ]
  },
  {
   "cell_type": "code",
   "execution_count": 17,
   "id": "2c3551cc-adac-43f9-89de-875825d0d8b1",
   "metadata": {},
   "outputs": [
    {
     "data": {
      "text/plain": [
       "[<__main__.User at 0x233a03a0d10>,\n",
       " User:(username:abc, name: Abc, email: abc@gmal.com),\n",
       " User:(username:user3, name: User3, email: user3@gmail.com),\n",
       " User:(username:user4, name: User4, email: user4@gmail.com),\n",
       " User:(username:user5, name: User5, email: user5@gmail.com),\n",
       " User:(username:user6, name: User6, email: user6@gmail.com)]"
      ]
     },
     "execution_count": 17,
     "metadata": {},
     "output_type": "execute_result"
    }
   ],
   "source": [
    "users"
   ]
  },
  {
   "cell_type": "markdown",
   "id": "262ddb26-2f19-4e3c-b9b5-17b1d0310010",
   "metadata": {},
   "source": [
    " ## Using Step 3"
   ]
  },
  {
   "cell_type": "markdown",
   "id": "8ed9d6ae-8f86-42c6-b307-467630cd127e",
   "metadata": {},
   "source": [
    "Here's a simple and easy solution to the problem: we store the `User` objects in a list sorted by usernames. \n",
    "\n",
    "The various functions can be implemented as follows:\n",
    "\n",
    "1. **Insert**: Loop through the list and add the new user at a position that keeps the list sorted.\n",
    "2. **Find**: Loop through the list and find the user object with the username matching the query.\n",
    "3. **Update**: Loop through the list, find the user object matching the query and update the details\n",
    "4. **List**: Return the list of user objects.\n",
    "\n",
    "We can use the fact usernames, which are are strings can be compared using the `<`, `>` and `==` operators in Python."
   ]
  },
  {
   "cell_type": "code",
   "execution_count": 18,
   "id": "5f64644e-783a-4b2e-a8f7-70b2b0fcfdf0",
   "metadata": {},
   "outputs": [
    {
     "data": {
      "text/plain": [
       "True"
      ]
     },
     "execution_count": 18,
     "metadata": {},
     "output_type": "execute_result"
    }
   ],
   "source": [
    "'user1'<'user2'"
   ]
  },
  {
   "cell_type": "markdown",
   "id": "3424f545-83d6-4ee0-bcbb-86fa6a5c9716",
   "metadata": {},
   "source": [
    "## Using Step 4"
   ]
  },
  {
   "cell_type": "code",
   "execution_count": 19,
   "id": "4bd13983-418d-458f-8c99-3b3353bbff01",
   "metadata": {},
   "outputs": [],
   "source": [
    "class UserDatabase:\n",
    "    def __init__(self):\n",
    "        self.users=[]\n",
    "    def insert(self,user):\n",
    "        i=0\n",
    "        while i<len(self.users):\n",
    "            if self.users[i].username>user.username:\n",
    "                break\n",
    "            i+=1\n",
    "        self.users.insert(i,user)\n",
    "    def find(self,username):\n",
    "        for user in self.users:\n",
    "            if user.username==username:\n",
    "                return user\n",
    "    def update(self,user):\n",
    "        target=self.find(user.username)\n",
    "        print(target)\n",
    "        target.name,target.email=user.name,user.email\n",
    "    def list_all(self):\n",
    "        return self.users"
   ]
  },
  {
   "cell_type": "code",
   "execution_count": 20,
   "id": "3f8a1b19-5e7d-4ed5-ac2c-c58322be0548",
   "metadata": {},
   "outputs": [],
   "source": [
    "database1=UserDatabase()"
   ]
  },
  {
   "cell_type": "code",
   "execution_count": 21,
   "id": "0eb9b337-6d81-4608-8179-703ce153d53c",
   "metadata": {},
   "outputs": [],
   "source": [
    "database1.insert(user2)"
   ]
  },
  {
   "cell_type": "code",
   "execution_count": 22,
   "id": "b4a13707-8ca9-423c-a3dc-a86f73d4c110",
   "metadata": {},
   "outputs": [
    {
     "data": {
      "text/plain": [
       "[User:(username:abc, name: Abc, email: abc@gmal.com)]"
      ]
     },
     "execution_count": 22,
     "metadata": {},
     "output_type": "execute_result"
    }
   ],
   "source": [
    "database1.list_all()"
   ]
  },
  {
   "cell_type": "code",
   "execution_count": 23,
   "id": "c8b93df1-15c1-45d8-9d33-bc632de9c0ce",
   "metadata": {},
   "outputs": [],
   "source": [
    "database1.find(user1.username)"
   ]
  },
  {
   "cell_type": "code",
   "execution_count": 24,
   "id": "8f79e8c9-1685-435c-8da4-7ace75d4981b",
   "metadata": {},
   "outputs": [],
   "source": [
    "user1=User('user1','User_1','user1@zoho.com')"
   ]
  },
  {
   "cell_type": "code",
   "execution_count": 25,
   "id": "6d753430-a681-42c7-9749-8d8c4a9c7f53",
   "metadata": {},
   "outputs": [
    {
     "data": {
      "text/plain": [
       "User:(username:user1, name: User_1, email: user1@zoho.com)"
      ]
     },
     "execution_count": 25,
     "metadata": {},
     "output_type": "execute_result"
    }
   ],
   "source": [
    "user1"
   ]
  },
  {
   "cell_type": "code",
   "execution_count": 26,
   "id": "0e5320d7-a1ea-4656-95c0-70be49b888db",
   "metadata": {},
   "outputs": [],
   "source": [
    "database1.insert(user1)"
   ]
  },
  {
   "cell_type": "code",
   "execution_count": 27,
   "id": "b7eb9fd1-af94-4c45-af99-34b4872f6f62",
   "metadata": {},
   "outputs": [
    {
     "name": "stdout",
     "output_type": "stream",
     "text": [
      "User:(username:user1, name: User_1, email: user1@zoho.com)\n"
     ]
    }
   ],
   "source": [
    "database1.update(user1)"
   ]
  },
  {
   "cell_type": "code",
   "execution_count": 28,
   "id": "7bf80ca3-82b2-43a8-8087-70743a2f3ae8",
   "metadata": {},
   "outputs": [
    {
     "name": "stdout",
     "output_type": "stream",
     "text": [
      "User:(username:abc, name: Abc, email: abc@gmal.com)\n"
     ]
    }
   ],
   "source": [
    "database1.update(User('abc','User_2','user2@zoho.com'))"
   ]
  },
  {
   "cell_type": "code",
   "execution_count": 29,
   "id": "326caf5a-66cf-4fc5-8c89-6a40f8613a3b",
   "metadata": {},
   "outputs": [
    {
     "data": {
      "text/plain": [
       "[User:(username:abc, name: User_2, email: user2@zoho.com),\n",
       " User:(username:user1, name: User_1, email: user1@zoho.com)]"
      ]
     },
     "execution_count": 29,
     "metadata": {},
     "output_type": "execute_result"
    }
   ],
   "source": [
    "database1.list_all()"
   ]
  },
  {
   "cell_type": "markdown",
   "id": "2525b144-2369-4c33-9abd-2e09c4376fc2",
   "metadata": {},
   "source": [
    "## using step 5"
   ]
  },
  {
   "cell_type": "markdown",
   "id": "a9861231-52c7-44c3-bcdd-c653164027a1",
   "metadata": {},
   "source": [
    "## the efficiency is `o(n)` for insert, find, update and o(1) for list_all. so if it n time what if there"
   ]
  },
  {
   "cell_type": "code",
   "execution_count": 30,
   "id": "42082fdd-d6c1-4e03-9605-bb41bcd26794",
   "metadata": {},
   "outputs": [
    {
     "name": "stdout",
     "output_type": "stream",
     "text": [
      "CPU times: total: 12.3 s\n",
      "Wall time: 17.3 s\n"
     ]
    }
   ],
   "source": [
    "%%time\n",
    "for i in range(100000000):\n",
    "    j=i*i"
   ]
  },
  {
   "cell_type": "markdown",
   "id": "5e7dc85d-e4b3-41c6-aa34-02c1859d9b4a",
   "metadata": {},
   "source": [
    "## it took 10 sec, then it will tough if every function take 10s so we need to overcome this"
   ]
  },
  {
   "cell_type": "markdown",
   "id": "0a8b7b1f-7da7-4f0e-a3ba-f26887fae7ef",
   "metadata": {},
   "source": [
    " ## Binary Tree Search"
   ]
  },
  {
   "cell_type": "markdown",
   "id": "d4916185-f32c-45ec-a57e-ec31d69a69d0",
   "metadata": {},
   "source": [
    "### Binary tree"
   ]
  },
  {
   "cell_type": "markdown",
   "id": "c3b8e25f-e80b-4780-b6dd-06b6e8ea135f",
   "metadata": {},
   "source": [
    "### implement binary tree using python and show some usage with some example"
   ]
  },
  {
   "cell_type": "code",
   "execution_count": 31,
   "id": "e02689e0-4e5f-4d6e-a0ce-8b2c88d7c754",
   "metadata": {},
   "outputs": [],
   "source": [
    "class TreeNode:\n",
    "    def __init__(self,key):\n",
    "        self.key=key\n",
    "        self.left=None\n",
    "        self.right=None\n",
    "        "
   ]
  },
  {
   "cell_type": "code",
   "execution_count": 32,
   "id": "7b911a58-05c4-4223-b39d-8018033be2e4",
   "metadata": {},
   "outputs": [],
   "source": [
    "node0=TreeNode(3)"
   ]
  },
  {
   "cell_type": "code",
   "execution_count": 33,
   "id": "4d5ba07d-9d8e-4ab4-8842-3cbe40911054",
   "metadata": {},
   "outputs": [
    {
     "data": {
      "text/plain": [
       "<__main__.TreeNode at 0x233a0432390>"
      ]
     },
     "execution_count": 33,
     "metadata": {},
     "output_type": "execute_result"
    }
   ],
   "source": [
    "node0"
   ]
  },
  {
   "cell_type": "code",
   "execution_count": 34,
   "id": "b634bf96-893f-4d05-8ec0-909db0d1ecfc",
   "metadata": {},
   "outputs": [],
   "source": [
    "node1=TreeNode(4)\n",
    "node2=TreeNode(5)"
   ]
  },
  {
   "cell_type": "code",
   "execution_count": 35,
   "id": "29a687e8-5234-45d9-9049-88f78eeb7815",
   "metadata": {},
   "outputs": [],
   "source": [
    "node0.left=node1\n",
    "node0.right=node2"
   ]
  },
  {
   "cell_type": "code",
   "execution_count": 36,
   "id": "fe64ce09-305a-4cc4-ab64-a2eff7acc2eb",
   "metadata": {},
   "outputs": [
    {
     "data": {
      "text/plain": [
       "4"
      ]
     },
     "execution_count": 36,
     "metadata": {},
     "output_type": "execute_result"
    }
   ],
   "source": [
    "node0.left.key"
   ]
  },
  {
   "cell_type": "code",
   "execution_count": 37,
   "id": "e0680a02-331b-4f5f-80f9-1bfdba40ef4a",
   "metadata": {},
   "outputs": [
    {
     "data": {
      "text/plain": [
       "5"
      ]
     },
     "execution_count": 37,
     "metadata": {},
     "output_type": "execute_result"
    }
   ],
   "source": [
    "node0.right.key"
   ]
  },
  {
   "cell_type": "markdown",
   "id": "a130c993-388b-43b3-88cc-35a60daabe97",
   "metadata": {},
   "source": [
    "### making root node, so we can acess all node"
   ]
  },
  {
   "cell_type": "code",
   "execution_count": 38,
   "id": "4d7c4153-f28c-4ac8-bd87-5859224c7eca",
   "metadata": {},
   "outputs": [],
   "source": [
    "tree=node0"
   ]
  },
  {
   "cell_type": "code",
   "execution_count": 39,
   "id": "e326a02d-6bed-4329-935e-4331dc664d0f",
   "metadata": {},
   "outputs": [
    {
     "data": {
      "text/plain": [
       "4"
      ]
     },
     "execution_count": 39,
     "metadata": {},
     "output_type": "execute_result"
    }
   ],
   "source": [
    "tree.left.key"
   ]
  },
  {
   "cell_type": "markdown",
   "id": "c0559492-8f99-41a7-9150-a31d0b6d6204",
   "metadata": {},
   "source": [
    "Going forward, we'll use the term \"tree\" to refer to the root node. The term \"node\" can refer to any node in a tree, not necessarily the root.\n",
    "\n",
    "Exercise: Create the following binary tree using the TreeNode class defined above.\n",
    "\n",
    "<img src=\"https://i.imgur.com/d7djJAf.png\" width=\"540\">"
   ]
  },
  {
   "cell_type": "code",
   "execution_count": 40,
   "id": "448e1cc3-18b2-4018-98f5-b05f551c6a24",
   "metadata": {},
   "outputs": [],
   "source": [
    "class TreeNode:\n",
    "    def __init__(self,key):\n",
    "        self.key=key\n",
    "        self.left=None\n",
    "        self.right=None\n",
    "node0=TreeNode(2)\n",
    "node1=TreeNode(3)\n",
    "node2=TreeNode(1)\n",
    "node3=TreeNode(5)\n",
    "node4=TreeNode(3)\n",
    "node5=TreeNode(4)\n",
    "node6=TreeNode(7)\n",
    "node7=TreeNode(6)\n",
    "node8=TreeNode(8)"
   ]
  },
  {
   "cell_type": "code",
   "execution_count": 41,
   "id": "7c31b4c7-8554-4858-96a3-2f41fe41173c",
   "metadata": {},
   "outputs": [],
   "source": [
    "node0.left=node1\n",
    "node0.right=node3"
   ]
  },
  {
   "cell_type": "code",
   "execution_count": 42,
   "id": "b05c4b50-e8d3-4480-954c-a7bcba61bba7",
   "metadata": {},
   "outputs": [
    {
     "data": {
      "text/plain": [
       "1"
      ]
     },
     "execution_count": 42,
     "metadata": {},
     "output_type": "execute_result"
    }
   ],
   "source": [
    "node1.left=node2\n",
    "node0.left.left.key"
   ]
  },
  {
   "cell_type": "code",
   "execution_count": 43,
   "id": "c6432235-bc5e-42ef-9325-230cff86fedc",
   "metadata": {},
   "outputs": [],
   "source": [
    "node3.left=node4\n",
    "node3.right=node6\n",
    "node4.right=node5\n",
    "node6.left=node7\n",
    "node6.right=node8"
   ]
  },
  {
   "cell_type": "code",
   "execution_count": 44,
   "id": "de8dc78a-e6e1-4152-b546-dd09952decde",
   "metadata": {},
   "outputs": [],
   "source": [
    "tree=node0"
   ]
  },
  {
   "cell_type": "code",
   "execution_count": 45,
   "id": "0f1c1168-ad1c-4de1-a8bd-3feb6b540576",
   "metadata": {},
   "outputs": [
    {
     "data": {
      "text/plain": [
       "6"
      ]
     },
     "execution_count": 45,
     "metadata": {},
     "output_type": "execute_result"
    }
   ],
   "source": [
    "tree.right.right.left.key"
   ]
  },
  {
   "cell_type": "markdown",
   "id": "de0a7213-812c-4c3f-9d30-a224cbe5101e",
   "metadata": {},
   "source": [
    "using tuple as input and recursion for function"
   ]
  },
  {
   "cell_type": "code",
   "execution_count": 46,
   "id": "27c9d703-be09-4f31-8239-4e20e336f7e3",
   "metadata": {},
   "outputs": [],
   "source": [
    "tree_tuple=((1,3,None),2,((None,3,4),5,(6,7,8)))"
   ]
  },
  {
   "cell_type": "code",
   "execution_count": 47,
   "id": "01b78f07-ad36-48f8-9c09-d82bc34973be",
   "metadata": {},
   "outputs": [],
   "source": [
    "def tuple_parse(data):\n",
    "    print(data)\n",
    "    if isinstance(data,tuple) and len(data)==3:\n",
    "        node=TreeNode(data[1]) \n",
    "        node.left=tuple_parse(data[0]) \n",
    "        node.right=tuple_parse(data[2])\n",
    "    elif data is None:\n",
    "        node=None\n",
    "    else:\n",
    "        node=TreeNode(data)\n",
    "    return node"
   ]
  },
  {
   "cell_type": "code",
   "execution_count": 48,
   "id": "172ec6cd-ed6c-4d18-aca4-5b91ea40ae6e",
   "metadata": {},
   "outputs": [
    {
     "name": "stdout",
     "output_type": "stream",
     "text": [
      "((1, 3, None), 2, ((None, 3, 4), 5, (6, 7, 8)))\n",
      "(1, 3, None)\n",
      "1\n",
      "None\n",
      "((None, 3, 4), 5, (6, 7, 8))\n",
      "(None, 3, 4)\n",
      "None\n",
      "4\n",
      "(6, 7, 8)\n",
      "6\n",
      "8\n"
     ]
    }
   ],
   "source": [
    "tree2=tuple_parse(tree_tuple)"
   ]
  },
  {
   "cell_type": "code",
   "execution_count": 49,
   "id": "e4bfd80f-fa49-4e86-b80f-9d0b8f7e1e18",
   "metadata": {},
   "outputs": [
    {
     "data": {
      "text/plain": [
       "7"
      ]
     },
     "execution_count": 49,
     "metadata": {},
     "output_type": "execute_result"
    }
   ],
   "source": [
    "tree2.right.right.key"
   ]
  },
  {
   "cell_type": "code",
   "execution_count": 50,
   "id": "87939a5c-5d44-4117-bb90-ec62dcea5d9e",
   "metadata": {},
   "outputs": [
    {
     "data": {
      "text/plain": [
       "2"
      ]
     },
     "execution_count": 50,
     "metadata": {},
     "output_type": "execute_result"
    }
   ],
   "source": [
    "tree2.key#level 0"
   ]
  },
  {
   "cell_type": "code",
   "execution_count": 51,
   "id": "961eb7fe-b086-4042-b3d2-f82a9189e8ff",
   "metadata": {},
   "outputs": [
    {
     "data": {
      "text/plain": [
       "(3, 5)"
      ]
     },
     "execution_count": 51,
     "metadata": {},
     "output_type": "execute_result"
    }
   ],
   "source": [
    "tree2.left.key,tree2.right.key#level 1"
   ]
  },
  {
   "cell_type": "code",
   "execution_count": 52,
   "id": "c2417be7-9e0e-4ce6-9fca-acc9e509bcd3",
   "metadata": {},
   "outputs": [
    {
     "data": {
      "text/plain": [
       "(1, None, 3, 7)"
      ]
     },
     "execution_count": 52,
     "metadata": {},
     "output_type": "execute_result"
    }
   ],
   "source": [
    "tree2.left.left.key,tree2.left.right,tree2.right.left.key,tree2.right.right.key#level2"
   ]
  },
  {
   "cell_type": "code",
   "execution_count": 53,
   "id": "318e14f6-2210-4d95-ad7c-bf0f224d0f7d",
   "metadata": {},
   "outputs": [
    {
     "data": {
      "text/plain": [
       "(None, 4, 6, 8)"
      ]
     },
     "execution_count": 53,
     "metadata": {},
     "output_type": "execute_result"
    }
   ],
   "source": [
    "tree2.right.left.left,tree2.right.left.right.key,tree2.right.right.left.key,tree2.right.right.right.key#level 3"
   ]
  },
  {
   "cell_type": "code",
   "execution_count": 54,
   "id": "7343d572-9905-4131-b2f9-043bcb024ec1",
   "metadata": {},
   "outputs": [
    {
     "data": {
      "text/plain": [
       "2"
      ]
     },
     "execution_count": 54,
     "metadata": {},
     "output_type": "execute_result"
    }
   ],
   "source": [
    "def dis(tree2):\n",
    "    return tree2.key\n",
    "dis(tree2)"
   ]
  },
  {
   "cell_type": "markdown",
   "id": "1e7f0fcb-5ff6-4a0a-b923-ddaeb7db728e",
   "metadata": {},
   "source": [
    "Exercise: Define a function tree_to_tuple that converts a binary tree into a tuple representing the same tree. E.g. tree_to_tuple converts the tree created above to the tuple ((1, 3, None), 2, ((None, 3, 4), 5, (6, 7, 8))). Hint: Use recursion."
   ]
  },
  {
   "cell_type": "code",
   "execution_count": 55,
   "id": "df529fc0-ec28-4138-9d6a-b265cc06ee79",
   "metadata": {},
   "outputs": [],
   "source": [
    "class TreeNode:\n",
    "    def __init__(self,key):\n",
    "        self.key=key\n",
    "        self.left=None\n",
    "        self.right=None"
   ]
  },
  {
   "cell_type": "code",
   "execution_count": 144,
   "id": "c1b50f2d-590d-4860-b3b7-6367469a7481",
   "metadata": {},
   "outputs": [],
   "source": [
    "def tree_to_tuple(node):\n",
    "    if node == None:\n",
    "        print('none')\n",
    "        return None\n",
    "    elif node.left == None and node.right == None:\n",
    "        print(node.key)\n",
    "        return (node.key,)# even though here returning one we dont use here so it will be lost, so return it in parent call, because in recursion it may be child call return\n",
    "    else:\n",
    "        return(tree_to_tuple(node.left), node.key, tree_to_tuple(node.right))"
   ]
  },
  {
   "cell_type": "code",
   "execution_count": 109,
   "id": "efb44a08-75d0-49ca-84a1-65c8301ce348",
   "metadata": {},
   "outputs": [
    {
     "name": "stdout",
     "output_type": "stream",
     "text": [
      "1\n",
      "none\n",
      "none\n",
      "4\n",
      "6\n",
      "8\n"
     ]
    }
   ],
   "source": [
    "nodex=TreeNode(5)\n",
    "tuple1=tree_to_tuple(tree2)"
   ]
  },
  {
   "cell_type": "code",
   "execution_count": 58,
   "id": "0ee686d4-6518-4b27-8ce1-1ec1325ef0a9",
   "metadata": {},
   "outputs": [],
   "source": [
    "def display(node,space='\\t',level=0):\n",
    "    if node is None:\n",
    "        print(space*level+'null')\n",
    "        return\n",
    "    elif node.left is None and node.right is None:\n",
    "        print(space*level+str(node.key))\n",
    "        return\n",
    "    display(node.right,space,level+1)\n",
    "    print(space*level+str(node.key))\n",
    "    display(node.left,space,level+1)\n",
    "        "
   ]
  },
  {
   "cell_type": "code",
   "execution_count": 59,
   "id": "80bf431b-1a00-4618-8c29-ae26db5f28a1",
   "metadata": {},
   "outputs": [
    {
     "name": "stdout",
     "output_type": "stream",
     "text": [
      "\t\t\t8\n",
      "\t\t7\n",
      "\t\t\t6\n",
      "\t5\n",
      "\t\t\t4\n",
      "\t\t3\n",
      "\t\t\tnull\n",
      "2\n",
      "\t\tnull\n",
      "\t3\n",
      "\t\t1\n"
     ]
    }
   ],
   "source": [
    "display(tree2)"
   ]
  },
  {
   "cell_type": "code",
   "execution_count": 60,
   "id": "82c1ee62-328e-440d-9d6a-3fac086e0391",
   "metadata": {},
   "outputs": [
    {
     "data": {
      "text/plain": [
       "[1, 4]"
      ]
     },
     "execution_count": 60,
     "metadata": {},
     "output_type": "execute_result"
    }
   ],
   "source": [
    "[1]+[4]"
   ]
  },
  {
   "cell_type": "markdown",
   "id": "e570b676-4fe2-4802-a2f1-5518b45d0e86",
   "metadata": {},
   "source": [
    "## Traversing Binary Tree"
   ]
  },
  {
   "cell_type": "markdown",
   "id": "d1b3e491-c8f3-4a87-aa46-07a4119e856d",
   "metadata": {},
   "source": [
    "### In-order Binary tree\n",
    "<img src=\"https://i.imgur.com/d7djJAf.png\" width=\"540\">"
   ]
  },
  {
   "cell_type": "code",
   "execution_count": 61,
   "id": "2c078ce9-e421-4b49-aae9-5fa7caf175c7",
   "metadata": {},
   "outputs": [
    {
     "data": {
      "text/plain": [
       "[1, 3, 2, 3, 4, 5, 6, 7, 8]"
      ]
     },
     "execution_count": 61,
     "metadata": {},
     "output_type": "execute_result"
    }
   ],
   "source": [
    "def in_order_binary(node):\n",
    "    if node is None:\n",
    "        return []\n",
    "    return(in_order_binary(node.left)+[node.key]+in_order_binary(node.right))\n",
    "in_order_binary(tree2)"
   ]
  },
  {
   "cell_type": "markdown",
   "id": "42c0c667-59f5-4ba4-9a1c-87afd594e6e3",
   "metadata": {},
   "source": [
    "### pre-order Binary tree"
   ]
  },
  {
   "cell_type": "code",
   "execution_count": 62,
   "id": "aa4715fa-daa8-47ab-9069-a2d0af28ebad",
   "metadata": {},
   "outputs": [
    {
     "data": {
      "text/plain": [
       "[2, 3, 1, 5, 3, 4, 7, 6, 8]"
      ]
     },
     "execution_count": 62,
     "metadata": {},
     "output_type": "execute_result"
    }
   ],
   "source": [
    "def pre_order_binary(node):\n",
    "    if node is None:\n",
    "        return []\n",
    "    return([node.key]+pre_order_binary(node.left)+pre_order_binary(node.right))\n",
    "pre_order_binary(tree2)"
   ]
  },
  {
   "cell_type": "markdown",
   "id": "c5560aff-8a48-42f4-a8a2-f1989113cc5d",
   "metadata": {},
   "source": [
    "### post-order Binary tree"
   ]
  },
  {
   "cell_type": "code",
   "execution_count": 63,
   "id": "608f5518-f0ae-4c0b-a3f8-0ee398876ec0",
   "metadata": {},
   "outputs": [
    {
     "data": {
      "text/plain": [
       "[1, 3, 4, 3, 6, 8, 7, 5, 2]"
      ]
     },
     "execution_count": 63,
     "metadata": {},
     "output_type": "execute_result"
    }
   ],
   "source": [
    "def post_order_binary(node):\n",
    "    if node is None:\n",
    "        return []\n",
    "    return(post_order_binary(node.left)+post_order_binary(node.right)+[node.key])\n",
    "post_order_binary(tree2)"
   ]
  },
  {
   "cell_type": "markdown",
   "id": "dad49568-7ae8-488c-873f-aa528afe6137",
   "metadata": {},
   "source": [
    "## calculating height of tree"
   ]
  },
  {
   "cell_type": "code",
   "execution_count": 64,
   "id": "d50476f0-7bd5-4c49-b894-ad964152dd2c",
   "metadata": {},
   "outputs": [
    {
     "data": {
      "text/plain": [
       "4"
      ]
     },
     "execution_count": 64,
     "metadata": {},
     "output_type": "execute_result"
    }
   ],
   "source": [
    "def tree_height(node):\n",
    "    if node is None:\n",
    "        return 0\n",
    "    return 1+max(tree_height(node.left),tree_height(node.right))\n",
    "tree_height(tree2)"
   ]
  },
  {
   "cell_type": "markdown",
   "id": "2554d164-48b7-4f10-8fb5-e978a5d4d45f",
   "metadata": {},
   "source": [
    "## Calculating Size of node"
   ]
  },
  {
   "cell_type": "code",
   "execution_count": 65,
   "id": "fced208c-b327-43b8-bbef-2b30f598f01b",
   "metadata": {},
   "outputs": [
    {
     "data": {
      "text/plain": [
       "9"
      ]
     },
     "execution_count": 65,
     "metadata": {},
     "output_type": "execute_result"
    }
   ],
   "source": [
    "def tree_size(node):\n",
    "    if node is None:\n",
    "        return 0\n",
    "    return 1+tree_size(node.left)+tree_size(node.right)\n",
    "tree_size(tree2)"
   ]
  },
  {
   "cell_type": "markdown",
   "id": "914185e5-97c3-4384-9cc3-61ff836bf74a",
   "metadata": {},
   "source": [
    "## IN class"
   ]
  },
  {
   "cell_type": "code",
   "execution_count": 96,
   "id": "e50a391f-f4c3-4b2c-9c37-ad446c4fac04",
   "metadata": {},
   "outputs": [
    {
     "data": {
      "text/plain": [
       "3"
      ]
     },
     "execution_count": 96,
     "metadata": {},
     "output_type": "execute_result"
    }
   ],
   "source": [
    "tree2.left.key"
   ]
  },
  {
   "cell_type": "code",
   "execution_count": 129,
   "id": "663233a1-2171-42e2-8808-a5ddbed7b9e6",
   "metadata": {},
   "outputs": [],
   "source": [
    "class Tree:\n",
    "    def __init__(self,key):\n",
    "        self.key=key\n",
    "        self.right=None\n",
    "        self.left=None\n",
    "    def inorder(self):\n",
    "        if self is None:\n",
    "            return []\n",
    "        return(Tree.inorder(self.left)+[self.key]+Tree.inorder(self.right))\n",
    "    "
   ]
  },
  {
   "cell_type": "code",
   "execution_count": 130,
   "id": "f44f7384-8c76-4add-b02a-5a8a4591deec",
   "metadata": {},
   "outputs": [],
   "source": [
    "tr=Tree(tree2)"
   ]
  },
  {
   "cell_type": "code",
   "execution_count": 131,
   "id": "052df55e-8c1a-4d0f-937c-d53b531e9b04",
   "metadata": {},
   "outputs": [
    {
     "data": {
      "text/plain": [
       "[<__main__.TreeNode at 0x233a043b090>]"
      ]
     },
     "execution_count": 131,
     "metadata": {},
     "output_type": "execute_result"
    }
   ],
   "source": [
    "tr.inorder()"
   ]
  },
  {
   "cell_type": "markdown",
   "id": "39916c50-ba3c-4c54-a9e3-c6c63cfbf6ba",
   "metadata": {},
   "source": [
    "## Binary Search Tree"
   ]
  },
  {
   "cell_type": "code",
   "execution_count": 133,
   "id": "95d2fd9e-281d-4ce4-8be2-977224aad0ba",
   "metadata": {},
   "outputs": [],
   "source": [
    "def remove_none(nums):\n",
    "    return (x for x in nums if x is not None)\n",
    "def is_bst(node):\n",
    "    if node is None:\n",
    "        return True,None,None\n",
    "    is_bst_l,min_l,max_l=is_bst(node.left)\n",
    "    is_bst_r,min_r,max_r=is_bst(node.right)\n",
    "\n",
    "    is_bst_node=is_bst_l and is_bst_r and (min_l is None or node.key>max_l) and (min_r is None or node.key<min_r)\n",
    "\n",
    "    min_n=min(remove_none([min_l,min_r,node.key]))\n",
    "    max_n=max(remove_none([max_l,max_r,node.key]))\n",
    "\n",
    "    return is_bst_node,min_n,max_n"
   ]
  },
  {
   "cell_type": "code",
   "execution_count": 134,
   "id": "b4ce7a69-37b5-4352-b08d-7f90da264f7f",
   "metadata": {},
   "outputs": [
    {
     "data": {
      "text/plain": [
       "(False, 1, 8)"
      ]
     },
     "execution_count": 134,
     "metadata": {},
     "output_type": "execute_result"
    }
   ],
   "source": [
    "is_bst(tree2)"
   ]
  },
  {
   "cell_type": "code",
   "execution_count": 137,
   "id": "182dfa38-86e6-44b9-b3e8-f2bef44c543f",
   "metadata": {},
   "outputs": [
    {
     "ename": "SyntaxError",
     "evalue": "invalid syntax (571868323.py, line 1)",
     "output_type": "error",
     "traceback": [
      "  \u001b[36mCell\u001b[39m\u001b[36m \u001b[39m\u001b[32mIn[137]\u001b[39m\u001b[32m, line 1\u001b[39m\n\u001b[31m    \u001b[39m\u001b[31m<img src=\"https://i.imgur.com/JZeF9ix.png\" width=\"520\">\u001b[39m\n    ^\n\u001b[31mSyntaxError\u001b[39m\u001b[31m:\u001b[39m invalid syntax\n"
     ]
    }
   ],
   "source": [
    "<img src=\"https://i.imgur.com/JZeF9ix.png\" width=\"520\">"
   ]
  },
  {
   "cell_type": "code",
   "execution_count": 135,
   "id": "5fb23783-7fe6-49ad-964b-7fdd49e0bf68",
   "metadata": {},
   "outputs": [],
   "source": [
    "class Tree:\n",
    "    def __init__(self,key):\n",
    "        self.key=key\n",
    "        self.right=None\n",
    "        self.left=None"
   ]
  },
  {
   "cell_type": "code",
   "execution_count": 141,
   "id": "49173aa4-bc4e-493b-a8a5-c6157dafa59c",
   "metadata": {},
   "outputs": [],
   "source": [
    "node0=Tree(5)\n",
    "node1=Tree(2)\n",
    "node2=Tree(1)\n",
    "node3=Tree(3)\n",
    "node4=Tree(8)\n",
    "node5=Tree(7)\n",
    "node6=Tree(9)"
   ]
  },
  {
   "cell_type": "code",
   "execution_count": 142,
   "id": "423d12be-335a-4522-8ec2-2f4e726ef676",
   "metadata": {},
   "outputs": [],
   "source": [
    "tr3=node0"
   ]
  },
  {
   "cell_type": "code",
   "execution_count": 143,
   "id": "bb078c3d-023e-48af-aa04-46039591d0e9",
   "metadata": {},
   "outputs": [],
   "source": [
    "tr3.left=node1\n",
    "tr3.right=node4\n",
    "node1.left=node2\n",
    "node1.right=node3\n",
    "node4.left=node5\n",
    "node4.right=node6"
   ]
  },
  {
   "cell_type": "code",
   "execution_count": 145,
   "id": "f7a05a49-06ac-483c-bba8-2fad2cc0a447",
   "metadata": {},
   "outputs": [
    {
     "name": "stdout",
     "output_type": "stream",
     "text": [
      "1\n",
      "3\n",
      "7\n",
      "9\n"
     ]
    },
    {
     "data": {
      "text/plain": [
       "(((1,), 2, (3,)), 5, ((7,), 8, (9,)))"
      ]
     },
     "execution_count": 145,
     "metadata": {},
     "output_type": "execute_result"
    }
   ],
   "source": [
    "tree_to_tuple(tr3)"
   ]
  },
  {
   "cell_type": "code",
   "execution_count": 146,
   "id": "90c1e82d-c3da-41be-a01c-1cd7896b5740",
   "metadata": {},
   "outputs": [
    {
     "data": {
      "text/plain": [
       "(True, 1, 9)"
      ]
     },
     "execution_count": 146,
     "metadata": {},
     "output_type": "execute_result"
    }
   ],
   "source": [
    "is_bst(tr3)"
   ]
  },
  {
   "cell_type": "code",
   "execution_count": null,
   "id": "26de5347-f977-4f39-9914-236f68598fa0",
   "metadata": {},
   "outputs": [],
   "source": []
  }
 ],
 "metadata": {
  "kernelspec": {
   "display_name": "Python 3 (ipykernel)",
   "language": "python",
   "name": "python3"
  },
  "language_info": {
   "codemirror_mode": {
    "name": "ipython",
    "version": 3
   },
   "file_extension": ".py",
   "mimetype": "text/x-python",
   "name": "python",
   "nbconvert_exporter": "python",
   "pygments_lexer": "ipython3",
   "version": "3.11.0"
  }
 },
 "nbformat": 4,
 "nbformat_minor": 5
}
