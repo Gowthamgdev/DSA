{
 "cells": [
  {
   "cell_type": "markdown",
   "id": "8276e384-b2dc-46f2-b83d-056ec9415930",
   "metadata": {},
   "source": [
    "# Dynamic Programing- Longest Common Subsequence"
   ]
  },
  {
   "cell_type": "markdown",
   "id": "cb66af74-8a86-4e37-80cf-84f6a1aadef4",
   "metadata": {},
   "source": [
    "## Longest Common Subsequence\n",
    "\n",
    "> **QUESTION 1**: Write a function to find the length of the **longest common subsequence** between two sequences. E.g. Given the strings \"serendipitous\" and \"precipitation\", the longest common subsequence is \"reipito\" and its length is 7.\n",
    ">\n",
    "> A \"sequence\" is a group of items with a deterministic ordering. Lists, tuples and ranges are some common sequence types in Python.\n",
    ">\n",
    "> A \"subsequence\" is a sequence obtained by deleting zero or more elements from another sequence. For example, \"edpt\" is a subsequence of \"serendipitous\".\n",
    "\n",
    "\n",
    "\n",
    "\n",
    "#### General case\n",
    "\n",
    "<img src=\"https://i.imgur.com/ry4Y0wS.png\" width=\"420\">\n",
    "\n",
    "#### Test cases\n",
    "\n",
    "1. General case (string)\n",
    "2. General case (list)\n",
    "3. No common subsequence\n",
    "4. One is a subsequence of the other\n",
    "5. One sequence is empty\n",
    "6. Both sequences are empty\n",
    "7. Multiple subsequences with same length\n",
    "    1. “abcdef” and “badcfe”\n",
    "\n"
   ]
  },
  {
   "cell_type": "code",
   "execution_count": null,
   "id": "50a785f4-adc4-4846-9e47-e3f5ac4d77a4",
   "metadata": {},
   "outputs": [],
   "source": []
  }
 ],
 "metadata": {
  "kernelspec": {
   "display_name": "Python 3 (ipykernel)",
   "language": "python",
   "name": "python3"
  },
  "language_info": {
   "codemirror_mode": {
    "name": "ipython",
    "version": 3
   },
   "file_extension": ".py",
   "mimetype": "text/x-python",
   "name": "python",
   "nbconvert_exporter": "python",
   "pygments_lexer": "ipython3",
   "version": "3.11.0"
  }
 },
 "nbformat": 4,
 "nbformat_minor": 5
}
