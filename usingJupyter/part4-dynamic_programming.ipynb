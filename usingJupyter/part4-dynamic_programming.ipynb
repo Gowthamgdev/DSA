{
 "cells": [
  {
   "cell_type": "markdown",
   "id": "8276e384-b2dc-46f2-b83d-056ec9415930",
   "metadata": {},
   "source": [
    "# Dynamic Programing- Longest Common Subsequence"
   ]
  },
  {
   "cell_type": "markdown",
   "id": "cb66af74-8a86-4e37-80cf-84f6a1aadef4",
   "metadata": {},
   "source": [
    "## Longest Common Subsequence\n",
    "\n",
    "> **QUESTION 1**: Write a function to find the length of the **longest common subsequence** between two sequences. E.g. Given the strings \"serendipitous\" and \"precipitation\", the longest common subsequence is \"reipito\" and its length is 7.\n",
    ">\n",
    "> A \"sequence\" is a group of items with a deterministic ordering. Lists, tuples and ranges are some common sequence types in Python.\n",
    ">\n",
    "> A \"subsequence\" is a sequence obtained by deleting zero or more elements from another sequence. For example, \"edpt\" is a subsequence of \"serendipitous\".\n",
    "\n",
    "\n",
    "\n",
    "\n",
    "#### General case\n",
    "\n",
    "<img src=\"https://i.imgur.com/ry4Y0wS.png\" width=\"420\">\n",
    "\n",
    "#### Test cases\n",
    "\n",
    "1. General case (string)\n",
    "2. General case (list)\n",
    "3. No common subsequence\n",
    "4. One is a subsequence of the other\n",
    "5. One sequence is empty\n",
    "6. Both sequences are empty\n",
    "7. Multiple subsequences with same length\n",
    "    1. “abcdef” and “badcfe”\n",
    "\n"
   ]
  },
  {
   "cell_type": "markdown",
   "id": "9ce8dc1c-01a9-49fd-a430-9d8c3fff9ebd",
   "metadata": {},
   "source": [
    "## Using Step1\n",
    "\n",
    "Problem:\n",
    "we are given two sequencies and we need to find longest common subsequences of that two sequncies. losngest common subsequences means a elements that should be exists in same order in both sequences, that will be make subsequence.\n",
    "\n",
    "Input:\n",
    "input will be two sequences\n",
    "\n",
    "Output:\n",
    "output will be longets common subsequences length"
   ]
  },
  {
   "cell_type": "markdown",
   "id": "0792ad8b-3633-474a-9553-83d214f5d029",
   "metadata": {},
   "source": [
    "## Using step 2"
   ]
  },
  {
   "cell_type": "code",
   "execution_count": 8,
   "id": "50a785f4-adc4-4846-9e47-e3f5ac4d77a4",
   "metadata": {},
   "outputs": [],
   "source": [
    "T0={\n",
    "    'input':{\n",
    "        'seq1':'serendipitous',\n",
    "        'seq2':'precipitation'\n",
    "    },\n",
    "    'output':7\n",
    "}\n",
    "T1 = {\n",
    "    'input': {\n",
    "        'seq1': [1, 3, 5, 6, 7, 2, 5, 2, 3],\n",
    "        'seq2': [6, 2, 4, 7, 1, 5, 6, 2, 3]\n",
    "    },\n",
    "    'output': 5\n",
    "}\n",
    "\n",
    "T2 = {\n",
    "    'input': {\n",
    "        'seq1': 'longest',\n",
    "        'seq2': 'stone'\n",
    "    },\n",
    "    'output': 3\n",
    "}\n",
    "\n",
    "T3 = {\n",
    "    'input': {\n",
    "        'seq1': 'asdfwevad',\n",
    "        'seq2': 'opkpoiklklj'\n",
    "    },\n",
    "    'output': 0\n",
    "}\n",
    "\n",
    "T4 = {\n",
    "    'input': {\n",
    "        'seq1': 'dense',\n",
    "        'seq2': 'condensed'\n",
    "    },\n",
    "    'output': 5\n",
    "}\n",
    "\n",
    "T5 = {\n",
    "    'input': {\n",
    "        'seq1': '',\n",
    "        'seq2': 'opkpoiklklj'\n",
    "    },\n",
    "    'output': 0\n",
    "}\n",
    "\n",
    "T6 = {\n",
    "    'input': {\n",
    "        'seq1': '',\n",
    "        'seq2': ''\n",
    "    },\n",
    "    'output': 0\n",
    "}\n",
    "\n",
    "T7 = {\n",
    "    'input': {\n",
    "        'seq1': 'abcdef',\n",
    "        'seq2': 'badcfe'\n",
    "    },\n",
    "    'output': 3\n",
    "}\n",
    "T8={\n",
    "    'input':{\n",
    "        'seq1':'dedkwsm',\n",
    "        'seq2':[2,3,4,5,6]\n",
    "    },\n",
    "    'output':0\n",
    "}"
   ]
  },
  {
   "cell_type": "code",
   "execution_count": 9,
   "id": "dc4313d3-f616-4a1f-b8a3-9af72c78d6dc",
   "metadata": {},
   "outputs": [],
   "source": [
    "tests=[T0,T1,T2,T3,T4,T5,T6,T7,T8]"
   ]
  },
  {
   "cell_type": "code",
   "execution_count": 10,
   "id": "c527e951-afa3-4264-938a-f38c227c7684",
   "metadata": {},
   "outputs": [
    {
     "data": {
      "text/plain": [
       "[{'input': {'seq1': 'serendipitous', 'seq2': 'precipitation'}, 'output': 7},\n",
       " {'input': {'seq1': [1, 3, 5, 6, 7, 2, 5, 2, 3],\n",
       "   'seq2': [6, 2, 4, 7, 1, 5, 6, 2, 3]},\n",
       "  'output': 5},\n",
       " {'input': {'seq1': 'longest', 'seq2': 'stone'}, 'output': 3},\n",
       " {'input': {'seq1': 'asdfwevad', 'seq2': 'opkpoiklklj'}, 'output': 0},\n",
       " {'input': {'seq1': 'dense', 'seq2': 'condensed'}, 'output': 5},\n",
       " {'input': {'seq1': '', 'seq2': 'opkpoiklklj'}, 'output': 0},\n",
       " {'input': {'seq1': '', 'seq2': ''}, 'output': 0},\n",
       " {'input': {'seq1': 'abcdef', 'seq2': 'badcfe'}, 'output': 3},\n",
       " {'input': {'seq1': 'dedkwsm', 'seq2': [2, 3, 4, 5, 6]}, 'output': 0}]"
      ]
     },
     "execution_count": 10,
     "metadata": {},
     "output_type": "execute_result"
    }
   ],
   "source": [
    "tests"
   ]
  },
  {
   "cell_type": "code",
   "execution_count": 11,
   "id": "87874ff9-1050-420a-82f1-36712dbcfc84",
   "metadata": {},
   "outputs": [],
   "source": [
    "def lcs_seq():\n",
    "    pass"
   ]
  },
  {
   "cell_type": "markdown",
   "id": "0a65e597-f0fc-46da-b219-7271c9c82479",
   "metadata": {},
   "source": [
    "## Using srep 3"
   ]
  },
  {
   "cell_type": "markdown",
   "id": "15bfd239-2bbd-4a8e-8601-f7b59b0a6f05",
   "metadata": {},
   "source": [
    "#### Recursive Solution\n",
    "\n",
    "\n",
    "1. Create two counters `idx1` and `idx2` starting at 0. Our recursive function will compute the LCS of `seq1[idx1:]` and `seq2[idx2:]`\n",
    "\n",
    "\n",
    "2. If `seq1[idx1]` and `seq2[idx2]` are equal, then this character belongs to the LCS of `seq1[idx1:]` and `seq2[idx2:]` (why?). Further the length this is LCS is one more than LCS of `seq1[idx1+1:]` and  `seq2[idx2+1:]`\n",
    "\n",
    "<img src=\"https://i.imgur.com/um7LDiX.png\" width=\"400\">\n",
    "\n",
    "3. If not, then the LCS of `seq1[idx1:]` and `seq2[idx2:]` is the longer one among the LCS of `seq1[idx1+1:], seq2[idx2:]` and the LCS of `seq1[idx1:]`, `seq2[idx2+1:]`\n",
    "\n",
    "<img src=\"https://i.imgur.com/DRanmOy.png\" width=\"360\">\n",
    "\n",
    "5. If either `seq1[idx1:]` or `seq2[idx2:]` is empty, then their LCS is empty.\n",
    "\n",
    "\n",
    "\n",
    "Here's what the tree of recursive calls looks like:\n",
    "\n",
    "\n",
    "![](https://i.imgur.com/JJrq3KH.png)\n",
    "\n",
    "\n",
    "\n"
   ]
  },
  {
   "cell_type": "code",
   "execution_count": null,
   "id": "4d1bcdf0-c892-4807-8801-f034562bd890",
   "metadata": {},
   "outputs": [],
   "source": []
  },
  {
   "cell_type": "code",
   "execution_count": null,
   "id": "ee3b50c6-43ad-4be8-8905-6eb8abf849cf",
   "metadata": {},
   "outputs": [],
   "source": []
  },
  {
   "cell_type": "code",
   "execution_count": null,
   "id": "a66aca23-be54-482d-b7da-c4801d76fbf6",
   "metadata": {},
   "outputs": [],
   "source": []
  }
 ],
 "metadata": {
  "kernelspec": {
   "display_name": "Python 3 (ipykernel)",
   "language": "python",
   "name": "python3"
  },
  "language_info": {
   "codemirror_mode": {
    "name": "ipython",
    "version": 3
   },
   "file_extension": ".py",
   "mimetype": "text/x-python",
   "name": "python",
   "nbconvert_exporter": "python",
   "pygments_lexer": "ipython3",
   "version": "3.11.0"
  }
 },
 "nbformat": 4,
 "nbformat_minor": 5
}
